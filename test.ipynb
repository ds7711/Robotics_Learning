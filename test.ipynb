{
 "cells": [
  {
   "cell_type": "code",
   "execution_count": 4,
   "metadata": {
    "collapsed": true
   },
   "outputs": [],
   "source": [
    "# import libraries\n",
    "import numpy as np\n",
    "import pandas as pd\n",
    "from vpython import *"
   ]
  },
  {
   "cell_type": "code",
   "execution_count": 5,
   "metadata": {
    "collapsed": false
   },
   "outputs": [],
   "source": [
    "class Robotic_Manipulator_Naive(object):\n",
    "\n",
    "    def __init__(self, link_lengthes):\n",
    "        \"\"\"\n",
    "        rotation axises and relationship between consecutive links are pre-determined and cannot be changed\n",
    "        :param link_lengthes:\n",
    "        \"\"\"\n",
    "        self.link_lengthes = link_lengthes\n",
    "        self.joint_relative_locations = np.asarray([[0, 0, self.link_lengthes[0], 1],\n",
    "                                                    [0, 0, self.link_lengthes[1], 1],\n",
    "                                                    [0, self.link_lengthes[2], 0, 1],\n",
    "                                                    [0, self.link_lengthes[3], 0, 1],\n",
    "                                                    [0, self.link_lengthes[4], 0, 1],\n",
    "                                                    [self.link_lengthes[5], 0, 0, 1],\n",
    "                                                    [self.link_lengthes[6], 0, 0, 1]\n",
    "                                                    ])\n",
    "        self.rotation_axises = [\"z\", \"x\", \"x\", \"z\", \"y\", \"y\"]\n",
    "        self.initial_relative_angles = [0, 0, 0, 0, np.pi, 0]\n",
    "\n",
    "        def r10(q, idx=0):\n",
    "            initial_q = self.initial_relative_angles[idx]\n",
    "            l = self.link_lengthes[idx]\n",
    "            q += initial_q\n",
    "            hm = np.asarray([[np.cos(q), -np.sin(q), 0, 0],\n",
    "                             [np.sin(q), np.cos(q), 0, 0],\n",
    "                             [0, 0, 1, l],\n",
    "                             [0, 0, 0, 1]])\n",
    "            return(hm)\n",
    "\n",
    "        def r21(q, idx=1):\n",
    "            initial_q = self.initial_relative_angles[idx]\n",
    "            l = self.link_lengthes[idx]\n",
    "            q += initial_q\n",
    "            hm = np.asarray([[1, 0, 0, 0],\n",
    "                             [0, np.cos(q), -np.sin(q), 0],\n",
    "                             [0, np.sin(q), np.cos(q), l],\n",
    "                             [0, 0, 0, 1]])\n",
    "            return(hm)\n",
    "\n",
    "        def r32(q, idx=2):\n",
    "            initial_q = self.initial_relative_angles[idx]\n",
    "            l = self.link_lengthes[idx]\n",
    "            q += initial_q\n",
    "            hm = np.asarray([[1, 0, 0, 0],\n",
    "                             [0, np.cos(q), -np.sin(q), 0],\n",
    "                             [0, np.sin(q), np.cos(q), l],\n",
    "                             [0, 0, 0, 1]])\n",
    "            return(hm)\n",
    "\n",
    "        def r43(q, idx=3):\n",
    "            initial_q = self.initial_relative_angles[idx]\n",
    "            l = self.link_lengthes[idx]\n",
    "            q += initial_q\n",
    "            hm = np.asarray([[np.cos(q), -np.sin(q), 0, 0],\n",
    "                             [np.sin(q), np.cos(q), 0, l],\n",
    "                             [0, 0, 1, 0],\n",
    "                             [0, 0, 0, 1]])\n",
    "            return(hm)\n",
    "\n",
    "        def r54(q, idx=4):\n",
    "            initial_q = self.initial_relative_angles[idx]\n",
    "            l = self.link_lengthes[idx]\n",
    "            q += initial_q\n",
    "            hm = np.asarray([[np.cos(q), 0, -np.sin(q), 0],\n",
    "                             [0, 1, 0, l],\n",
    "                             [np.sin(q), 0, np.cos(q), 0],\n",
    "                             [0, 0, 0, 1]])\n",
    "            return(hm)\n",
    "\n",
    "        def r65(q, idx=5):\n",
    "            initial_q = self.initial_relative_angles[idx]\n",
    "            l = self.link_lengthes[idx]\n",
    "            q += initial_q\n",
    "            hm = np.asarray([[np.cos(q), 0, -np.sin(q), l],\n",
    "                             [0, 1, 0, 0],\n",
    "                             [np.sin(q), 0, np.cos(q), 0],\n",
    "                             [0, 0, 0, 1]])\n",
    "            return(hm)\n",
    "\n",
    "\n",
    "        self.ht_list = [r10, r21, r32, r43, r54, r65]\n",
    "\n",
    "\n",
    "    def forward_kinematics(self, qs, x, reference_frame=6):\n",
    "        transform_list = self.ht_list[:reference_frame]\n",
    "        transform_list = transform_list[::-1]\n",
    "\n",
    "        qs = qs[:reference_frame]\n",
    "        qs = qs[::-1]\n",
    "\n",
    "        new_x = x\n",
    "        for hm, q in zip(transform_list, qs):\n",
    "            new_x = np.dot(hm(q), new_x)\n",
    "        return(new_x)\n",
    "\n",
    "    def loc_joints(self, qs):\n",
    "        joint_abs_locations = []\n",
    "        for idx, rel_loc in enumerate(self.joint_relative_locations):\n",
    "            tmp_loc = self.forward_kinematics(qs, rel_loc, reference_frame=idx)\n",
    "            joint_abs_locations.append(tmp_loc)\n",
    "        return(np.asarray(joint_abs_locations))\n"
   ]
  },
  {
   "cell_type": "code",
   "execution_count": null,
   "metadata": {
    "collapsed": true
   },
   "outputs": [],
   "source": []
  },
  {
   "cell_type": "code",
   "execution_count": 6,
   "metadata": {
    "collapsed": false
   },
   "outputs": [],
   "source": [
    "link_lengthes = [1, 10, 1, 1, 1, 1, 1]\n",
    "rm = Robotic_Manipulator_Naive(link_lengthes)"
   ]
  },
  {
   "cell_type": "code",
   "execution_count": 13,
   "metadata": {
    "collapsed": false
   },
   "outputs": [
    {
     "name": "stdout",
     "output_type": "stream",
     "text": [
      "[[  0.           0.           1.        ]\n",
      " [  0.           0.          11.        ]\n",
      " [ -0.5          0.8660254   11.        ]\n",
      " [ -0.5          0.8660254   12.        ]\n",
      " [ -1.           1.73205081  12.        ]\n",
      " [ -1.8660254    1.23205081  12.        ]\n",
      " [ -2.73205081   0.73205081  12.        ]]\n"
     ]
    }
   ],
   "source": [
    "qs = [0] * 6\n",
    "qs[0] = np.pi / 6\n",
    "joint_locs = rm.loc_joints(qs)\n",
    "print(joint_locs[:, :3])"
   ]
  },
  {
   "cell_type": "code",
   "execution_count": null,
   "metadata": {
    "collapsed": true
   },
   "outputs": [],
   "source": []
  },
  {
   "cell_type": "code",
   "execution_count": 15,
   "metadata": {
    "collapsed": false
   },
   "outputs": [
    {
     "name": "stderr",
     "output_type": "stream",
     "text": [
      "/home/md/anaconda2/lib/python2.7/site-packages/vpython/vpython.py:1977: FutureWarning: comparison to `None` will result in an elementwise object comparison in the future.\n",
      "  if tpos != None:\n"
     ]
    },
    {
     "ename": "AttributeError",
     "evalue": "Point information must be a vector or a dictionary",
     "output_type": "error",
     "traceback": [
      "\u001b[1;31m---------------------------------------------------------------------------\u001b[0m",
      "\u001b[1;31mAttributeError\u001b[0m                            Traceback (most recent call last)",
      "\u001b[1;32m<ipython-input-15-c21bf5484798>\u001b[0m in \u001b[0;36m<module>\u001b[1;34m()\u001b[0m\n\u001b[1;32m----> 1\u001b[1;33m \u001b[0mcurve\u001b[0m\u001b[1;33m(\u001b[0m\u001b[0mpos\u001b[0m\u001b[1;33m=\u001b[0m\u001b[0mjoint_locs\u001b[0m\u001b[1;33m[\u001b[0m\u001b[1;33m:\u001b[0m\u001b[1;33m,\u001b[0m \u001b[1;33m:\u001b[0m\u001b[1;36m3\u001b[0m\u001b[1;33m]\u001b[0m\u001b[1;33m)\u001b[0m\u001b[1;33m\u001b[0m\u001b[0m\n\u001b[0m",
      "\u001b[1;32m/home/md/anaconda2/lib/python2.7/site-packages/vpython/vpython.pyc\u001b[0m in \u001b[0;36m__init__\u001b[1;34m(self, *args1, **args)\u001b[0m\n\u001b[0;32m   1977\u001b[0m         \u001b[1;32mif\u001b[0m \u001b[0mtpos\u001b[0m \u001b[1;33m!=\u001b[0m \u001b[0mNone\u001b[0m\u001b[1;33m:\u001b[0m\u001b[1;33m\u001b[0m\u001b[0m\n\u001b[0;32m   1978\u001b[0m             \u001b[1;32mif\u001b[0m \u001b[0mlen\u001b[0m\u001b[1;33m(\u001b[0m\u001b[0margs1\u001b[0m\u001b[1;33m)\u001b[0m \u001b[1;33m>\u001b[0m \u001b[1;36m0\u001b[0m\u001b[1;33m:\u001b[0m \u001b[1;32mraise\u001b[0m \u001b[0mAttributeError\u001b[0m\u001b[1;33m(\u001b[0m\u001b[1;34m'Malformed constructor'\u001b[0m\u001b[1;33m)\u001b[0m\u001b[1;33m\u001b[0m\u001b[0m\n\u001b[1;32m-> 1979\u001b[1;33m             \u001b[0mself\u001b[0m\u001b[1;33m.\u001b[0m\u001b[0mappend\u001b[0m\u001b[1;33m(\u001b[0m\u001b[0mtpos\u001b[0m\u001b[1;33m)\u001b[0m\u001b[1;33m\u001b[0m\u001b[0m\n\u001b[0m\u001b[0;32m   1980\u001b[0m         \u001b[1;32mif\u001b[0m \u001b[0mlen\u001b[0m\u001b[1;33m(\u001b[0m\u001b[0margs1\u001b[0m\u001b[1;33m)\u001b[0m \u001b[1;33m>\u001b[0m \u001b[1;36m0\u001b[0m\u001b[1;33m:\u001b[0m\u001b[1;33m\u001b[0m\u001b[0m\n\u001b[0;32m   1981\u001b[0m             \u001b[0mself\u001b[0m\u001b[1;33m.\u001b[0m\u001b[0mappend\u001b[0m\u001b[1;33m(\u001b[0m\u001b[1;33m*\u001b[0m\u001b[0margs1\u001b[0m\u001b[1;33m)\u001b[0m\u001b[1;33m\u001b[0m\u001b[0m\n",
      "\u001b[1;32m/home/md/anaconda2/lib/python2.7/site-packages/vpython/vpython.pyc\u001b[0m in \u001b[0;36mappend\u001b[1;34m(self, *args1, **args)\u001b[0m\n\u001b[0;32m   1836\u001b[0m \u001b[1;33m\u001b[0m\u001b[0m\n\u001b[0;32m   1837\u001b[0m     \u001b[1;32mdef\u001b[0m \u001b[0mappend\u001b[0m\u001b[1;33m(\u001b[0m\u001b[0mself\u001b[0m\u001b[1;33m,\u001b[0m \u001b[1;33m*\u001b[0m\u001b[0margs1\u001b[0m\u001b[1;33m,\u001b[0m \u001b[1;33m**\u001b[0m\u001b[0margs\u001b[0m\u001b[1;33m)\u001b[0m\u001b[1;33m:\u001b[0m\u001b[1;33m\u001b[0m\u001b[0m\n\u001b[1;32m-> 1838\u001b[1;33m         \u001b[0mpts\u001b[0m\u001b[1;33m,\u001b[0m \u001b[0mcps\u001b[0m \u001b[1;33m=\u001b[0m \u001b[0mself\u001b[0m\u001b[1;33m.\u001b[0m\u001b[0mprocess_args\u001b[0m\u001b[1;33m(\u001b[0m\u001b[1;33m*\u001b[0m\u001b[0margs1\u001b[0m\u001b[1;33m,\u001b[0m \u001b[1;33m**\u001b[0m\u001b[0margs\u001b[0m\u001b[1;33m)\u001b[0m\u001b[1;33m\u001b[0m\u001b[0m\n\u001b[0m\u001b[0;32m   1839\u001b[0m         \u001b[0mself\u001b[0m\u001b[1;33m.\u001b[0m\u001b[0m_pts\u001b[0m\u001b[1;33m.\u001b[0m\u001b[0mextend\u001b[0m\u001b[1;33m(\u001b[0m\u001b[0mpts\u001b[0m\u001b[1;33m)\u001b[0m\u001b[1;33m\u001b[0m\u001b[0m\n\u001b[0;32m   1840\u001b[0m         \u001b[0mself\u001b[0m\u001b[1;33m.\u001b[0m\u001b[0mappendcmd\u001b[0m\u001b[1;33m(\u001b[0m\u001b[1;33m{\u001b[0m\u001b[1;34m\"val\"\u001b[0m\u001b[1;33m:\u001b[0m\u001b[0mcps\u001b[0m\u001b[1;33m[\u001b[0m\u001b[1;33m:\u001b[0m\u001b[1;33m]\u001b[0m\u001b[1;33m,\u001b[0m\u001b[1;34m\"method\"\u001b[0m\u001b[1;33m:\u001b[0m\u001b[1;34m\"append\"\u001b[0m\u001b[1;33m,\u001b[0m\u001b[1;34m\"idx\"\u001b[0m\u001b[1;33m:\u001b[0m\u001b[0mself\u001b[0m\u001b[1;33m.\u001b[0m\u001b[0midx\u001b[0m\u001b[1;33m}\u001b[0m\u001b[1;33m)\u001b[0m\u001b[1;33m\u001b[0m\u001b[0m\n",
      "\u001b[1;32m/home/md/anaconda2/lib/python2.7/site-packages/vpython/vpython.pyc\u001b[0m in \u001b[0;36mprocess_args\u001b[1;34m(self, *args1, **args)\u001b[0m\n\u001b[0;32m   1780\u001b[0m         \u001b[1;32mif\u001b[0m \u001b[0mlen\u001b[0m\u001b[1;33m(\u001b[0m\u001b[0margs1\u001b[0m\u001b[1;33m)\u001b[0m \u001b[1;33m>\u001b[0m \u001b[1;36m0\u001b[0m\u001b[1;33m:\u001b[0m\u001b[1;33m\u001b[0m\u001b[0m\n\u001b[0;32m   1781\u001b[0m             \u001b[1;32mif\u001b[0m \u001b[0mlen\u001b[0m\u001b[1;33m(\u001b[0m\u001b[0margs1\u001b[0m\u001b[1;33m)\u001b[0m \u001b[1;33m==\u001b[0m \u001b[1;36m1\u001b[0m\u001b[1;33m:\u001b[0m\u001b[1;33m\u001b[0m\u001b[0m\n\u001b[1;32m-> 1782\u001b[1;33m                 \u001b[0mtpos\u001b[0m \u001b[1;33m=\u001b[0m \u001b[0mself\u001b[0m\u001b[1;33m.\u001b[0m\u001b[0mparse_pos\u001b[0m\u001b[1;33m(\u001b[0m\u001b[0margs1\u001b[0m\u001b[1;33m[\u001b[0m\u001b[1;36m0\u001b[0m\u001b[1;33m]\u001b[0m\u001b[1;33m)\u001b[0m\u001b[1;33m\u001b[0m\u001b[0m\n\u001b[0m\u001b[0;32m   1783\u001b[0m             \u001b[1;32melse\u001b[0m\u001b[1;33m:\u001b[0m  \u001b[1;31m## avoid nested tuples\u001b[0m\u001b[1;33m\u001b[0m\u001b[0m\n\u001b[0;32m   1784\u001b[0m                 \u001b[0mtlist\u001b[0m \u001b[1;33m=\u001b[0m \u001b[0mlist\u001b[0m\u001b[1;33m(\u001b[0m\u001b[0margs1\u001b[0m\u001b[1;33m)\u001b[0m\u001b[1;33m\u001b[0m\u001b[0m\n",
      "\u001b[1;32m/home/md/anaconda2/lib/python2.7/site-packages/vpython/vpython.pyc\u001b[0m in \u001b[0;36mparse_pos\u001b[1;34m(self, *vars)\u001b[0m\n\u001b[0;32m   1830\u001b[0m             \u001b[1;32melse\u001b[0m\u001b[1;33m:\u001b[0m\u001b[1;33m\u001b[0m\u001b[0m\n\u001b[0;32m   1831\u001b[0m                 \u001b[1;32mif\u001b[0m \u001b[1;32mnot\u001b[0m \u001b[0mself\u001b[0m\u001b[1;33m.\u001b[0m\u001b[0m_constructing\u001b[0m\u001b[1;33m:\u001b[0m\u001b[1;33m\u001b[0m\u001b[0m\n\u001b[1;32m-> 1832\u001b[1;33m                     \u001b[1;32mraise\u001b[0m \u001b[0mAttributeError\u001b[0m\u001b[1;33m(\u001b[0m\u001b[1;34m\"Point information must be a vector or a dictionary\"\u001b[0m\u001b[1;33m)\u001b[0m\u001b[1;33m\u001b[0m\u001b[0m\n\u001b[0m\u001b[0;32m   1833\u001b[0m                 \u001b[1;32melse\u001b[0m\u001b[1;33m:\u001b[0m\u001b[1;33m\u001b[0m\u001b[0m\n\u001b[0;32m   1834\u001b[0m                     \u001b[1;32mraise\u001b[0m \u001b[0mAttributeError\u001b[0m\u001b[1;33m(\u001b[0m\u001b[1;34m\"Point pos must be a vector\"\u001b[0m\u001b[1;33m)\u001b[0m\u001b[1;33m\u001b[0m\u001b[0m\n",
      "\u001b[1;31mAttributeError\u001b[0m: Point information must be a vector or a dictionary"
     ]
    }
   ],
   "source": [
    "curve(pos=joint_locs[:, :3])"
   ]
  },
  {
   "cell_type": "code",
   "execution_count": 12,
   "metadata": {
    "collapsed": false
   },
   "outputs": [
    {
     "name": "stdout",
     "output_type": "stream",
     "text": [
      "[ 1.  1.  1.  1.  1.  1.  1.]\n"
     ]
    }
   ],
   "source": [
    "print(joint_locs[:, 3])"
   ]
  },
  {
   "cell_type": "code",
   "execution_count": null,
   "metadata": {
    "collapsed": true
   },
   "outputs": [],
   "source": []
  }
 ],
 "metadata": {
  "kernelspec": {
   "display_name": "VPython",
   "language": "python",
   "name": "vpython"
  },
  "language_info": {
   "codemirror_mode": {
    "name": "ipython",
    "version": 2
   },
   "file_extension": ".py",
   "mimetype": "text/x-python",
   "name": "python",
   "nbconvert_exporter": "python",
   "pygments_lexer": "ipython2",
   "version": "2.7.12"
  }
 },
 "nbformat": 4,
 "nbformat_minor": 0
}

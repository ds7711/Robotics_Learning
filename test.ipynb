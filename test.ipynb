{
 "cells": [
  {
   "cell_type": "code",
   "execution_count": 6,
   "metadata": {
    "collapsed": false
   },
   "outputs": [],
   "source": [
    "# import libraries\n",
    "from vpython import *\n",
    "import numpy as np\n",
    "import pandas as pd\n",
    "import robotics_library as rbl"
   ]
  },
  {
   "cell_type": "code",
   "execution_count": 7,
   "metadata": {
    "collapsed": true
   },
   "outputs": [],
   "source": [
    "link_lengthes = [1, 3, 1, 1, 1, 1, 1]\n",
    "rm = rbl.Robotic_Manipulator_Naive(link_lengthes)"
   ]
  },
  {
   "cell_type": "code",
   "execution_count": 8,
   "metadata": {
    "collapsed": true
   },
   "outputs": [],
   "source": [
    "qs = [0] * 6\n",
    "# qs[0] = np.pi / 6\n",
    "joint_locs = rm.loc_joints(qs)\n",
    "# print(joint_locs[:, :3])"
   ]
  },
  {
   "cell_type": "code",
   "execution_count": 9,
   "metadata": {
    "collapsed": false
   },
   "outputs": [],
   "source": [
    "def draw_robotics(joint_locs):\n",
    "    # color list\n",
    "    color_list = [color.cyan, color.yellow, color.magenta, color.orange, vector(0.7, 0.2, 0.1),\n",
    "                  vector(0.2, 0.1, 0.7), vector(0.7, 0.7, 0.8)]\n",
    "    \n",
    "    # draw the links\n",
    "    c = curve(pos=[vector(0, 0, 0), vector(*joint_locs[0, :3])], radius=0.5)\n",
    "    pts = []\n",
    "    for idx in xrange(1, len(joint_locs), 1):\n",
    "        p0 = vector(*joint_locs[idx-1, :3])\n",
    "        p1 = vector(*joint_locs[idx, :3])\n",
    "        c = curve(pos=[p0, p1], color=color_list[idx])\n",
    "        \n",
    "    box(pos=vector(*joint_locs[-1, :3]), length=0.7, height=0.2, width=0.3)\n",
    "#     display()\n",
    "\n",
    "qs = [np.pi/6, np.pi/4, -np.pi/4, np.pi/2, np.pi/4, -np.pi/6]\n",
    "qs = [0] * 6\n",
    "rm.configure_robots(qs)\n",
    "draw_robotics(rm.joint_abs_locations)"
   ]
  },
  {
   "cell_type": "code",
   "execution_count": 10,
   "metadata": {
    "collapsed": false
   },
   "outputs": [
    {
     "name": "stdout",
     "output_type": "stream",
     "text": [
      "<0.000000, 0.000000, 1.732051> <0.000000, 1.000000, 0.000000> <0.000000, 0.000000, -1.000000>\n"
     ]
    }
   ],
   "source": [
    "print(scene.camera.pos, scene.up, scene.forward)"
   ]
  },
  {
   "cell_type": "code",
   "execution_count": 15,
   "metadata": {
    "collapsed": false,
    "scrolled": false
   },
   "outputs": [
    {
     "data": {
      "text/html": [
       "<div id=\"glowscript\" class=\"glowscript\"></div>"
      ],
      "text/plain": [
       "<IPython.core.display.HTML object>"
      ]
     },
     "metadata": {},
     "output_type": "display_data"
    },
    {
     "data": {
      "application/javascript": [
       "window.__context = { glowscript_container: $(\"#glowscript\").removeAttr(\"id\")}"
      ],
      "text/plain": [
       "<IPython.core.display.Javascript object>"
      ]
     },
     "metadata": {},
     "output_type": "display_data"
    }
   ],
   "source": [
    "qs = [np.pi/6, np.pi/4, -np.pi/4, np.pi/2, np.pi/4, -np.pi/6]\n",
    "num_rotations = 6\n",
    "qs = [0] * 6\n",
    "scene = canvas(background=color.black)\n",
    "link_lengthes = [1, 3, 1, 1, 1, 1, 1]\n",
    "rm = rbl.Robotic_Manipulator_Naive(link_lengthes)\n",
    "rm.configure_robots(qs)\n",
    "draw_robotics(rm.joint_abs_locations)"
   ]
  },
  {
   "cell_type": "code",
   "execution_count": 73,
   "metadata": {
    "collapsed": false
   },
   "outputs": [
    {
     "data": {
      "text/html": [
       "<div id=\"glowscript\" class=\"glowscript\"></div>"
      ],
      "text/plain": [
       "<IPython.core.display.HTML object>"
      ]
     },
     "metadata": {},
     "output_type": "display_data"
    },
    {
     "data": {
      "application/javascript": [
       "window.__context = { glowscript_container: $(\"#glowscript\").removeAttr(\"id\")}"
      ],
      "text/plain": [
       "<IPython.core.display.Javascript object>"
      ]
     },
     "metadata": {},
     "output_type": "display_data"
    }
   ],
   "source": [
    "target_angles = (np.random.rand(num_rotations) - 0.5) * np.pi\n",
    "target_angles[0] = np.pi / 2\n",
    "num_steps = 1\n",
    "delta_angles = target_angles / num_steps\n",
    "qs = np.zeros(num_rotations)\n",
    "rm.configure_robots(qs)\n",
    "\n",
    "# setup the scene\n",
    "scene = canvas(background=color.black, up=vector(-2, -1, -1), height=700)\n",
    "# scene.up = vector(-2, -1, -1)\n",
    "# scene.camera.pos=vector(*(np.random0.rand(3) - 0.5))\n",
    "scene.camera.pos=vector(2, 1.5, 0.5)\n",
    "# scene.camera.forward = vector(10, 10, 10)\n",
    "print(scene.camera.pos, scene.up, scene.forward)\n",
    "\n",
    "# plot the axises\n",
    "axis_length = 3\n",
    "x = arrow(pos=vector(0,0,0), axis=vector(axis_length,0,0), shaftwidth=0.1, color=color.red)\n",
    "text(text='x', pos=vector(axis_length,0,0), axis=vector(axis_length,0,0))\n",
    "y = arrow(pos=vector(0,0,0), axis=vector(0,axis_length,0), shaftwidth=0.1, color=color.green)\n",
    "text(text='y', pos=vector(0,axis_length,0), axis=vector(0,axis_length,0))\n",
    "z = arrow(pos=vector(0,0,0), axis=vector(0,0,-axis_length), shaftwidth=0.1, color=color.blue)\n",
    "text(text='-z', pos=vector(0,0,-axis_length), axis=vector(0,0,-axis_length))\n",
    "\n",
    "# draw robotics\n",
    "draw_robotics(rm.joint_abs_locations)\n",
    "# for idx in xrange(num_steps):\n",
    "#     rate(100)\n",
    "#     qs += delta_angles\n",
    "#     rm.configure_robots(qs)\n",
    "#     draw_robotics(rm.joint_abs_locations)"
   ]
  },
  {
   "cell_type": "code",
   "execution_count": null,
   "metadata": {
    "collapsed": true
   },
   "outputs": [],
   "source": []
  },
  {
   "cell_type": "code",
   "execution_count": 63,
   "metadata": {
    "collapsed": false
   },
   "outputs": [
    {
     "name": "stdout",
     "output_type": "stream",
     "text": [
      "<3.000000, 2.500000, 0.500000> <-2.000000, -1.000000, -1.000000> <0.000000, 0.000000, -1.000000>\n"
     ]
    }
   ],
   "source": [
    "print(scene.camera.pos, scene.up, scene.forward)"
   ]
  },
  {
   "cell_type": "code",
   "execution_count": 123,
   "metadata": {
    "collapsed": false
   },
   "outputs": [
    {
     "data": {
      "text/html": [
       "<div id=\"glowscript\" class=\"glowscript\"></div>"
      ],
      "text/plain": [
       "<IPython.core.display.HTML object>"
      ]
     },
     "metadata": {},
     "output_type": "display_data"
    },
    {
     "data": {
      "application/javascript": [
       "window.__context = { glowscript_container: $(\"#glowscript\").removeAttr(\"id\")}"
      ],
      "text/plain": [
       "<IPython.core.display.Javascript object>"
      ]
     },
     "metadata": {},
     "output_type": "display_data"
    }
   ],
   "source": [
    "target_angles = (np.random.rand(num_rotations) - 0.5) * np.pi\n",
    "target_angles[0] = np.pi / 2\n",
    "num_steps = 1\n",
    "delta_angles = target_angles / num_steps\n",
    "qs = np.zeros(num_rotations)\n",
    "rm.configure_robots(qs)\n",
    "\n",
    "# setup the scene\n",
    "scene = canvas(background=color.black, up=vector(-1, -1, 0), height=700, center=vector(0, 0, 0))\n",
    "# scene.up = vector(-2, -1, -1)\n",
    "# scene.camera.pos=vector(*(np.random0.rand(3) - 0.5))\n",
    "# scene.camera.pos=vector(4, 4, 12.39794) / 1.0\n",
    "scene.camera.pos = vector(3.5, 3.5, 10)\n",
    "scene.camera.axis = vector(-3.5, -3.5, -10)\n",
    "# scene.center = vector(0, 0, 0)\n",
    "# scene.fov = 0.01\n",
    "# scene.camera.forward = vector(-0.5, -0.5,-0.5)\n",
    "print(scene.camera.pos, scene.up, scene.forward)\n",
    "\n",
    "# plot the axises\n",
    "axis_length = 3\n",
    "x = arrow(pos=vector(0,0,0), axis=vector(axis_length,0,0), shaftwidth=0.1, color=color.red)\n",
    "text(text='x', pos=vector(axis_length,0,0), axis=vector(axis_length,0,0))\n",
    "y = arrow(pos=vector(0,0,0), axis=vector(0,axis_length,0), shaftwidth=0.1, color=color.green)\n",
    "text(text='y', pos=vector(0,axis_length,0), axis=vector(0,axis_length,0))\n",
    "z = arrow(pos=vector(0,0,0), axis=vector(0,0,-axis_length), shaftwidth=0.1, color=color.blue)\n",
    "text(text='-z', pos=vector(0,0,-axis_length), axis=vector(0,0,-axis_length))\n",
    "\n",
    "# draw robotics\n",
    "draw_robotics(rm.joint_abs_locations)\n",
    "# for idx in xrange(num_steps):\n",
    "#     rate(100)\n",
    "#     qs += delta_angles\n",
    "#     rm.configure_robots(qs)\n",
    "#     draw_robotics(rm.joint_abs_locations)"
   ]
  },
  {
   "cell_type": "code",
   "execution_count": 122,
   "metadata": {
    "collapsed": false
   },
   "outputs": [
    {
     "name": "stdout",
     "output_type": "stream",
     "text": [
      "<3.350112, 3.350112, 10.063657> <-1.000000, -1.000000, 0.000000> <-0.301185, -0.301185, -0.904752> <0.000000, 0.000000, 0.000000> <-3.350112, -3.350112, -10.063657>\n"
     ]
    }
   ],
   "source": [
    "print(scene.camera.pos, scene.up, scene.forward, scene.center, scene.camera.axis)"
   ]
  },
  {
   "cell_type": "code",
   "execution_count": null,
   "metadata": {
    "collapsed": true
   },
   "outputs": [],
   "source": []
  },
  {
   "cell_type": "code",
   "execution_count": null,
   "metadata": {
    "collapsed": true
   },
   "outputs": [],
   "source": []
  },
  {
   "cell_type": "code",
   "execution_count": null,
   "metadata": {
    "collapsed": true
   },
   "outputs": [],
   "source": []
  },
  {
   "cell_type": "markdown",
   "metadata": {},
   "source": [
    "<6.228879, 6.228879, 9.455773> <-1.000000, -1.000000, 0.000000> <-0.481991, -0.481991, -0.731689>"
   ]
  }
 ],
 "metadata": {
  "kernelspec": {
   "display_name": "VPython",
   "language": "python",
   "name": "vpython"
  },
  "language_info": {
   "codemirror_mode": {
    "name": "ipython",
    "version": 2
   },
   "file_extension": ".py",
   "mimetype": "text/x-python",
   "name": "python",
   "nbconvert_exporter": "python",
   "pygments_lexer": "ipython2",
   "version": "2.7.12"
  }
 },
 "nbformat": 4,
 "nbformat_minor": 1
}

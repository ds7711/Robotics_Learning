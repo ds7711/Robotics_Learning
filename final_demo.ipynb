{
 "cells": [
  {
   "cell_type": "markdown",
   "metadata": {},
   "source": [
    "# possible extensions\n",
    "\n",
    "1. Add obstacles to the environment --> add constraints on the path to the goal\n",
    "\n",
    "2. How to let the robot effectively/efficiently learn to throw toward to different positions using previous throwing experience? \n",
    "\n",
    "3. Encourage the robot to complete the task as fast as possible. \n",
    "\n",
    "4. How to quickly learn to throw the balls into a moving busket after learning fixed busket"
   ]
  },
  {
   "cell_type": "code",
   "execution_count": 7,
   "metadata": {
    "collapsed": false
   },
   "outputs": [],
   "source": [
    "# import libraries\n",
    "from vpython import *\n",
    "import numpy as np\n",
    "import robotics_library as rbl"
   ]
  },
  {
   "cell_type": "code",
   "execution_count": 8,
   "metadata": {
    "collapsed": true
   },
   "outputs": [],
   "source": [
    "def draw_background():\n",
    "    scene = canvas(background=color.black, up=vector(-1, -1, 0), height=600, center=vector(0, 0, 0))\n",
    "    scene.camera.pos = vector(3.5, 3.5, 10)\n",
    "    scene.camera.axis = vector(-3.5, -3.5, -10)\n",
    "    \n",
    "    # plot the axises\n",
    "    axis_length = 3\n",
    "    x = arrow(pos=vector(0,0,0), axis=vector(axis_length,0,0), shaftwidth=0.1, color=color.red)\n",
    "    text(text='x', pos=vector(axis_length,0,0), axis=vector(axis_length,0,0))\n",
    "    y = arrow(pos=vector(0,0,0), axis=vector(0,axis_length,0), shaftwidth=0.1, color=color.green)\n",
    "    text(text='y', pos=vector(0,axis_length,0), axis=vector(0,axis_length,0))\n",
    "    z = arrow(pos=vector(0,0,0), axis=vector(0,0,-axis_length), shaftwidth=0.1, color=color.blue)\n",
    "    text(text='-z', pos=vector(0,0,-axis_length), axis=vector(0,0,-axis_length))\n",
    "    return(scene)\n",
    "\n",
    "def draw_robotics(joint_locs, objects2delete=[]):\n",
    "    \n",
    "    # delete the old positions\n",
    "    for obj in objects2delete:\n",
    "        obj.visible = False\n",
    "        del obj \n",
    "\n",
    "    # color list\n",
    "    color_list = [color.cyan, color.yellow, color.magenta, color.orange, vector(0.7, 0.2, 0.1),\n",
    "                  vector(0.2, 0.1, 0.7), vector(0.7, 0.7, 0.8)]\n",
    "    \n",
    "    # draw the links\n",
    "    curve_list = [[] for _ in xrange(len(joint_locs))] # container to store the objects that make up the robot\n",
    "    curve_list[0] = curve(pos=[vector(0, 0, 0), vector(*joint_locs[0, :3])], radius=0.5)\n",
    "\n",
    "    for idx in xrange(1, len(joint_locs), 1):\n",
    "        p0 = vector(*joint_locs[idx-1, :3])\n",
    "        p1 = vector(*joint_locs[idx, :3])\n",
    "        curve_list[idx] = curve(pos=[p0, p1], color=color_list[idx])\n",
    "        \n",
    "    end_effector = box(pos=vector(*joint_locs[-1, :3]), length=0.7, height=0.2, width=0.3)\n",
    "    curve_list.append(end_effector)\n",
    "\n",
    "    return(curve_list)"
   ]
  },
  {
   "cell_type": "code",
   "execution_count": 9,
   "metadata": {
    "collapsed": false
   },
   "outputs": [],
   "source": [
    "link_lengthes = [1, 3, 1, 1, 1, 1, 1]\n",
    "initial_angles = [0, 0, 0, 0, np.pi, 0]\n",
    "rm = rbl.Robotic_Manipulator_Naive(link_lengthes, initial_angles)\n",
    "num_rotations = len(initial_angles)"
   ]
  },
  {
   "cell_type": "markdown",
   "metadata": {},
   "source": [
    "## move the robot by applying acceleration"
   ]
  },
  {
   "cell_type": "code",
   "execution_count": 10,
   "metadata": {
    "collapsed": false
   },
   "outputs": [],
   "source": [
    "# apply acceleration joint by joint\n",
    "def test_accelerate_joint(joint_idx):\n",
    "    num_accelerations = 20\n",
    "    # first move in the \n",
    "    acceleration_1st = np.zeros((num_accelerations, len(rbl.action_spaces)))\n",
    "    acceleration_1st[:, joint_idx] = rbl.acceleration_resolution\n",
    "\n",
    "    acceleration_2nd = np.zeros((num_accelerations * 4, len(rbl.action_spaces)))\n",
    "    acceleration_2nd[:, joint_idx] = -1 * rbl.acceleration_resolution\n",
    "    \n",
    "    acceleration_3rd = np.zeros((num_accelerations * 3, len(rbl.action_spaces)))\n",
    "    acceleration_3rd[:, joint_idx] = rbl.acceleration_resolution\n",
    "    return(np.vstack([acceleration_1st, acceleration_2nd, acceleration_3rd]))"
   ]
  },
  {
   "cell_type": "code",
   "execution_count": 11,
   "metadata": {
    "collapsed": false
   },
   "outputs": [
    {
     "data": {
      "text/html": [
       "<div id=\"glowscript\" class=\"glowscript\"></div>"
      ],
      "text/plain": [
       "<IPython.core.display.HTML object>"
      ]
     },
     "metadata": {},
     "output_type": "display_data"
    },
    {
     "data": {
      "application/javascript": [
       "window.__context = { glowscript_container: $(\"#glowscript\").removeAttr(\"id\")}"
      ],
      "text/plain": [
       "<IPython.core.display.Javascript object>"
      ]
     },
     "metadata": {},
     "output_type": "display_data"
    }
   ],
   "source": [
    "qs = np.zeros(num_rotations)\n",
    "rm.configure_robots(qs)\n",
    "draw_background()\n",
    "objs2delete = draw_robotics(rm.joint_abs_locations)\n",
    "for idx in range(num_rotations):\n",
    "    acceleration_matrix = test_accelerate_joint(idx)\n",
    "    for action in acceleration_matrix:\n",
    "        rate(20)\n",
    "        rm.update_rm(action)\n",
    "#         print(rm.angular_velocities)\n",
    "        rm.loc_joints()\n",
    "        objs2delete = draw_robotics(rm.joint_abs_locations, objs2delete)"
   ]
  },
  {
   "cell_type": "code",
   "execution_count": 14,
   "metadata": {
    "collapsed": false
   },
   "outputs": [
    {
     "name": "stdout",
     "output_type": "stream",
     "text": [
      "[[0.001, 0, -0.001], [0.001, 0, -0.001], [0.001, 0, -0.001], [0.001, 0, -0.001], [0.001, 0, -0.001], [0.001, 0, -0.001], [0, 1]]\n"
     ]
    }
   ],
   "source": [
    "print(rbl.action_spaces)"
   ]
  },
  {
   "cell_type": "code",
   "execution_count": 13,
   "metadata": {
    "collapsed": false
   },
   "outputs": [
    {
     "name": "stdout",
     "output_type": "stream",
     "text": [
      "[[ 0.001  0.001  0.001 ...,  0.001  0.001  0.   ]\n",
      " [ 0.001  0.001  0.001 ...,  0.001  0.001  1.   ]\n",
      " [ 0.001  0.001  0.001 ...,  0.001  0.     0.   ]\n",
      " ..., \n",
      " [-0.001 -0.001 -0.001 ..., -0.001  0.     1.   ]\n",
      " [-0.001 -0.001 -0.001 ..., -0.001 -0.001  0.   ]\n",
      " [-0.001 -0.001 -0.001 ..., -0.001 -0.001  1.   ]]\n"
     ]
    }
   ],
   "source": [
    "print(rbl.action_combinations)"
   ]
  },
  {
   "cell_type": "code",
   "execution_count": null,
   "metadata": {
    "collapsed": true
   },
   "outputs": [],
   "source": [
    "print(rbl.ext_)"
   ]
  },
  {
   "cell_type": "markdown",
   "metadata": {},
   "source": [
    "### joint by joint movements"
   ]
  },
  {
   "cell_type": "code",
   "execution_count": 4,
   "metadata": {
    "collapsed": false
   },
   "outputs": [
    {
     "data": {
      "text/html": [
       "<div id=\"glowscript\" class=\"glowscript\"></div>"
      ],
      "text/plain": [
       "<IPython.core.display.HTML object>"
      ]
     },
     "metadata": {},
     "output_type": "display_data"
    },
    {
     "data": {
      "application/javascript": [
       "window.__context = { glowscript_container: $(\"#glowscript\").removeAttr(\"id\")}"
      ],
      "text/plain": [
       "<IPython.core.display.Javascript object>"
      ]
     },
     "metadata": {},
     "output_type": "display_data"
    }
   ],
   "source": [
    "max_rotation = np.pi / 2\n",
    "num_steps = 20\n",
    "rotation_angles = np.concatenate((np.linspace(0, max_rotation, num=num_steps), \n",
    "                                np.linspace(max_rotation, 0, num=num_steps),\n",
    "                                np.linspace(0, -max_rotation, num=num_steps),\n",
    "                                np.linspace(-max_rotation, 0, num=num_steps)))\n",
    "num_angles = len(rotation_angles)\n",
    "# draw initial configuration of the robot\n",
    "qs = np.zeros(num_rotations)\n",
    "rm.configure_robots(qs)\n",
    "draw_background()\n",
    "objs2delete = draw_robotics(rm.joint_abs_locations)\n",
    "\n",
    "for idx in xrange(num_rotations):\n",
    "    for idj in xrange(num_angles):\n",
    "        rate(20)\n",
    "        qs[idx] = rotation_angles[idj]\n",
    "        rm.configure_robots(qs)\n",
    "        objs2delete = draw_robotics(rm.joint_abs_locations, objs2delete)"
   ]
  },
  {
   "cell_type": "markdown",
   "metadata": {},
   "source": [
    "### random movements"
   ]
  },
  {
   "cell_type": "code",
   "execution_count": 5,
   "metadata": {
    "collapsed": false,
    "scrolled": false
   },
   "outputs": [
    {
     "data": {
      "text/html": [
       "<div id=\"glowscript\" class=\"glowscript\"></div>"
      ],
      "text/plain": [
       "<IPython.core.display.HTML object>"
      ]
     },
     "metadata": {},
     "output_type": "display_data"
    },
    {
     "data": {
      "application/javascript": [
       "window.__context = { glowscript_container: $(\"#glowscript\").removeAttr(\"id\")}"
      ],
      "text/plain": [
       "<IPython.core.display.Javascript object>"
      ]
     },
     "metadata": {},
     "output_type": "display_data"
    }
   ],
   "source": [
    "target_angles = (np.random.rand(num_rotations) - 0.5) * np.pi\n",
    "target_angles[0] = np.pi / 2\n",
    "num_steps = 200\n",
    "delta_angles = target_angles / num_steps\n",
    "\n",
    "# draw initial configuration of the robot\n",
    "qs = np.zeros(num_rotations)\n",
    "rm.configure_robots(qs)\n",
    "draw_background()\n",
    "objs2delete = draw_robotics(rm.joint_abs_locations)\n",
    "\n",
    "# draw the movements\n",
    "for idx in xrange(num_steps):\n",
    "    rate(20)\n",
    "    qs += delta_angles\n",
    "    rm.configure_robots(qs)\n",
    "    objs2delete = draw_robotics(rm.joint_abs_locations, objs2delete)"
   ]
  },
  {
   "cell_type": "markdown",
   "metadata": {},
   "source": [
    "### input the rotation angles and display"
   ]
  },
  {
   "cell_type": "code",
   "execution_count": 9,
   "metadata": {
    "collapsed": false
   },
   "outputs": [
    {
     "data": {
      "text/html": [
       "<div id=\"glowscript\" class=\"glowscript\"></div>"
      ],
      "text/plain": [
       "<IPython.core.display.HTML object>"
      ]
     },
     "metadata": {},
     "output_type": "display_data"
    },
    {
     "data": {
      "application/javascript": [
       "window.__context = { glowscript_container: $(\"#glowscript\").removeAttr(\"id\")}"
      ],
      "text/plain": [
       "<IPython.core.display.Javascript object>"
      ]
     },
     "metadata": {},
     "output_type": "display_data"
    }
   ],
   "source": [
    "rm = rbl.Robotic_Manipulator_Naive(link_lengthes, initial_angles)\n",
    "draw_background()\n",
    "objs = draw_robotics(rm.joint_abs_locations)\n",
    "qs = [np.pi/4, 0, 0, 0, 0, 0]\n",
    "rm.configure_robots(qs)\n",
    "objs = draw_robotics(rm.joint_abs_locations, objs)"
   ]
  },
  {
   "cell_type": "markdown",
   "metadata": {
    "collapsed": true
   },
   "source": [
    "### location of the end effector"
   ]
  },
  {
   "cell_type": "code",
   "execution_count": 10,
   "metadata": {
    "collapsed": false
   },
   "outputs": [
    {
     "name": "stdout",
     "output_type": "stream",
     "text": [
      "[-3.53553391  0.70710678  4.          1.        ]\n"
     ]
    }
   ],
   "source": [
    "print(rm.joint_abs_locations[-1])"
   ]
  },
  {
   "cell_type": "code",
   "execution_count": null,
   "metadata": {
    "collapsed": true
   },
   "outputs": [],
   "source": []
  },
  {
   "cell_type": "code",
   "execution_count": null,
   "metadata": {
    "collapsed": true
   },
   "outputs": [],
   "source": []
  },
  {
   "cell_type": "code",
   "execution_count": null,
   "metadata": {
    "collapsed": true
   },
   "outputs": [],
   "source": []
  },
  {
   "cell_type": "markdown",
   "metadata": {},
   "source": [
    "\n",
    "# Questions:\n",
    "\n",
    "1. How to calculate the velocity of the end-effector? \n",
    "\n",
    "    a. Use Jacobians for differential kinematics. ---> How to calculate the Jacobian matrix in the real world?\n",
    "    \n",
    "    b. Use Q-learning \n",
    "\n",
    "\n",
    "# implement RL for the throwing task\n",
    "\n",
    "1. State and actions: \n",
    "\n",
    "    a. State: \n",
    "        \n",
    "        i. position (q), velocity (v), and acceleration (a) of the joints\n",
    "        \n",
    "        ii. state of the end effector (hold/release)\n",
    "        \n",
    "        iii. terminal state: e=release\n",
    "    \n",
    "    b. action:\n",
    "    \n",
    "        i. acceleration of the joints\n",
    "        \n",
    "        ii. release/hold\n",
    "        \n",
    "    c. environment:\n",
    "    \n",
    "        i. location of the target busket\n",
    "        \n",
    "        i. initial configuration of the robot: joint angles, 0 velocity & acceleration\n",
    "        \n",
    "        i. position (x), velocity of the end-effector\n",
    "    \n",
    "2. Fixed the first 4 joints and restrain the position of the ball to be on the xz plane for simplicity. \n",
    "\n",
    "    a. In this case, there're only 3 actions: rotation of the last 2 joints and release/hold at the end-effector. \n",
    "    \n",
    "3. Problems to solve:\n",
    "\n",
    "    a. Technical problems:\n",
    "        \n",
    "        i. convert from joint positions into absolte positions, velocities, and acceleration\n",
    "        \n",
    "        ii. how to calculate and represent the moving direction of the end-effector\n",
    "        \n",
    "        iii. what algorithm to use for value function approximation? \n",
    "    \n",
    "    b. RL problems:\n",
    "    \n",
    "        i. "
   ]
  }
 ],
 "metadata": {
  "kernelspec": {
   "display_name": "VPython",
   "language": "python",
   "name": "vpython"
  },
  "language_info": {
   "codemirror_mode": {
    "name": "ipython",
    "version": 2
   },
   "file_extension": ".py",
   "mimetype": "text/x-python",
   "name": "python",
   "nbconvert_exporter": "python",
   "pygments_lexer": "ipython2",
   "version": "2.7.14"
  }
 },
 "nbformat": 4,
 "nbformat_minor": 2
}

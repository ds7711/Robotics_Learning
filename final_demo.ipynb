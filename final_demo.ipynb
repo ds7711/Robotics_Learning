{
 "cells": [
  {
   "cell_type": "markdown",
   "metadata": {},
   "source": [
    "## New Ideas\n",
    "\n",
    "1. Two RL agents instead of one.\n",
    "\n",
    "    a. Agent one controls the movements of the robot arms.\n",
    "    \n",
    "        Environment: state of the robot: q and q dot\n",
    "        Action: q dot dot\n",
    "        Final reward: 1 if the ball is close to the busket, 0 otherwise\n",
    "        ???Shaping reward: feedback from agent two if available???\n",
    "    \n",
    "    b. Agent two controls when to release the ball.\n",
    "    \n",
    "        Environment: state of the robot, hoop position\n",
    "        Action: release or hold\n",
    "        Final reward: 1 if the ball is close to the busket, 0 otherwise\n",
    "        ???Shaping reward: it ???\n",
    "    \n",
    "    They have a shared goal of throwing the ball into the busket. \n",
    "    \n",
    "2. While creating the training data set, positive trajectories should have higher weight.\n",
    "\n",
    "3. The threshold should increase over time based on the performance measure of the robot so that it could continue improving."
   ]
  },
  {
   "cell_type": "markdown",
   "metadata": {},
   "source": [
    "# possible extensions\n",
    "\n",
    "1. Add obstacles to the environment --> add constraints on the path to the goal\n",
    "\n",
    "2. How to let the robot effectively/efficiently learn to throw toward to different positions using previous throwing experience? \n",
    "\n",
    "3. Encourage the robot to complete the task as fast as possible. \n",
    "\n",
    "4. How to quickly learn to throw the balls into a moving busket after learning fixed busket"
   ]
  },
  {
   "cell_type": "code",
   "execution_count": 1,
   "metadata": {
    "collapsed": false
   },
   "outputs": [
    {
     "ename": "ImportError",
     "evalue": "No module named vpython",
     "output_type": "error",
     "traceback": [
      "\u001b[0;31m---------------------------------------------------------------------------\u001b[0m",
      "\u001b[0;31mImportError\u001b[0m                               Traceback (most recent call last)",
      "\u001b[0;32m<ipython-input-1-1b145e41fc32>\u001b[0m in \u001b[0;36m<module>\u001b[0;34m()\u001b[0m\n\u001b[1;32m      1\u001b[0m \u001b[0;31m# import libraries\u001b[0m\u001b[0;34m\u001b[0m\u001b[0;34m\u001b[0m\u001b[0m\n\u001b[0;32m----> 2\u001b[0;31m \u001b[0;32mfrom\u001b[0m \u001b[0mvpython\u001b[0m \u001b[0;32mimport\u001b[0m \u001b[0;34m*\u001b[0m\u001b[0;34m\u001b[0m\u001b[0m\n\u001b[0m\u001b[1;32m      3\u001b[0m \u001b[0;32mimport\u001b[0m \u001b[0mnumpy\u001b[0m \u001b[0;32mas\u001b[0m \u001b[0mnp\u001b[0m\u001b[0;34m\u001b[0m\u001b[0m\n\u001b[1;32m      4\u001b[0m \u001b[0;32mimport\u001b[0m \u001b[0mrobotics_library\u001b[0m \u001b[0;32mas\u001b[0m \u001b[0mrbl\u001b[0m\u001b[0;34m\u001b[0m\u001b[0m\n",
      "\u001b[0;31mImportError\u001b[0m: No module named vpython"
     ]
    }
   ],
   "source": [
    "# import libraries\n",
    "from vpython import *\n",
    "import numpy as np\n",
    "import robotics_library as rbl"
   ]
  },
  {
   "cell_type": "code",
   "execution_count": 3,
   "metadata": {
    "collapsed": true
   },
   "outputs": [],
   "source": [
    "def draw_background():\n",
    "    scene = canvas(background=color.black, up=vector(-1, -1, 0), height=600, center=vector(0, 0, 0))\n",
    "    scene.camera.pos = vector(3.5, 3.5, 10)\n",
    "    scene.camera.axis = vector(-3.5, -3.5, -10)\n",
    "    \n",
    "    # plot the axises\n",
    "    axis_length = 3\n",
    "    x = arrow(pos=vector(0,0,0), axis=vector(axis_length,0,0), shaftwidth=0.1, color=color.red)\n",
    "    text(text='x', pos=vector(axis_length,0,0), axis=vector(axis_length,0,0))\n",
    "    y = arrow(pos=vector(0,0,0), axis=vector(0,axis_length,0), shaftwidth=0.1, color=color.green)\n",
    "    text(text='y', pos=vector(0,axis_length,0), axis=vector(0,axis_length,0))\n",
    "    z = arrow(pos=vector(0,0,0), axis=vector(0,0,-axis_length), shaftwidth=0.1, color=color.blue)\n",
    "    text(text='-z', pos=vector(0,0,-axis_length), axis=vector(0,0,-axis_length))\n",
    "    return(scene)\n",
    "\n",
    "def draw_robotics(joint_locs, objects2delete=[]):\n",
    "    \n",
    "    # delete the old positions\n",
    "    for obj in objects2delete:\n",
    "        obj.visible = False\n",
    "        del obj \n",
    "\n",
    "    # color list\n",
    "    color_list = [color.cyan, color.yellow, color.magenta, color.orange, vector(0.7, 0.2, 0.1),\n",
    "                  vector(0.2, 0.1, 0.7), vector(0.7, 0.7, 0.8)]\n",
    "    \n",
    "    # draw the links\n",
    "    curve_list = [[] for _ in xrange(len(joint_locs))] # container to store the objects that make up the robot\n",
    "    curve_list[0] = curve(pos=[vector(0, 0, 0), vector(*joint_locs[0, :3])], radius=0.5)\n",
    "\n",
    "    for idx in xrange(1, len(joint_locs), 1):\n",
    "        p0 = vector(*joint_locs[idx-1, :3])\n",
    "        p1 = vector(*joint_locs[idx, :3])\n",
    "        curve_list[idx] = curve(pos=[p0, p1], color=color_list[idx])\n",
    "        \n",
    "    end_effector = box(pos=vector(*joint_locs[-1, :3]), length=0.7, height=0.2, width=0.3)\n",
    "    curve_list.append(end_effector)\n",
    "\n",
    "    return(curve_list)"
   ]
  },
  {
   "cell_type": "code",
   "execution_count": 4,
   "metadata": {
    "collapsed": true
   },
   "outputs": [],
   "source": [
    "env_name = \"2d\"\n",
    "env_obj = rbl.env_dict[env_name]"
   ]
  },
  {
   "cell_type": "code",
   "execution_count": 5,
   "metadata": {
    "collapsed": false
   },
   "outputs": [],
   "source": [
    "link_lengthes = [1, 3, 1, 1, 1, 1, 1]\n",
    "initial_angles = [0, 0, 0, 0, np.pi, 0]\n",
    "initial_angular_velocities = np.zeros(env_obj.num_joints)\n",
    "initial_rm = rbl.Robotic_Manipulator_Naive(link_lengthes, initial_angles, initial_angular_velocities)"
   ]
  },
  {
   "cell_type": "code",
   "execution_count": 6,
   "metadata": {
    "collapsed": false,
    "scrolled": true
   },
   "outputs": [],
   "source": [
    "q_obj = rbl.get_q_func([19, 10, 1])\n",
    "# train the q_value function object"
   ]
  },
  {
   "cell_type": "code",
   "execution_count": null,
   "metadata": {
    "collapsed": false,
    "scrolled": true
   },
   "outputs": [
    {
     "name": "stdout",
     "output_type": "stream",
     "text": [
      "Epoch 1/3\n",
      "201/201 [==============================] - 0s - loss: 0.2427     \n",
      "Epoch 2/3\n",
      "201/201 [==============================] - 0s - loss: 0.2393     \n",
      "Epoch 3/3\n",
      "201/201 [==============================] - 0s - loss: 0.2371     \n",
      "Epoch 1/3\n",
      "202/202 [==============================] - 0s - loss: 0.2287     \n",
      "Epoch 2/3\n",
      "202/202 [==============================] - 0s - loss: 0.2253     \n",
      "Epoch 3/3\n",
      "202/202 [==============================] - 0s - loss: 0.2218     \n",
      "Epoch 1/3\n",
      "210/210 [==============================] - 0s - loss: 0.2162     \n",
      "Epoch 2/3\n",
      "210/210 [==============================] - 0s - loss: 0.2120     \n",
      "Epoch 3/3\n",
      "210/210 [==============================] - 0s - loss: 0.2078     \n",
      "Epoch 1/3\n",
      "201/201 [==============================] - 0s - loss: 0.2024     \n",
      "Epoch 2/3\n",
      "201/201 [==============================] - 0s - loss: 0.1977     \n",
      "Epoch 3/3\n",
      "201/201 [==============================] - 0s - loss: 0.1935     \n",
      "Epoch 1/3\n",
      "201/201 [==============================] - 0s - loss: 0.1824     \n",
      "Epoch 2/3\n",
      "201/201 [==============================] - 0s - loss: 0.1791     \n",
      "Epoch 3/3\n",
      "201/201 [==============================] - 0s - loss: 0.1760     \n",
      "Epoch 1/3\n",
      "202/202 [==============================] - 0s - loss: 0.1701     \n",
      "Epoch 2/3\n",
      "202/202 [==============================] - 0s - loss: 0.1672     \n",
      "Epoch 3/3\n",
      "202/202 [==============================] - 0s - loss: 0.1647     \n",
      "Epoch 1/3\n",
      "203/203 [==============================] - 0s - loss: 0.1593     \n",
      "Epoch 2/3\n",
      "203/203 [==============================] - 0s - loss: 0.1566     \n",
      "Epoch 3/3\n",
      "203/203 [==============================] - 0s - loss: 0.1540     \n",
      "Epoch 1/3\n",
      "203/203 [==============================] - 0s - loss: 0.1478     \n",
      "Epoch 2/3\n",
      "203/203 [==============================] - 0s - loss: 0.1455     \n",
      "Epoch 3/3\n",
      "203/203 [==============================] - 0s - loss: 0.1433     \n",
      "Epoch 1/3\n",
      "202/202 [==============================] - 0s - loss: 0.1427     \n",
      "Epoch 2/3\n",
      "202/202 [==============================] - 0s - loss: 0.1406     \n",
      "Epoch 3/3\n",
      "202/202 [==============================] - 0s - loss: 0.1384     \n",
      "Epoch 1/3\n",
      "200/200 [==============================] - 0s - loss: 0.1332\n",
      "Epoch 2/3\n",
      "200/200 [==============================] - 0s - loss: 0.1322\n",
      "Epoch 3/3\n",
      "200/200 [==============================] - 0s - loss: 0.1313\n",
      "Epoch 1/3\n",
      "202/202 [==============================] - 0s - loss: 0.1284     \n",
      "Epoch 2/3\n",
      "202/202 [==============================] - 0s - loss: 0.1266     \n",
      "Epoch 3/3\n",
      "202/202 [==============================] - 0s - loss: 0.1249     \n",
      "Epoch 1/3\n",
      "200/200 [==============================] - 0s - loss: 0.1228\n",
      "Epoch 2/3\n",
      "200/200 [==============================] - 0s - loss: 0.1219\n",
      "Epoch 3/3\n",
      "200/200 [==============================] - 0s - loss: 0.1210\n",
      "Epoch 1/3\n",
      "200/200 [==============================] - 0s - loss: 0.1200\n",
      "Epoch 2/3\n",
      "200/200 [==============================] - 0s - loss: 0.1192\n",
      "Epoch 3/3\n",
      "200/200 [==============================] - 0s - loss: 0.1183\n",
      "Epoch 1/3\n",
      "201/201 [==============================] - 0s - loss: 0.1191     \n",
      "Epoch 2/3\n",
      "201/201 [==============================] - 0s - loss: 0.1174     \n",
      "Epoch 3/3\n",
      "201/201 [==============================] - 0s - loss: 0.1158     \n",
      "Epoch 1/3\n",
      "201/201 [==============================] - 0s - loss: 0.1174     \n",
      "Epoch 2/3\n",
      "201/201 [==============================] - 0s - loss: 0.1161     \n",
      "Epoch 3/3\n",
      "201/201 [==============================] - 0s - loss: 0.1147     \n",
      "Epoch 1/3\n",
      "200/200 [==============================] - 0s - loss: 0.1158\n",
      "Epoch 2/3\n",
      "200/200 [==============================] - 0s - loss: 0.1151\n",
      "Epoch 3/3\n",
      "200/200 [==============================] - 0s - loss: 0.1143\n",
      "Epoch 1/3\n",
      "200/200 [==============================] - 0s - loss: 0.1137\n",
      "Epoch 2/3\n",
      "200/200 [==============================] - 0s - loss: 0.1128\n",
      "Epoch 3/3\n",
      "200/200 [==============================] - 0s - loss: 0.1120\n",
      "Epoch 1/3\n",
      "200/200 [==============================] - 0s - loss: 0.1139\n",
      "Epoch 2/3\n",
      "200/200 [==============================] - 0s - loss: 0.1128\n",
      "Epoch 3/3\n",
      "200/200 [==============================] - 0s - loss: 0.1117\n",
      "Epoch 1/3\n",
      "202/202 [==============================] - 0s - loss: 0.1084     \n",
      "Epoch 2/3\n",
      "202/202 [==============================] - 0s - loss: 0.1060     \n",
      "Epoch 3/3\n",
      "202/202 [==============================] - 0s - loss: 0.1037     \n",
      "Epoch 1/3\n",
      "202/202 [==============================] - 0s - loss: 0.1055     \n",
      "Epoch 2/3\n",
      "202/202 [==============================] - 0s - loss: 0.1031     \n",
      "Epoch 3/3\n",
      "202/202 [==============================] - 0s - loss: 0.1008     \n",
      "Epoch 1/3\n",
      "201/201 [==============================] - 0s - loss: 0.0976     \n",
      "Epoch 2/3\n",
      "201/201 [==============================] - 0s - loss: 0.0955     \n",
      "Epoch 3/3\n",
      "201/201 [==============================] - 0s - loss: 0.0937     \n",
      "Epoch 1/3\n",
      "201/201 [==============================] - 0s - loss: 0.0930     \n",
      "Epoch 2/3\n",
      "201/201 [==============================] - 0s - loss: 0.0910     \n",
      "Epoch 3/3\n",
      "201/201 [==============================] - 0s - loss: 0.0892     \n",
      "Epoch 1/3\n",
      "201/201 [==============================] - 0s - loss: 0.0896     \n",
      "Epoch 2/3\n",
      "201/201 [==============================] - 0s - loss: 0.0875     \n",
      "Epoch 3/3\n",
      "201/201 [==============================] - 0s - loss: 0.0858     \n",
      "Epoch 1/3\n",
      "200/200 [==============================] - 0s - loss: 0.0850\n",
      "Epoch 2/3\n",
      "200/200 [==============================] - 0s - loss: 0.0842\n",
      "Epoch 3/3\n",
      "200/200 [==============================] - 0s - loss: 0.0835\n",
      "Epoch 1/3\n",
      "200/200 [==============================] - 0s - loss: 0.0830\n",
      "Epoch 2/3\n",
      "200/200 [==============================] - 0s - loss: 0.0823\n",
      "Epoch 3/3\n",
      "200/200 [==============================] - 0s - loss: 0.0816\n",
      "Epoch 1/3\n",
      "201/201 [==============================] - 0s - loss: 0.0809     \n",
      "Epoch 2/3\n",
      "201/201 [==============================] - 0s - loss: 0.0797     \n",
      "Epoch 3/3\n",
      "201/201 [==============================] - 0s - loss: 0.0786     \n",
      "Epoch 1/3\n",
      "200/200 [==============================] - 0s - loss: 0.0778\n",
      "Epoch 2/3\n",
      "200/200 [==============================] - 0s - loss: 0.0774\n",
      "Epoch 3/3\n",
      "200/200 [==============================] - 0s - loss: 0.0769\n",
      "Epoch 1/3\n",
      "203/203 [==============================] - 0s - loss: 0.0768     \n",
      "Epoch 2/3\n",
      "203/203 [==============================] - 0s - loss: 0.0759     \n",
      "Epoch 3/3\n",
      "203/203 [==============================] - 0s - loss: 0.0750     \n",
      "Epoch 1/3\n",
      "200/200 [==============================] - 0s - loss: 0.0743\n",
      "Epoch 2/3\n",
      "200/200 [==============================] - 0s - loss: 0.0739\n",
      "Epoch 3/3\n",
      "200/200 [==============================] - 0s - loss: 0.0734\n",
      "Epoch 1/3\n",
      "200/200 [==============================] - 0s - loss: 0.0733\n",
      "Epoch 2/3\n",
      "200/200 [==============================] - 0s - loss: 0.0729\n",
      "Epoch 3/3\n",
      "200/200 [==============================] - 0s - loss: 0.0726\n",
      "Epoch 1/3\n",
      "200/200 [==============================] - 0s - loss: 0.0723\n",
      "Epoch 2/3\n",
      "200/200 [==============================] - 0s - loss: 0.0720\n",
      "Epoch 3/3\n",
      "200/200 [==============================] - 0s - loss: 0.0716\n",
      "Epoch 1/3\n",
      "201/201 [==============================] - 0s - loss: 0.0712     \n",
      "Epoch 2/3\n",
      "201/201 [==============================] - 0s - loss: 0.0705     \n",
      "Epoch 3/3\n",
      "201/201 [==============================] - 0s - loss: 0.0697     \n",
      "Epoch 1/3\n",
      "200/200 [==============================] - 0s - loss: 0.0690\n",
      "Epoch 2/3\n",
      "200/200 [==============================] - 0s - loss: 0.0686\n",
      "Epoch 3/3\n",
      "200/200 [==============================] - 0s - loss: 0.0683\n",
      "Epoch 1/3\n",
      "200/200 [==============================] - 0s - loss: 0.0680\n",
      "Epoch 2/3\n",
      "200/200 [==============================] - 0s - loss: 0.0676\n",
      "Epoch 3/3\n",
      "200/200 [==============================] - 0s - loss: 0.0672\n",
      "Epoch 1/3\n",
      "201/201 [==============================] - 0s - loss: 0.0669     \n",
      "Epoch 2/3\n",
      "201/201 [==============================] - 0s - loss: 0.0661     \n",
      "Epoch 3/3\n",
      "201/201 [==============================] - 0s - loss: 0.0654     \n",
      "Epoch 1/3\n",
      "200/200 [==============================] - 0s - loss: 0.0648\n",
      "Epoch 2/3\n",
      "200/200 [==============================] - 0s - loss: 0.0644\n",
      "Epoch 3/3\n",
      "200/200 [==============================] - 0s - loss: 0.0641\n",
      "Epoch 1/3\n",
      "202/202 [==============================] - 0s - loss: 0.0637     \n",
      "Epoch 2/3\n",
      "202/202 [==============================] - 0s - loss: 0.0630     \n",
      "Epoch 3/3\n",
      "202/202 [==============================] - 0s - loss: 0.0624     \n",
      "Epoch 1/3\n",
      "200/200 [==============================] - 0s - loss: 0.0619\n",
      "Epoch 2/3\n",
      "200/200 [==============================] - 0s - loss: 0.0616\n",
      "Epoch 3/3\n",
      "200/200 [==============================] - 0s - loss: 0.0613\n",
      "Epoch 1/3\n",
      "202/202 [==============================] - 0s - loss: 0.0608     \n",
      "Epoch 2/3\n",
      "202/202 [==============================] - 0s - loss: 0.0602     \n",
      "Epoch 3/3\n",
      "202/202 [==============================] - 0s - loss: 0.0596     \n",
      "Epoch 1/3\n",
      "201/201 [==============================] - 0s - loss: 0.0591     \n",
      "Epoch 2/3\n",
      "201/201 [==============================] - 0s - loss: 0.0585     \n",
      "Epoch 3/3\n",
      "201/201 [==============================] - 0s - loss: 0.0579     \n",
      "Epoch 1/3\n",
      "201/201 [==============================] - 0s - loss: 0.0574     \n",
      "Epoch 2/3\n",
      "201/201 [==============================] - 0s - loss: 0.0567     \n",
      "Epoch 3/3\n",
      "201/201 [==============================] - 0s - loss: 0.0561     \n",
      "Epoch 1/3\n",
      "201/201 [==============================] - 0s - loss: 0.0556     \n",
      "Epoch 2/3\n",
      "201/201 [==============================] - 0s - loss: 0.0550     \n",
      "Epoch 3/3\n",
      "201/201 [==============================] - 0s - loss: 0.0545     \n",
      "Epoch 1/3\n",
      "200/200 [==============================] - 0s - loss: 0.0539\n",
      "Epoch 2/3\n",
      "200/200 [==============================] - 0s - loss: 0.0537\n",
      "Epoch 3/3\n",
      "200/200 [==============================] - 0s - loss: 0.0534\n",
      "Epoch 1/3\n",
      "200/200 [==============================] - 0s - loss: 0.0532\n",
      "Epoch 2/3\n",
      "200/200 [==============================] - 0s - loss: 0.0529\n",
      "Epoch 3/3\n",
      "200/200 [==============================] - 0s - loss: 0.0526\n",
      "Epoch 1/3\n",
      "200/200 [==============================] - 0s - loss: 0.0524\n",
      "Epoch 2/3\n",
      "200/200 [==============================] - 0s - loss: 0.0521\n",
      "Epoch 3/3\n",
      "200/200 [==============================] - 0s - loss: 0.0518\n",
      "Epoch 1/3\n",
      "200/200 [==============================] - 0s - loss: 0.0516\n",
      "Epoch 2/3\n",
      "200/200 [==============================] - 0s - loss: 0.0513\n",
      "Epoch 3/3\n",
      "200/200 [==============================] - 0s - loss: 0.0511\n",
      "Epoch 1/3\n",
      "201/201 [==============================] - 0s - loss: 0.0510     \n",
      "Epoch 2/3\n",
      "201/201 [==============================] - 0s - loss: 0.0504     \n",
      "Epoch 3/3\n",
      "201/201 [==============================] - 0s - loss: 0.0499     \n",
      "Epoch 1/3\n",
      "201/201 [==============================] - 0s - loss: 0.0497     \n",
      "Epoch 2/3\n",
      "201/201 [==============================] - 0s - loss: 0.0491     \n",
      "Epoch 3/3\n",
      "201/201 [==============================] - 0s - loss: 0.0485     \n",
      "Epoch 1/3\n",
      "200/200 [==============================] - 0s - loss: 0.0483\n",
      "Epoch 2/3\n",
      "200/200 [==============================] - 0s - loss: 0.0480\n",
      "Epoch 3/3\n",
      "200/200 [==============================] - 0s - loss: 0.0477\n",
      "Epoch 1/3\n",
      "200/200 [==============================] - 0s - loss: 0.0474\n",
      "Epoch 2/3\n",
      "200/200 [==============================] - 0s - loss: 0.0471\n",
      "Epoch 3/3\n",
      "200/200 [==============================] - 0s - loss: 0.0469\n",
      "Epoch 1/3\n",
      "200/200 [==============================] - 0s - loss: 0.0468\n",
      "Epoch 2/3\n",
      "200/200 [==============================] - 0s - loss: 0.0465\n",
      "Epoch 3/3\n",
      "200/200 [==============================] - 0s - loss: 0.0462\n",
      "Epoch 1/3\n",
      "200/200 [==============================] - 0s - loss: 0.0460\n",
      "Epoch 2/3\n",
      "200/200 [==============================] - 0s - loss: 0.0458\n",
      "Epoch 3/3\n",
      "200/200 [==============================] - 0s - loss: 0.0455\n",
      "Epoch 1/3\n",
      "200/200 [==============================] - 0s - loss: 0.0454\n",
      "Epoch 2/3\n",
      "200/200 [==============================] - 0s - loss: 0.0452\n",
      "Epoch 3/3\n",
      "200/200 [==============================] - 0s - loss: 0.0450\n",
      "Epoch 1/3\n",
      "200/200 [==============================] - 0s - loss: 0.0449\n",
      "Epoch 2/3\n",
      "200/200 [==============================] - 0s - loss: 0.0446\n",
      "Epoch 3/3\n",
      "200/200 [==============================] - 0s - loss: 0.0444\n",
      "Epoch 1/3\n",
      "201/201 [==============================] - 0s - loss: 0.0445     \n",
      "Epoch 2/3\n",
      "201/201 [==============================] - 0s - loss: 0.0438     \n",
      "Epoch 3/3\n",
      "201/201 [==============================] - 0s - loss: 0.0433     \n",
      "Epoch 1/3\n",
      "200/200 [==============================] - 0s - loss: 0.0436\n",
      "Epoch 2/3\n",
      "200/200 [==============================] - 0s - loss: 0.0432\n",
      "Epoch 3/3\n",
      "200/200 [==============================] - 0s - loss: 0.0428\n",
      "Epoch 1/3\n",
      "200/200 [==============================] - 0s - loss: 0.0431\n",
      "Epoch 2/3\n",
      "200/200 [==============================] - 0s - loss: 0.0426\n",
      "Epoch 3/3\n",
      "200/200 [==============================] - 0s - loss: 0.0422\n",
      "Epoch 1/3\n",
      "200/200 [==============================] - 0s - loss: 0.0423\n",
      "Epoch 2/3\n",
      "200/200 [==============================] - 0s - loss: 0.0419\n",
      "Epoch 3/3\n",
      "200/200 [==============================] - 0s - loss: 0.0415\n",
      "Epoch 1/3\n",
      "206/206 [==============================] - 0s - loss: 0.0417     \n",
      "Epoch 2/3\n",
      "206/206 [==============================] - 0s - loss: 0.0409     \n",
      "Epoch 3/3\n",
      "206/206 [==============================] - 0s - loss: 0.0405     \n",
      "Epoch 1/3\n",
      "200/200 [==============================] - 0s - loss: 0.0408\n",
      "Epoch 2/3\n",
      "200/200 [==============================] - 0s - loss: 0.0404\n",
      "Epoch 3/3\n",
      "200/200 [==============================] - 0s - loss: 0.0401\n",
      "Epoch 1/3\n",
      "205/205 [==============================] - 0s - loss: 0.0400     \n",
      "Epoch 2/3\n",
      "205/205 [==============================] - 0s - loss: 0.0394     \n",
      "Epoch 3/3\n",
      "205/205 [==============================] - 0s - loss: 0.0389     \n",
      "Epoch 1/3\n",
      "200/200 [==============================] - 0s - loss: 0.0390\n",
      "Epoch 2/3\n",
      "200/200 [==============================] - 0s - loss: 0.0387\n",
      "Epoch 3/3\n",
      "200/200 [==============================] - 0s - loss: 0.0384\n",
      "Epoch 1/3\n",
      "200/200 [==============================] - 0s - loss: 0.0386\n",
      "Epoch 2/3\n",
      "200/200 [==============================] - 0s - loss: 0.0383\n",
      "Epoch 3/3\n",
      "200/200 [==============================] - 0s - loss: 0.0380\n",
      "Epoch 1/3\n",
      "200/200 [==============================] - 0s - loss: 0.0382\n",
      "Epoch 2/3\n",
      "200/200 [==============================] - 0s - loss: 0.0378\n",
      "Epoch 3/3\n",
      "200/200 [==============================] - 0s - loss: 0.0375\n",
      "Epoch 1/3\n",
      "202/202 [==============================] - 0s - loss: 0.0378     \n",
      "Epoch 2/3\n",
      "202/202 [==============================] - 0s - loss: 0.0371     \n",
      "Epoch 3/3\n",
      "202/202 [==============================] - 0s - loss: 0.0367     \n",
      "Epoch 1/3\n",
      "200/200 [==============================] - 0s - loss: 0.0372\n",
      "Epoch 2/3\n",
      "200/200 [==============================] - 0s - loss: 0.0368\n",
      "Epoch 3/3\n",
      "200/200 [==============================] - 0s - loss: 0.0364\n",
      "Epoch 1/3\n",
      "200/200 [==============================] - 0s - loss: 0.0367\n",
      "Epoch 2/3\n",
      "200/200 [==============================] - 0s - loss: 0.0363\n",
      "Epoch 3/3\n",
      "200/200 [==============================] - 0s - loss: 0.0359\n",
      "Epoch 1/3\n",
      "200/200 [==============================] - 0s - loss: 0.0360\n",
      "Epoch 2/3\n",
      "200/200 [==============================] - 0s - loss: 0.0357\n",
      "Epoch 3/3\n",
      "200/200 [==============================] - 0s - loss: 0.0354\n",
      "Epoch 1/3\n",
      "200/200 [==============================] - 0s - loss: 0.0355\n",
      "Epoch 2/3\n",
      "200/200 [==============================] - 0s - loss: 0.0352\n",
      "Epoch 3/3\n",
      "200/200 [==============================] - 0s - loss: 0.0350\n",
      "Epoch 1/3\n",
      "200/200 [==============================] - 0s - loss: 0.0349\n",
      "Epoch 2/3\n",
      "200/200 [==============================] - 0s - loss: 0.0347\n",
      "Epoch 3/3\n",
      "200/200 [==============================] - 0s - loss: 0.0346\n",
      "Epoch 1/3\n",
      "200/200 [==============================] - 0s - loss: 0.0345\n",
      "Epoch 2/3\n",
      "200/200 [==============================] - 0s - loss: 0.0344\n",
      "Epoch 3/3\n",
      "200/200 [==============================] - 0s - loss: 0.0342\n",
      "Epoch 1/3\n",
      "200/200 [==============================] - 0s - loss: 0.0342\n",
      "Epoch 2/3\n",
      "200/200 [==============================] - 0s - loss: 0.0340\n",
      "Epoch 3/3\n",
      "200/200 [==============================] - 0s - loss: 0.0339\n",
      "Epoch 1/3\n",
      "203/203 [==============================] - 0s - loss: 0.0338     \n",
      "Epoch 2/3\n",
      "203/203 [==============================] - 0s - loss: 0.0335     \n",
      "Epoch 3/3\n",
      "203/203 [==============================] - 0s - loss: 0.0331     \n",
      "Epoch 1/3\n",
      "201/201 [==============================] - 0s - loss: 0.0335     \n",
      "Epoch 2/3\n",
      "201/201 [==============================] - 0s - loss: 0.0329     \n",
      "Epoch 3/3\n",
      "201/201 [==============================] - 0s - loss: 0.0325     \n",
      "Epoch 1/3\n",
      "200/200 [==============================] - 0s - loss: 0.0334\n",
      "Epoch 2/3\n",
      "200/200 [==============================] - 0s - loss: 0.0330\n",
      "Epoch 3/3\n",
      "200/200 [==============================] - 0s - loss: 0.0326\n",
      "Epoch 1/3\n",
      "200/200 [==============================] - 0s - loss: 0.0333\n",
      "Epoch 2/3\n",
      "200/200 [==============================] - 0s - loss: 0.0328\n",
      "Epoch 3/3\n",
      "200/200 [==============================] - 0s - loss: 0.0323\n",
      "Epoch 1/3\n",
      "200/200 [==============================] - 0s - loss: 0.0327\n",
      "Epoch 2/3\n",
      "200/200 [==============================] - 0s - loss: 0.0322\n",
      "Epoch 3/3\n",
      "200/200 [==============================] - 0s - loss: 0.0318\n",
      "Epoch 1/3\n",
      "201/201 [==============================] - 0s - loss: 0.0328     \n",
      "Epoch 2/3\n",
      "201/201 [==============================] - 0s - loss: 0.0317     \n",
      "Epoch 3/3\n",
      "201/201 [==============================] - 0s - loss: 0.0312     \n",
      "Epoch 1/3\n",
      "201/201 [==============================] - 0s - loss: 0.0322     \n",
      "Epoch 2/3\n",
      "201/201 [==============================] - 0s - loss: 0.0312     \n",
      "Epoch 3/3\n",
      "201/201 [==============================] - 0s - loss: 0.0308     \n",
      "Epoch 1/3\n",
      "200/200 [==============================] - 0s - loss: 0.0312\n",
      "Epoch 2/3\n",
      "200/200 [==============================] - 0s - loss: 0.0310\n",
      "Epoch 3/3\n",
      "200/200 [==============================] - 0s - loss: 0.0307\n",
      "Epoch 1/3\n",
      "201/201 [==============================] - 0s - loss: 0.0304     \n",
      "Epoch 2/3\n",
      "201/201 [==============================] - 0s - loss: 0.0299     \n",
      "Epoch 3/3\n",
      "201/201 [==============================] - 0s - loss: 0.0296     \n",
      "Epoch 1/3\n",
      "201/201 [==============================] - 0s - loss: 0.0298     \n",
      "Epoch 2/3\n",
      "201/201 [==============================] - 0s - loss: 0.0294     \n",
      "Epoch 3/3\n",
      "201/201 [==============================] - 0s - loss: 0.0291     \n",
      "Epoch 1/3\n",
      "200/200 [==============================] - 0s - loss: 0.0289\n",
      "Epoch 2/3\n",
      "200/200 [==============================] - 0s - loss: 0.0288\n",
      "Epoch 3/3\n",
      "200/200 [==============================] - 0s - loss: 0.0286\n",
      "Epoch 1/3\n",
      "200/200 [==============================] - 0s - loss: 0.0286\n",
      "Epoch 2/3\n",
      "200/200 [==============================] - 0s - loss: 0.0285\n",
      "Epoch 3/3\n",
      "200/200 [==============================] - 0s - loss: 0.0284\n",
      "Epoch 1/3\n",
      "200/200 [==============================] - 0s - loss: 0.0282\n",
      "Epoch 2/3\n",
      "200/200 [==============================] - 0s - loss: 0.0281\n",
      "Epoch 3/3\n",
      "200/200 [==============================] - 0s - loss: 0.0280\n",
      "Epoch 1/3\n",
      "200/200 [==============================] - 0s - loss: 0.0280\n",
      "Epoch 2/3\n",
      "200/200 [==============================] - 0s - loss: 0.0279\n",
      "Epoch 3/3\n",
      "200/200 [==============================] - 0s - loss: 0.0278\n",
      "Epoch 1/3\n",
      "200/200 [==============================] - 0s - loss: 0.0278\n",
      "Epoch 2/3\n",
      "200/200 [==============================] - 0s - loss: 0.0277\n",
      "Epoch 3/3\n",
      "200/200 [==============================] - 0s - loss: 0.0276\n",
      "Epoch 1/3\n",
      "201/201 [==============================] - 0s - loss: 0.0276     \n",
      "Epoch 2/3\n",
      "201/201 [==============================] - 0s - loss: 0.0273     \n",
      "Epoch 3/3\n",
      "201/201 [==============================] - 0s - loss: 0.0270     \n",
      "Epoch 1/3\n",
      "201/201 [==============================] - 0s - loss: 0.0273     \n",
      "Epoch 2/3\n",
      "201/201 [==============================] - 0s - loss: 0.0268     \n",
      "Epoch 3/3\n",
      "201/201 [==============================] - 0s - loss: 0.0264     \n",
      "Epoch 1/3\n",
      "200/200 [==============================] - 0s - loss: 0.0263\n",
      "Epoch 2/3\n",
      "200/200 [==============================] - 0s - loss: 0.0261\n",
      "Epoch 3/3\n",
      "200/200 [==============================] - 0s - loss: 0.0259\n",
      "Epoch 1/3\n",
      "202/202 [==============================] - 0s - loss: 0.0264     \n",
      "Epoch 2/3\n",
      "202/202 [==============================] - 0s - loss: 0.0258     \n",
      "Epoch 3/3\n",
      "202/202 [==============================] - 0s - loss: 0.0255     \n",
      "Epoch 1/3\n",
      "200/200 [==============================] - 0s - loss: 0.0260\n",
      "Epoch 2/3\n",
      "200/200 [==============================] - 0s - loss: 0.0257\n",
      "Epoch 3/3\n",
      "200/200 [==============================] - 0s - loss: 0.0254\n",
      "Epoch 1/3\n",
      "200/200 [==============================] - 0s - loss: 0.0256\n",
      "Epoch 2/3\n",
      "200/200 [==============================] - 0s - loss: 0.0253\n",
      "Epoch 3/3\n",
      "200/200 [==============================] - 0s - loss: 0.0250\n",
      "Epoch 1/3\n",
      "201/201 [==============================] - 0s - loss: 0.0255     \n",
      "Epoch 2/3\n",
      "201/201 [==============================] - 0s - loss: 0.0248     \n",
      "Epoch 3/3\n",
      "201/201 [==============================] - 0s - loss: 0.0244     \n",
      "Epoch 1/3\n",
      "200/200 [==============================] - 0s - loss: 0.0256\n",
      "Epoch 2/3\n",
      "200/200 [==============================] - 0s - loss: 0.0252\n",
      "Epoch 3/3\n",
      "200/200 [==============================] - 0s - loss: 0.0248\n",
      "Epoch 1/3\n",
      "200/200 [==============================] - 0s - loss: 0.0252\n",
      "Epoch 2/3\n",
      "200/200 [==============================] - 0s - loss: 0.0247\n",
      "Epoch 3/3\n",
      "200/200 [==============================] - 0s - loss: 0.0243"
     ]
    }
   ],
   "source": [
    "q_obj = rbl.neural_fitted_q_algorithm(initial_rm, q_obj, env_obj, num_iterations=1000)"
   ]
  },
  {
   "cell_type": "code",
   "execution_count": 8,
   "metadata": {
    "collapsed": false
   },
   "outputs": [
    {
     "name": "stdout",
     "output_type": "stream",
     "text": [
      "[[ 0.  0.  1.  1.]\n",
      " [ 0.  0.  4.  1.]\n",
      " [ 0.  1.  4.  1.]\n",
      " [ 0.  2.  4.  1.]\n",
      " [ 0.  3.  4.  1.]\n",
      " [ 1.  3.  4.  1.]\n",
      " [ 2.  3.  4.  1.]]\n"
     ]
    }
   ],
   "source": [
    "print(initial_rm.loc_joints())"
   ]
  },
  {
   "cell_type": "code",
   "execution_count": 29,
   "metadata": {
    "collapsed": true
   },
   "outputs": [],
   "source": [
    "def throw_the_ball(ini_robot_obj, q_obj, env_obj, discounting=0.9):\n",
    "    # create a new object for plotting\n",
    "    link_lengthes = ini_robot_obj.link_lengthes\n",
    "    initial_angles = ini_robot_obj.joint_angles\n",
    "    initial_angular_velocities = ini_robot_obj.angular_velocities\n",
    "    robotic_arm = rbl.Robotic_Manipulator_Naive(link_lengthes, initial_angles, initial_angular_velocities)\n",
    "    \n",
    "    # create the policy object based on the q function\n",
    "    policy_obj = rbl.Policy_Object(q_obj, env_obj)\n",
    "    \n",
    "    # start\n",
    "    state = robotic_arm.state\n",
    "    action = policy_obj.softmax_policy(state[:-1])\n",
    "    print(state)\n",
    "    print(action)\n",
    "    state_list = [state]\n",
    "    action_list = [action]\n",
    "    \n",
    "    Y = []\n",
    "    # plot the background\n",
    "    draw_background()\n",
    "    objs2delete = draw_robotics(robotic_arm.joint_abs_locations)\n",
    "    while not robotic_arm.release:\n",
    "        tmp_x = np.concatenate((state[:-1], action))\n",
    "\n",
    "        robotic_arm.update_rm(action)\n",
    "        robotic_arm.loc_joints()\n",
    "        objs2delete = draw_robotics(robotic_arm.joint_abs_locations, objs2delete)\n",
    "        next_state = robotic_arm.state\n",
    "\n",
    "        reward = rbl.reward_function(robotic_arm, alpha=1, env_obj=env_obj)\n",
    "\n",
    "        next_action = policy_obj.softmax_policy(next_state[:-1])\n",
    "        tmp_y = reward + discounting * q_obj.predict(np.concatenate((next_state[:-1], next_action))[np.newaxis, :])[0, 0]\n",
    "        Y.append(tmp_y)\n",
    "\n",
    "        state = next_state\n",
    "        action = next_action\n",
    "        print(state)\n",
    "        print(action)\n",
    "        state_list.append(state)\n",
    "        action_list.append(action)\n"
   ]
  },
  {
   "cell_type": "code",
   "execution_count": 32,
   "metadata": {
    "collapsed": false
   },
   "outputs": [
    {
     "name": "stdout",
     "output_type": "stream",
     "text": [
      "[ 0.          0.          0.          0.          3.14159265  0.          0.\n",
      "  0.          0.          0.         -0.27576202  0.67369709  0.        ]\n",
      "[ 0.          0.          0.          0.         -0.00349066  0.00349066\n",
      "  1.        ]\n"
     ]
    },
    {
     "data": {
      "text/html": [
       "<div id=\"glowscript\" class=\"glowscript\"></div>"
      ],
      "text/plain": [
       "<IPython.core.display.HTML object>"
      ]
     },
     "metadata": {},
     "output_type": "display_data"
    },
    {
     "data": {
      "application/javascript": [
       "window.__context = { glowscript_container: $(\"#glowscript\").removeAttr(\"id\")}"
      ],
      "text/plain": [
       "<IPython.core.display.Javascript object>"
      ]
     },
     "metadata": {},
     "output_type": "display_data"
    },
    {
     "name": "stdout",
     "output_type": "stream",
     "text": [
      "[ 0.          0.          0.          0.          2.86583063  0.67369709\n",
      "  0.          0.          0.          0.         -0.27925268  0.67718775\n",
      "  1.        ]\n",
      "[ 0.          0.          0.          0.          0.00349066  0.          0.        ]\n"
     ]
    }
   ],
   "source": [
    "throw_the_ball(initial_rm, q_obj, env_obj)"
   ]
  },
  {
   "cell_type": "code",
   "execution_count": null,
   "metadata": {
    "collapsed": true
   },
   "outputs": [],
   "source": []
  },
  {
   "cell_type": "markdown",
   "metadata": {},
   "source": [
    "## move the robot by applying acceleration"
   ]
  },
  {
   "cell_type": "code",
   "execution_count": 10,
   "metadata": {
    "collapsed": false
   },
   "outputs": [],
   "source": [
    "# apply acceleration joint by joint\n",
    "def test_accelerate_joint(joint_idx):\n",
    "    num_accelerations = 20\n",
    "    # first move in the \n",
    "    acceleration_1st = np.zeros((num_accelerations, len(rbl.action_spaces)))\n",
    "    acceleration_1st[:, joint_idx] = rbl.acceleration_resolution\n",
    "\n",
    "    acceleration_2nd = np.zeros((num_accelerations * 4, len(rbl.action_spaces)))\n",
    "    acceleration_2nd[:, joint_idx] = -1 * rbl.acceleration_resolution\n",
    "    \n",
    "    acceleration_3rd = np.zeros((num_accelerations * 3, len(rbl.action_spaces)))\n",
    "    acceleration_3rd[:, joint_idx] = rbl.acceleration_resolution\n",
    "    return(np.vstack([acceleration_1st, acceleration_2nd, acceleration_3rd]))"
   ]
  },
  {
   "cell_type": "code",
   "execution_count": 11,
   "metadata": {
    "collapsed": false
   },
   "outputs": [
    {
     "data": {
      "text/html": [
       "<div id=\"glowscript\" class=\"glowscript\"></div>"
      ],
      "text/plain": [
       "<IPython.core.display.HTML object>"
      ]
     },
     "metadata": {},
     "output_type": "display_data"
    },
    {
     "data": {
      "application/javascript": [
       "window.__context = { glowscript_container: $(\"#glowscript\").removeAttr(\"id\")}"
      ],
      "text/plain": [
       "<IPython.core.display.Javascript object>"
      ]
     },
     "metadata": {},
     "output_type": "display_data"
    }
   ],
   "source": [
    "rm = initial_rm\n",
    "draw_background()\n",
    "objs2delete = draw_robotics(rm.joint_abs_locations)\n",
    "for idx in range(num_rotations):\n",
    "    acceleration_matrix = test_accelerate_joint(idx)\n",
    "    for action in acceleration_matrix:\n",
    "        rate(20)\n",
    "        rm.update_rm(action)\n",
    "#         print(rm.angular_velocities)\n",
    "        rm.loc_joints()\n",
    "        objs2delete = draw_robotics(rm.joint_abs_locations, objs2delete)"
   ]
  },
  {
   "cell_type": "code",
   "execution_count": 14,
   "metadata": {
    "collapsed": false
   },
   "outputs": [
    {
     "name": "stdout",
     "output_type": "stream",
     "text": [
      "[[0.001, 0, -0.001], [0.001, 0, -0.001], [0.001, 0, -0.001], [0.001, 0, -0.001], [0.001, 0, -0.001], [0.001, 0, -0.001], [0, 1]]\n"
     ]
    }
   ],
   "source": [
    "print(rbl.action_spaces)"
   ]
  },
  {
   "cell_type": "code",
   "execution_count": 13,
   "metadata": {
    "collapsed": false
   },
   "outputs": [
    {
     "name": "stdout",
     "output_type": "stream",
     "text": [
      "[[ 0.001  0.001  0.001 ...,  0.001  0.001  0.   ]\n",
      " [ 0.001  0.001  0.001 ...,  0.001  0.001  1.   ]\n",
      " [ 0.001  0.001  0.001 ...,  0.001  0.     0.   ]\n",
      " ..., \n",
      " [-0.001 -0.001 -0.001 ..., -0.001  0.     1.   ]\n",
      " [-0.001 -0.001 -0.001 ..., -0.001 -0.001  0.   ]\n",
      " [-0.001 -0.001 -0.001 ..., -0.001 -0.001  1.   ]]\n"
     ]
    }
   ],
   "source": [
    "print(rbl.action_combinations)"
   ]
  },
  {
   "cell_type": "code",
   "execution_count": null,
   "metadata": {
    "collapsed": true
   },
   "outputs": [],
   "source": [
    "print(rbl.ext_)"
   ]
  },
  {
   "cell_type": "markdown",
   "metadata": {},
   "source": [
    "### joint by joint movements"
   ]
  },
  {
   "cell_type": "code",
   "execution_count": 4,
   "metadata": {
    "collapsed": false
   },
   "outputs": [
    {
     "data": {
      "text/html": [
       "<div id=\"glowscript\" class=\"glowscript\"></div>"
      ],
      "text/plain": [
       "<IPython.core.display.HTML object>"
      ]
     },
     "metadata": {},
     "output_type": "display_data"
    },
    {
     "data": {
      "application/javascript": [
       "window.__context = { glowscript_container: $(\"#glowscript\").removeAttr(\"id\")}"
      ],
      "text/plain": [
       "<IPython.core.display.Javascript object>"
      ]
     },
     "metadata": {},
     "output_type": "display_data"
    }
   ],
   "source": [
    "max_rotation = np.pi / 2\n",
    "num_steps = 20\n",
    "rotation_angles = np.concatenate((np.linspace(0, max_rotation, num=num_steps), \n",
    "                                np.linspace(max_rotation, 0, num=num_steps),\n",
    "                                np.linspace(0, -max_rotation, num=num_steps),\n",
    "                                np.linspace(-max_rotation, 0, num=num_steps)))\n",
    "num_angles = len(rotation_angles)\n",
    "# draw initial configuration of the robot\n",
    "qs = np.zeros(num_rotations)\n",
    "rm.configure_robots(qs)\n",
    "draw_background()\n",
    "objs2delete = draw_robotics(rm.joint_abs_locations)\n",
    "\n",
    "for idx in xrange(num_rotations):\n",
    "    for idj in xrange(num_angles):\n",
    "        rate(20)\n",
    "        qs[idx] = rotation_angles[idj]\n",
    "        rm.configure_robots(qs)\n",
    "        objs2delete = draw_robotics(rm.joint_abs_locations, objs2delete)"
   ]
  },
  {
   "cell_type": "markdown",
   "metadata": {},
   "source": [
    "### random movements"
   ]
  },
  {
   "cell_type": "code",
   "execution_count": 5,
   "metadata": {
    "collapsed": false,
    "scrolled": false
   },
   "outputs": [
    {
     "data": {
      "text/html": [
       "<div id=\"glowscript\" class=\"glowscript\"></div>"
      ],
      "text/plain": [
       "<IPython.core.display.HTML object>"
      ]
     },
     "metadata": {},
     "output_type": "display_data"
    },
    {
     "data": {
      "application/javascript": [
       "window.__context = { glowscript_container: $(\"#glowscript\").removeAttr(\"id\")}"
      ],
      "text/plain": [
       "<IPython.core.display.Javascript object>"
      ]
     },
     "metadata": {},
     "output_type": "display_data"
    }
   ],
   "source": [
    "target_angles = (np.random.rand(num_rotations) - 0.5) * np.pi\n",
    "target_angles[0] = np.pi / 2\n",
    "num_steps = 200\n",
    "delta_angles = target_angles / num_steps\n",
    "\n",
    "# draw initial configuration of the robot\n",
    "qs = np.zeros(num_rotations)\n",
    "rm.configure_robots(qs)\n",
    "draw_background()\n",
    "objs2delete = draw_robotics(rm.joint_abs_locations)\n",
    "\n",
    "# draw the movements\n",
    "for idx in xrange(num_steps):\n",
    "    rate(20)\n",
    "    qs += delta_angles\n",
    "    rm.configure_robots(qs)\n",
    "    objs2delete = draw_robotics(rm.joint_abs_locations, objs2delete)"
   ]
  },
  {
   "cell_type": "markdown",
   "metadata": {},
   "source": [
    "### input the rotation angles and display"
   ]
  },
  {
   "cell_type": "code",
   "execution_count": 9,
   "metadata": {
    "collapsed": false
   },
   "outputs": [
    {
     "data": {
      "text/html": [
       "<div id=\"glowscript\" class=\"glowscript\"></div>"
      ],
      "text/plain": [
       "<IPython.core.display.HTML object>"
      ]
     },
     "metadata": {},
     "output_type": "display_data"
    },
    {
     "data": {
      "application/javascript": [
       "window.__context = { glowscript_container: $(\"#glowscript\").removeAttr(\"id\")}"
      ],
      "text/plain": [
       "<IPython.core.display.Javascript object>"
      ]
     },
     "metadata": {},
     "output_type": "display_data"
    }
   ],
   "source": [
    "rm = rbl.Robotic_Manipulator_Naive(link_lengthes, initial_angles)\n",
    "draw_background()\n",
    "objs = draw_robotics(rm.joint_abs_locations)\n",
    "qs = [np.pi/4, 0, 0, 0, 0, 0]\n",
    "rm.configure_robots(qs)\n",
    "objs = draw_robotics(rm.joint_abs_locations, objs)"
   ]
  },
  {
   "cell_type": "markdown",
   "metadata": {
    "collapsed": true
   },
   "source": [
    "### location of the end effector"
   ]
  },
  {
   "cell_type": "code",
   "execution_count": 10,
   "metadata": {
    "collapsed": false
   },
   "outputs": [
    {
     "name": "stdout",
     "output_type": "stream",
     "text": [
      "[-3.53553391  0.70710678  4.          1.        ]\n"
     ]
    }
   ],
   "source": [
    "print(rm.joint_abs_locations[-1])"
   ]
  },
  {
   "cell_type": "code",
   "execution_count": null,
   "metadata": {
    "collapsed": true
   },
   "outputs": [],
   "source": []
  },
  {
   "cell_type": "code",
   "execution_count": null,
   "metadata": {
    "collapsed": true
   },
   "outputs": [],
   "source": []
  },
  {
   "cell_type": "code",
   "execution_count": null,
   "metadata": {
    "collapsed": true
   },
   "outputs": [],
   "source": []
  },
  {
   "cell_type": "markdown",
   "metadata": {},
   "source": [
    "\n",
    "# Questions:\n",
    "\n",
    "1. How to calculate the velocity of the end-effector? \n",
    "\n",
    "    a. Use Jacobians for differential kinematics. ---> How to calculate the Jacobian matrix in the real world?\n",
    "    \n",
    "    b. Use Q-learning \n",
    "\n",
    "\n",
    "# implement RL for the throwing task\n",
    "\n",
    "1. State and actions: \n",
    "\n",
    "    a. State: \n",
    "        \n",
    "        i. position (q), velocity (v), and acceleration (a) of the joints\n",
    "        \n",
    "        ii. state of the end effector (hold/release)\n",
    "        \n",
    "        iii. terminal state: e=release\n",
    "    \n",
    "    b. action:\n",
    "    \n",
    "        i. acceleration of the joints\n",
    "        \n",
    "        ii. release/hold\n",
    "        \n",
    "    c. environment:\n",
    "    \n",
    "        i. location of the target busket\n",
    "        \n",
    "        i. initial configuration of the robot: joint angles, 0 velocity & acceleration\n",
    "        \n",
    "        i. position (x), velocity of the end-effector\n",
    "    \n",
    "2. Fixed the first 4 joints and restrain the position of the ball to be on the xz plane for simplicity. \n",
    "\n",
    "    a. In this case, there're only 3 actions: rotation of the last 2 joints and release/hold at the end-effector. \n",
    "    \n",
    "3. Problems to solve:\n",
    "\n",
    "    a. Technical problems:\n",
    "        \n",
    "        i. convert from joint positions into absolte positions, velocities, and acceleration\n",
    "        \n",
    "        ii. how to calculate and represent the moving direction of the end-effector\n",
    "        \n",
    "        iii. what algorithm to use for value function approximation? \n",
    "    \n",
    "    b. RL problems:\n",
    "    \n",
    "        i. "
   ]
  }
 ],
 "metadata": {
  "kernelspec": {
   "display_name": "Python 2",
   "language": "python",
   "name": "python2"
  },
  "language_info": {
   "codemirror_mode": {
    "name": "ipython",
    "version": 2
   },
   "file_extension": ".py",
   "mimetype": "text/x-python",
   "name": "python",
   "nbconvert_exporter": "python",
   "pygments_lexer": "ipython2",
   "version": "2.7.14"
  }
 },
 "nbformat": 4,
 "nbformat_minor": 2
}

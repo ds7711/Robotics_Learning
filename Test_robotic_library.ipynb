{
 "cells": [
  {
   "cell_type": "code",
   "execution_count": 3,
   "metadata": {
    "collapsed": false
   },
   "outputs": [],
   "source": [
    "# import libraries\n",
    "from vpython import *\n",
    "import numpy as np\n",
    "import robotics_library as rbl\n",
    "import matplotlib.pylab as plt\n",
    "%matplotlib inline\n",
    "from keras.models import load_model\n",
    "import copy"
   ]
  },
  {
   "cell_type": "code",
   "execution_count": null,
   "metadata": {
    "collapsed": true
   },
   "outputs": [],
   "source": []
  },
  {
   "cell_type": "markdown",
   "metadata": {},
   "source": [
    "### test the learned policy"
   ]
  },
  {
   "cell_type": "code",
   "execution_count": 5,
   "metadata": {
    "collapsed": false
   },
   "outputs": [],
   "source": [
    "env_name = \"2d\"\n",
    "model_name = env_name + \".h5\"\n",
    "env_obj = rbl.Env2D()\n",
    "q_object = load_model(model_name)\n",
    "link_lengthes = env_obj.link_lengthes\n",
    "initial_angles = env_obj.initial_angles\n",
    "initial_angular_velocities = env_obj.initial_angular_velocities\n",
    "initial_rm = rbl.Robotic_Manipulator_Naive(link_lengthes, initial_angles, initial_angular_velocities)"
   ]
  },
  {
   "cell_type": "code",
   "execution_count": 9,
   "metadata": {
    "collapsed": false
   },
   "outputs": [
    {
     "name": "stdout",
     "output_type": "stream",
     "text": [
      "('Successful throw!!!', 0.78870559792287165)\n",
      "> /home/md/Dropbox/Courses/2017_Fall_Robotics_Learning/Robotics_Learning/robotics_library.py(390)reward_function()\n",
      "-> return(reward)\n",
      "(Pdb) l\n",
      "385  \t            # reward = 1.0 / (1 + tmp_ball.min_dist_to_hoop)\n",
      "386  \t            if tmp_ball.min_dist_to_hoop < env_obj.dist_threshold:\n",
      "387  \t                print(\"Successful throw!!!\", tmp_ball.min_dist_to_hoop)\n",
      "388  \t                pdb.set_trace()\n",
      "389  \t        # pdb.set_trace()\n",
      "390  ->\t        return(reward)\n",
      "391  \t    else:\n",
      "392  \t        print(\"Errors in reward function!!!\")\n",
      "393  \t        return(None)\n",
      "394  \t\n",
      "395  \t\n",
      "(Pdb) n\n",
      "--Return--\n",
      "> /home/md/Dropbox/Courses/2017_Fall_Robotics_Learning/Robotics_Learning/robotics_library.py(390)reward_function()->0.13921107188973231\n",
      "-> return(reward)\n",
      "(Pdb) continue\n"
     ]
    }
   ],
   "source": [
    "ee_trj_list, ee_pos, ee_speed, reward, score = rbl.test_q_function(q_object, \n",
    "                                                                   env_obj)"
   ]
  },
  {
   "cell_type": "code",
   "execution_count": 10,
   "metadata": {
    "collapsed": false
   },
   "outputs": [
    {
     "name": "stdout",
     "output_type": "stream",
     "text": [
      "[0.0, 0.0, 0.0, 0.0, 0.0, 0.0, 0.0, 0.0, 0.0, 0.0, 0.0, 0.0, 0.0, 0.0, 0.0, 0.0, 0.0, 0.0, 0.0, 0.0, 0.0, 0.0, 0.0, 0.0, 0.0, 0.0, 0.0, 0.0, 0.0, 0.0, 0.0, 0.0, 0.0, 0.0, 0.0, 1.0, 0.0, 0.0, 0.0, 0.0, 0.0, 0.0, 0.0, 0.0, 0.0, 0.0, 0.0, 0.0, 0.0, 0.0, 0.0, 0.0, 0.0, 0.0, 0.0, 0.0, 0.0, 0.0, 0.0, 0.0, 0.0, 0.0, 0.0, 0.0, 0.0, 0.0, 0.0, 0.0, 0.0, 0.0, 0.0, 0.0, 0.0, 0.0, 0.0, 0.0, 0.0, 0.0, 0.0, 0.0, 0.0, 0.0, 0.0, 0.0, 0.0, 0.0, 0.0, 0.0, 0.0, 0.0, 0.0, 0.0, 0.0, 0.0, 0.0, 0.0, 0.0, 0.0, 0.0, 0.0]\n"
     ]
    }
   ],
   "source": [
    "print(score)"
   ]
  },
  {
   "cell_type": "code",
   "execution_count": null,
   "metadata": {
    "collapsed": true
   },
   "outputs": [],
   "source": []
  },
  {
   "cell_type": "code",
   "execution_count": null,
   "metadata": {
    "collapsed": true
   },
   "outputs": [],
   "source": []
  },
  {
   "cell_type": "code",
   "execution_count": null,
   "metadata": {
    "collapsed": true
   },
   "outputs": [],
   "source": []
  },
  {
   "cell_type": "code",
   "execution_count": null,
   "metadata": {
    "collapsed": true
   },
   "outputs": [],
   "source": []
  },
  {
   "cell_type": "markdown",
   "metadata": {},
   "source": [
    "## test the maximum speed reachable"
   ]
  },
  {
   "cell_type": "code",
   "execution_count": 2,
   "metadata": {
    "collapsed": false
   },
   "outputs": [
    {
     "name": "stdout",
     "output_type": "stream",
     "text": [
      "[[  0.00000000e+00   0.00000000e+00   1.00000000e+00   1.00000000e+00]\n",
      " [  0.00000000e+00   0.00000000e+00   4.00000000e+00   1.00000000e+00]\n",
      " [  0.00000000e+00   1.00000000e+00   4.00000000e+00   1.00000000e+00]\n",
      " [  0.00000000e+00   2.00000000e+00   4.00000000e+00   1.00000000e+00]\n",
      " [  0.00000000e+00   3.00000000e+00   4.00000000e+00   1.00000000e+00]\n",
      " [  1.22464680e-16   3.00000000e+00   2.00000000e+00   1.00000000e+00]\n",
      " [  1.83697020e-16   3.00000000e+00   1.00000000e+00   1.00000000e+00]]\n",
      "[ 0.  0.  0.  0.]\n"
     ]
    }
   ],
   "source": [
    "env_name = \"2d\"\n",
    "env_obj = rbl.Env2D()\n",
    "link_lengthes = np.asarray([1, 3, 1, 1, 1, 2, 1])\n",
    "initial_angles = [0, 0, 0, 0, -np.pi/4, 0]\n",
    "initial_angular_velocities = np.asarray([0, 0, 0, 0, 0, 0])\n",
    "ini_rm = rbl.Robotic_Manipulator_Naive(link_lengthes, initial_angles, initial_angular_velocities)\n",
    "ancher = ini_rm.loc_joints()[-3]\n",
    "print(ini_rm.loc_joints())\n",
    "print(ini_rm.cal_ee_speed())"
   ]
  },
  {
   "cell_type": "code",
   "execution_count": 13,
   "metadata": {
    "collapsed": false
   },
   "outputs": [
    {
     "name": "stdout",
     "output_type": "stream",
     "text": [
      "[ 0  0  0  0 50  0  0]\n"
     ]
    }
   ],
   "source": [
    "action = np.asarray([0, 0, 0, 0, 50, 0, 0])\n",
    "print(action)"
   ]
  },
  {
   "cell_type": "code",
   "execution_count": 14,
   "metadata": {
    "collapsed": false
   },
   "outputs": [
    {
     "data": {
      "text/plain": [
       "[[0],\n",
       " [0],\n",
       " [0],\n",
       " [0],\n",
       " [1000.0, 500.0, 50.0, 0.0, -50.0, -500.0, -1000.0],\n",
       " [1000.0, 500.0, 50.0, 0.0, -50.0, -500.0, -1000.0],\n",
       " [0, 1]]"
      ]
     },
     "execution_count": 14,
     "metadata": {},
     "output_type": "execute_result"
    }
   ],
   "source": [
    "env_obj.action_spaces"
   ]
  },
  {
   "cell_type": "code",
   "execution_count": 15,
   "metadata": {
    "collapsed": false
   },
   "outputs": [],
   "source": [
    "rm = copy.deepcopy(ini_rm)\n",
    "locs = []\n",
    "speeds = []\n",
    "for iii in range(20):\n",
    "    rm.update_rm(action)\n",
    "    locs.append(rm.loc_joints()[-1][[0, 2]])\n",
    "    speeds.append(rm.cal_ee_speed()[[0, 2]])\n",
    "locs = np.asarray(locs)\n",
    "speeds = np.asarray(speeds)"
   ]
  },
  {
   "cell_type": "code",
   "execution_count": 16,
   "metadata": {
    "collapsed": false
   },
   "outputs": [
    {
     "data": {
      "text/plain": [
       "<matplotlib.collections.PathCollection at 0x7f0084d27710>"
      ]
     },
     "execution_count": 16,
     "metadata": {},
     "output_type": "execute_result"
    },
    {
     "data": {
      "image/png": "[encoded data removed]",
      "text/plain": [
       "<matplotlib.figure.Figure at 0x7f0086fe2f10>"
      ]
     },
     "metadata": {},
     "output_type": "display_data"
    }
   ],
   "source": [
    "plt.scatter(env_obj.hoop_position[0], env_obj.hoop_position[2], marker=\"o\")\n",
    "plt.scatter(ancher[0], ancher[2], marker=\"*\")\n",
    "plt.scatter(locs[:, 0], locs[:, 1])\n",
    "# plt.plot(locs[:, 0], locs[:, 1])\n",
    "# print(speeds)"
   ]
  },
  {
   "cell_type": "code",
   "execution_count": 17,
   "metadata": {
    "collapsed": false
   },
   "outputs": [
    {
     "data": {
      "text/plain": [
       "<matplotlib.collections.PathCollection at 0x7f0084c9ad10>"
      ]
     },
     "execution_count": 17,
     "metadata": {},
     "output_type": "execute_result"
    },
    {
     "data": {
      "image/png": "[encoded data removed]",
      "text/plain": [
       "<matplotlib.figure.Figure at 0x7f0084e006d0>"
      ]
     },
     "metadata": {},
     "output_type": "display_data"
    }
   ],
   "source": [
    "plt.scatter(speeds[:, 0], speeds[:, 1])"
   ]
  },
  {
   "cell_type": "code",
   "execution_count": null,
   "metadata": {
    "collapsed": true
   },
   "outputs": [],
   "source": []
  },
  {
   "cell_type": "code",
   "execution_count": null,
   "metadata": {
    "collapsed": true
   },
   "outputs": [],
   "source": []
  },
  {
   "cell_type": "markdown",
   "metadata": {},
   "source": [
    "### visualization functions"
   ]
  },
  {
   "cell_type": "code",
   "execution_count": 10,
   "metadata": {
    "collapsed": true
   },
   "outputs": [],
   "source": [
    "def draw_background():\n",
    "    scene = canvas(background=color.black, up=vector(-1, -1, 0), height=600, center=vector(0, 0, 0))\n",
    "    scene.camera.pos = vector(3.5, 3.5, 10)\n",
    "    scene.camera.axis = vector(-3.5, -3.5, -10)\n",
    "    \n",
    "    # plot the axises\n",
    "    axis_length = 3\n",
    "    x = arrow(pos=vector(0,0,0), axis=vector(axis_length,0,0), shaftwidth=0.1, color=color.red)\n",
    "    text(text='x', pos=vector(axis_length,0,0), axis=vector(axis_length,0,0))\n",
    "    y = arrow(pos=vector(0,0,0), axis=vector(0,axis_length,0), shaftwidth=0.1, color=color.green)\n",
    "    text(text='y', pos=vector(0,axis_length,0), axis=vector(0,axis_length,0))\n",
    "    z = arrow(pos=vector(0,0,0), axis=vector(0,0,-axis_length), shaftwidth=0.1, color=color.blue)\n",
    "    text(text='-z', pos=vector(0,0,-axis_length), axis=vector(0,0,-axis_length))\n",
    "    return(scene)\n",
    "\n",
    "def draw_robotics(joint_locs, objects2delete=[]):\n",
    "    \n",
    "    # delete the old positions\n",
    "    for obj in objects2delete:\n",
    "        obj.visible = False\n",
    "        del obj \n",
    "\n",
    "    # color list\n",
    "    color_list = [color.cyan, color.yellow, color.magenta, color.orange, vector(0.7, 0.2, 0.1),\n",
    "                  vector(0.2, 0.1, 0.7), vector(0.7, 0.7, 0.8)]\n",
    "    \n",
    "    # draw the links\n",
    "    curve_list = [[] for _ in xrange(len(joint_locs))] # container to store the objects that make up the robot\n",
    "    curve_list[0] = curve(pos=[vector(0, 0, 0), vector(*joint_locs[0, :3])], radius=0.5)\n",
    "\n",
    "    for idx in xrange(1, len(joint_locs), 1):\n",
    "        p0 = vector(*joint_locs[idx-1, :3])\n",
    "        p1 = vector(*joint_locs[idx, :3])\n",
    "        curve_list[idx] = curve(pos=[p0, p1], color=color_list[idx])\n",
    "        \n",
    "        \n",
    "    end_effector = box(pos=vector(*joint_locs[-1, :3]), length=0.7, height=0.2, width=0.3)\n",
    "    curve_list.append(end_effector)\n",
    "\n",
    "    return(curve_list)"
   ]
  },
  {
   "cell_type": "code",
   "execution_count": 11,
   "metadata": {
    "collapsed": false
   },
   "outputs": [
    {
     "name": "stdout",
     "output_type": "stream",
     "text": [
      "4\n"
     ]
    }
   ],
   "source": [
    "env_name = \"2d\"\n",
    "env_obj = rbl.Env2D()\n",
    "model_name = env_name + \"_working.h5\"\n",
    "q_object = load_model(model_name)\n",
    "print(env_obj.hoop_size)"
   ]
  },
  {
   "cell_type": "code",
   "execution_count": 12,
   "metadata": {
    "collapsed": false
   },
   "outputs": [
    {
     "name": "stdout",
     "output_type": "stream",
     "text": [
      "(4, 2)\n"
     ]
    }
   ],
   "source": [
    "new_obj = copy.deepcopy(env_obj)\n",
    "new_obj.hoop_size = 2\n",
    "print(env_obj.hoop_size, new_obj.hoop_size)"
   ]
  },
  {
   "cell_type": "code",
   "execution_count": 13,
   "metadata": {
    "collapsed": false
   },
   "outputs": [],
   "source": [
    "# link_lengthes = [1, 3, 1, 1, 1, 1, 1]\n",
    "# initial_angles = [0, 0, 0, 0, -np.pi/4, 0]\n",
    "# initial_angular_velocities = np.zeros(env_obj.num_joints)\n",
    "\n",
    "# initial_rm = rbl.Robotic_Manipulator_Naive(link_lengthes, initial_angles, initial_angular_velocities)"
   ]
  },
  {
   "cell_type": "code",
   "execution_count": 14,
   "metadata": {
    "collapsed": false,
    "scrolled": true
   },
   "outputs": [
    {
     "name": "stdout",
     "output_type": "stream",
     "text": [
      "('Successful throw!!!', 0.34476169182121075)\n",
      "()\n",
      "('Successful throw!!!', 0.5514298120673452)\n",
      "()\n",
      "('Successful throw!!!', 0.81926129854810903)\n",
      "()\n",
      "('Successful throw!!!', 0.60792273826094678)\n",
      "()\n"
     ]
    }
   ],
   "source": [
    "ee_trj_list, ee_pos, ee_speed, reward, score = rbl.test_q_function(q_object, \n",
    "                                                                   env_obj)"
   ]
  },
  {
   "cell_type": "code",
   "execution_count": 18,
   "metadata": {
    "collapsed": false
   },
   "outputs": [],
   "source": [
    "success_idx = np.argmax(reward)\n",
    "ee_pos_success = ee_trj_list[success_idx]"
   ]
  },
  {
   "cell_type": "code",
   "execution_count": 21,
   "metadata": {
    "collapsed": false
   },
   "outputs": [
    {
     "name": "stdout",
     "output_type": "stream",
     "text": [
      "[ 4.31005245  0.          5.32423661  0.        ]\n",
      "[array([  1.22464680e-16,   3.00000000e+00,   2.00000000e+00,\n",
      "         1.00000000e+00]), array([  1.22464680e-16,   3.00000000e+00,   2.00000000e+00,\n",
      "         1.00000000e+00]), array([ 0.17364818,  3.        ,  2.01519225,  1.        ]), array([ 0.5      ,  3.       ,  2.1339746,  1.       ]), array([ 0.8660254,  3.       ,  2.5      ,  1.       ]), array([ 0.98480775,  3.        ,  3.17364818,  1.        ]), array([ 0.5      ,  3.       ,  3.8660254,  1.       ]), array([-0.5      ,  3.       ,  3.8660254,  1.       ]), array([-0.98480775,  3.        ,  2.82635182,  1.        ]), array([ -1.22464680e-16,   3.00000000e+00,   2.00000000e+00,\n",
      "         1.00000000e+00]), array([ 1.,  3.,  3.,  1.]), array([-0.17364818,  3.        ,  3.98480775,  1.        ]), array([-0.8660254,  3.       ,  2.5      ,  1.       ]), array([ 0.8660254,  3.       ,  2.5      ,  1.       ]), array([-0.17364818,  3.        ,  3.98480775,  1.        ]), array([-0.5      ,  3.       ,  2.1339746,  1.       ]), array([ 0.8660254,  3.       ,  3.5      ,  1.       ]), array([-0.98480775,  3.        ,  2.82635182,  1.        ]), array([ 1.,  3.,  3.,  1.]), array([-1.,  3.,  3.,  1.]), array([ 0.98480775,  3.        ,  3.17364818,  1.        ]), array([-0.8660254,  3.       ,  2.5      ,  1.       ]), array([ 0.5      ,  3.       ,  3.8660254,  1.       ]), array([ 0.17364818,  3.        ,  2.01519225,  1.        ]), array([-0.8660254,  3.       ,  3.5      ,  1.       ]), array([ 0.8660254,  3.       ,  3.5      ,  1.       ]), array([ 0.17364818,  3.        ,  2.01519225,  1.        ]), array([-1.,  3.,  3.,  1.]), array([  2.74407540e-14,   3.00000000e+00,   4.00000000e+00,\n",
      "         1.00000000e+00]), array([ 0.98480775,  3.        ,  3.17364818,  1.        ]), array([ 0.5      ,  3.       ,  2.1339746,  1.       ]), array([-0.5      ,  3.       ,  2.1339746,  1.       ]), array([-0.98480775,  3.        ,  2.82635182,  1.        ]), array([-0.8660254,  3.       ,  3.5      ,  1.       ]), array([-0.5      ,  3.       ,  3.8660254,  1.       ]), array([-0.17364818,  3.        ,  3.98480775,  1.        ]), array([  6.46823963e-14,   3.00000000e+00,   4.00000000e+00,\n",
      "         1.00000000e+00]), array([  7.20327531e-14,   3.00000000e+00,   4.00000000e+00,\n",
      "         1.00000000e+00]), array([-0.17364818,  3.        ,  3.98480775,  1.        ]), array([-0.5      ,  3.       ,  3.8660254,  1.       ]), array([-0.8660254,  3.       ,  3.5      ,  1.       ]), array([-0.98480775,  3.        ,  2.82635182,  1.        ]), array([-0.5      ,  3.       ,  2.1339746,  1.       ]), array([ 0.5      ,  3.       ,  2.1339746,  1.       ]), array([ 0.98480775,  3.        ,  3.17364818,  1.        ]), array([  1.38185964e-13,   3.00000000e+00,   4.00000000e+00,\n",
      "         1.00000000e+00]), array([-1.,  3.,  3.,  1.]), array([ 0.17364818,  3.        ,  2.01519225,  1.        ]), array([ 0.8660254,  3.       ,  3.5      ,  1.       ]), array([-0.8660254,  3.       ,  3.5      ,  1.       ]), array([ 0.17364818,  3.        ,  2.01519225,  1.        ]), array([ 0.5      ,  3.       ,  3.8660254,  1.       ]), array([-0.8660254,  3.       ,  2.5      ,  1.       ]), array([ 0.98480775,  3.        ,  3.17364818,  1.        ]), array([-1.,  3.,  3.,  1.]), array([ 1.,  3.,  3.,  1.]), array([-0.98480775,  3.        ,  2.82635182,  1.        ]), array([ 0.8660254,  3.       ,  3.5      ,  1.       ]), array([-0.5      ,  3.       ,  2.1339746,  1.       ]), array([-0.00698092,  3.        ,  4.00007311,  1.        ]), array([ 0.60410766,  3.        ,  2.2254454 ,  1.        ]), array([-1.04165634,  3.        ,  3.02181959,  1.        ]), array([ 0.4681644 ,  3.        ,  3.85328617,  1.        ]), array([ 0.545905 ,  3.       ,  2.2144252,  1.       ]), array([-0.96988142,  3.        ,  2.54021111,  1.        ]), array([-0.55468083,  3.        ,  3.89418897,  1.        ]), array([ 0.68926244,  3.        ,  3.60525568,  1.        ]), array([ 0.70758801,  3.        ,  2.45449375,  1.        ]), array([-0.20892957,  3.        ,  2.01216788,  1.        ]), array([-0.9660866 ,  3.        ,  2.42964865,  1.        ]), array([-1.16326161,  3.        ,  3.09768181,  1.        ]), array([-0.99766404,  3.        ,  3.59286085,  1.        ]), array([-0.75920135,  3.        ,  3.84415834,  1.        ]), array([-0.61464833,  3.        ,  3.93539786,  1.        ]), array([-0.62189753,  3.        ,  3.94121338,  1.        ]), array([-0.78270534,  3.        ,  3.86480331,  1.        ]), array([-1.04521981,  3.        ,  3.63601595,  1.        ]), array([-1.25340472,  3.        ,  3.1672399 ,  1.        ]), array([-1.12368545,  3.        ,  2.50881904,  1.        ]), array([-0.43511483,  3.        ,  2.05340817,  1.        ]), array([ 0.47696807,  3.        ,  2.42020552,  1.        ])]\n"
     ]
    }
   ],
   "source": [
    "print(ee_speed[success_idx])\n",
    "print(ee_pos_success)"
   ]
  },
  {
   "cell_type": "code",
   "execution_count": null,
   "metadata": {
    "collapsed": false
   },
   "outputs": [],
   "source": []
  },
  {
   "cell_type": "markdown",
   "metadata": {},
   "source": [
    "## test the ball object"
   ]
  },
  {
   "cell_type": "code",
   "execution_count": null,
   "metadata": {
    "collapsed": false
   },
   "outputs": [],
   "source": [
    "env_name = \"2d\"\n",
    "env_obj = rbl.env_dict[env_name]\n",
    "tmp_ball = rbl.Ball([0, 3, 2], [2.5, 0, 10], env_obj)\n",
    "ball_trajectories = tmp_ball.update()"
   ]
  },
  {
   "cell_type": "code",
   "execution_count": null,
   "metadata": {
    "collapsed": false
   },
   "outputs": [],
   "source": [
    "plt.scatter(ball_trajectories[:, 0], ball_trajectories[:, 2])\n",
    "plt.scatter(env_obj.hoop_position[0], env_obj.hoop_position[2], marker=\"*\")\n",
    "plt.show()\n",
    "print(tmp_ball.min_dist_to_hoop)"
   ]
  },
  {
   "cell_type": "code",
   "execution_count": null,
   "metadata": {
    "collapsed": false
   },
   "outputs": [],
   "source": [
    "a = ball_trajectories[:, [0, 2]] - env_obj.hoop_position[[0, 2]]\n",
    "dist = [np.linalg.norm(item, ord=2) for item in a]"
   ]
  },
  {
   "cell_type": "code",
   "execution_count": null,
   "metadata": {
    "collapsed": false
   },
   "outputs": [],
   "source": [
    "plt.plot(dist)"
   ]
  },
  {
   "cell_type": "markdown",
   "metadata": {},
   "source": [
    "## test generate trajectory function"
   ]
  },
  {
   "cell_type": "code",
   "execution_count": null,
   "metadata": {
    "collapsed": false
   },
   "outputs": [],
   "source": [
    "env_name = \"2d\"\n",
    "model_name = env_name + \".h5\"\n",
    "data_name = env_name + \".npz\"\n",
    "env_obj = rbl.env_dict[env_name]\n",
    "\n",
    "# create an initial object\n",
    "link_lengthes = [1, 3, 1, 1, 1, 1, 1]\n",
    "initial_angles = [0, 0, 0, 0, -np.pi/4, 0]\n",
    "initial_angular_velocities = np.zeros(env_obj.num_joints)\n",
    "\n",
    "initial_rm = rbl.Robotic_Manipulator_Naive(link_lengthes, initial_angles, initial_angular_velocities)"
   ]
  },
  {
   "cell_type": "code",
   "execution_count": null,
   "metadata": {
    "collapsed": true
   },
   "outputs": [],
   "source": []
  },
  {
   "cell_type": "code",
   "execution_count": null,
   "metadata": {
    "collapsed": true
   },
   "outputs": [],
   "source": []
  },
  {
   "cell_type": "markdown",
   "metadata": {},
   "source": [
    "## test the end-effector speed calculation"
   ]
  },
  {
   "cell_type": "code",
   "execution_count": 2,
   "metadata": {
    "collapsed": true
   },
   "outputs": [],
   "source": [
    "env_name = \"2d\"\n",
    "env_obj = rbl.Env2D()"
   ]
  },
  {
   "cell_type": "code",
   "execution_count": 9,
   "metadata": {
    "collapsed": false
   },
   "outputs": [
    {
     "name": "stdout",
     "output_type": "stream",
     "text": [
      "[[ 0.  0.  1.  1.]\n",
      " [ 0.  0.  4.  1.]\n",
      " [ 0.  1.  4.  1.]\n",
      " [ 0.  2.  4.  1.]\n",
      " [ 0.  3.  4.  1.]\n",
      " [ 1.  3.  4.  1.]\n",
      " [ 2.  3.  4.  1.]]\n",
      "[-1.00000008  2.00000017  0.          0.        ]\n"
     ]
    }
   ],
   "source": [
    "link_lengthes = [1, 3, 1, 1, 1, 1, 1]\n",
    "initial_angles = [0, 0, 0, 0, 0, 0]\n",
    "initial_angular_velocities = [0, 0, 0, 1, 0, 0]\n",
    "rm = rbl.Robotic_Manipulator_Naive(link_lengthes, initial_angles, initial_angular_velocities)\n",
    "print(rm.loc_joints())\n",
    "print(rm.cal_ee_speed())"
   ]
  },
  {
   "cell_type": "code",
   "execution_count": null,
   "metadata": {
    "collapsed": false
   },
   "outputs": [],
   "source": []
  },
  {
   "cell_type": "code",
   "execution_count": null,
   "metadata": {
    "collapsed": false
   },
   "outputs": [],
   "source": []
  },
  {
   "cell_type": "markdown",
   "metadata": {},
   "source": [
    "## test movements joint-by-joint"
   ]
  },
  {
   "cell_type": "code",
   "execution_count": null,
   "metadata": {
    "collapsed": false
   },
   "outputs": [],
   "source": [
    "max_rotation = np.pi / 2\n",
    "num_steps = 20\n",
    "rotation_angles = np.concatenate((np.linspace(0, max_rotation, num=num_steps), \n",
    "                                np.linspace(max_rotation, 0, num=num_steps),\n",
    "                                np.linspace(0, -max_rotation, num=num_steps),\n",
    "                                np.linspace(-max_rotation, 0, num=num_steps)))\n",
    "num_angles = len(rotation_angles)\n",
    "# draw initial configuration of the robot\n",
    "qs = np.zeros(num_rotations)\n",
    "rm.configure_robots(qs)\n",
    "draw_background()\n",
    "objs2delete = draw_robotics(rm.joint_abs_locations)\n",
    "\n",
    "for idx in xrange(num_rotations):\n",
    "    for idj in xrange(num_angles):\n",
    "        rate(20)\n",
    "        qs[idx] = rotation_angles[idj]\n",
    "        rm.configure_robots(qs)\n",
    "        objs2delete = draw_robotics(rm.joint_abs_locations, objs2delete)"
   ]
  },
  {
   "cell_type": "code",
   "execution_count": null,
   "metadata": {
    "collapsed": true
   },
   "outputs": [],
   "source": []
  }
 ],
 "metadata": {
  "kernelspec": {
   "display_name": "Python 2",
   "language": "python",
   "name": "python2"
  },
  "language_info": {
   "codemirror_mode": {
    "name": "ipython",
    "version": 2
   },
   "file_extension": ".py",
   "mimetype": "text/x-python",
   "name": "python",
   "nbconvert_exporter": "python",
   "pygments_lexer": "ipython2",
   "version": "2.7.14"
  }
 },
 "nbformat": 4,
 "nbformat_minor": 0
}

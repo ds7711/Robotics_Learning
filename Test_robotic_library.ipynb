{
 "cells": [
  {
   "cell_type": "code",
   "execution_count": 1,
   "metadata": {
    "collapsed": false
   },
   "outputs": [
    {
     "data": {
      "application/javascript": [
       "require.undef(\"nbextensions/vpython_libraries/glow.min\");"
      ],
      "text/plain": [
       "<IPython.core.display.Javascript object>"
      ]
     },
     "metadata": {},
     "output_type": "display_data"
    },
    {
     "data": {
      "application/javascript": [
       "require.undef(\"nbextensions/vpython_libraries/glowcomm\");"
      ],
      "text/plain": [
       "<IPython.core.display.Javascript object>"
      ]
     },
     "metadata": {},
     "output_type": "display_data"
    },
    {
     "data": {
      "application/javascript": [
       "require.undef(\"nbextensions/vpython_libraries/jquery-ui.custom.min\");"
      ],
      "text/plain": [
       "<IPython.core.display.Javascript object>"
      ]
     },
     "metadata": {},
     "output_type": "display_data"
    },
    {
     "data": {
      "application/javascript": [
       "require([\"nbextensions/vpython_libraries/glow.min\"], function(){console.log(\"GLOW LOADED\");})"
      ],
      "text/plain": [
       "<IPython.core.display.Javascript object>"
      ]
     },
     "metadata": {},
     "output_type": "display_data"
    },
    {
     "data": {
      "application/javascript": [
       "require([\"nbextensions/vpython_libraries/glowcomm\"], function(){console.log(\"GLOWCOMM LOADED\");})"
      ],
      "text/plain": [
       "<IPython.core.display.Javascript object>"
      ]
     },
     "metadata": {},
     "output_type": "display_data"
    },
    {
     "data": {
      "application/javascript": [
       "require([\"nbextensions/vpython_libraries/jquery-ui.custom.min\"], function(){console.log(\"JQUERY LOADED\");})"
      ],
      "text/plain": [
       "<IPython.core.display.Javascript object>"
      ]
     },
     "metadata": {},
     "output_type": "display_data"
    },
    {
     "data": {
      "text/html": [
       "<div id=\"glowscript\" class=\"glowscript\"></div>"
      ],
      "text/plain": [
       "<IPython.core.display.HTML object>"
      ]
     },
     "metadata": {},
     "output_type": "display_data"
    },
    {
     "data": {
      "application/javascript": [
       "window.__context = { glowscript_container: $(\"#glowscript\").removeAttr(\"id\")}"
      ],
      "text/plain": [
       "<IPython.core.display.Javascript object>"
      ]
     },
     "metadata": {},
     "output_type": "display_data"
    },
    {
     "name": "stderr",
     "output_type": "stream",
     "text": [
      "Using TensorFlow backend.\n"
     ]
    }
   ],
   "source": [
    "# import libraries\n",
    "from vpython import *\n",
    "import numpy as np\n",
    "import robotics_library as rbl\n",
    "import matplotlib.pylab as plt\n",
    "%matplotlib inline\n",
    "from keras.models import load_model\n",
    "import copy"
   ]
  },
  {
   "cell_type": "markdown",
   "metadata": {},
   "source": [
    "## test the maximum speed reachable"
   ]
  },
  {
   "cell_type": "code",
   "execution_count": 35,
   "metadata": {
    "collapsed": false
   },
   "outputs": [
    {
     "name": "stdout",
     "output_type": "stream",
     "text": [
      "[[  0.00000000e+00   0.00000000e+00   1.00000000e+00   1.00000000e+00]\n",
      " [  0.00000000e+00   0.00000000e+00   4.00000000e+00   1.00000000e+00]\n",
      " [  0.00000000e+00   1.00000000e+00   4.00000000e+00   1.00000000e+00]\n",
      " [  0.00000000e+00   2.00000000e+00   4.00000000e+00   1.00000000e+00]\n",
      " [  0.00000000e+00   3.00000000e+00   4.00000000e+00   1.00000000e+00]\n",
      " [  1.22464680e-16   3.00000000e+00   2.00000000e+00   1.00000000e+00]\n",
      " [  1.83697020e-16   3.00000000e+00   1.00000000e+00   1.00000000e+00]]\n",
      "[ 0.  0.  0.  0.]\n"
     ]
    }
   ],
   "source": [
    "env_name = \"2d\"\n",
    "env_obj = rbl.Env2D()\n",
    "link_lengthes = np.asarray([1, 3, 1, 1, 1, 2, 1])\n",
    "initial_angles = [0, 0, 0, 0, -np.pi/4, 0]\n",
    "initial_angular_velocities = np.asarray([0, 0, 0, 0, 0, 0])\n",
    "ini_rm = rbl.Robotic_Manipulator_Naive(link_lengthes, initial_angles, initial_angular_velocities)\n",
    "ancher = ini_rm.loc_joints()[-3]\n",
    "print(ini_rm.loc_joints())\n",
    "print(ini_rm.cal_ee_speed())"
   ]
  },
  {
   "cell_type": "code",
   "execution_count": 62,
   "metadata": {
    "collapsed": false
   },
   "outputs": [
    {
     "name": "stdout",
     "output_type": "stream",
     "text": [
      "[ 0.          0.          0.          0.          0.87266463  0.          0.        ]\n"
     ]
    }
   ],
   "source": [
    "action = np.asarray([0, 0, 0, 0, 0.87266462599716474, 0, 0])\n",
    "print(action)"
   ]
  },
  {
   "cell_type": "code",
   "execution_count": 63,
   "metadata": {
    "collapsed": false
   },
   "outputs": [
    {
     "name": "stdout",
     "output_type": "stream",
     "text": [
      "[ 0.          0.          0.          0.         -0.78539816  0.        ]\n"
     ]
    }
   ],
   "source": [
    "print(ini_rm.joint_angles)"
   ]
  },
  {
   "cell_type": "code",
   "execution_count": null,
   "metadata": {
    "collapsed": false
   },
   "outputs": [],
   "source": []
  },
  {
   "cell_type": "code",
   "execution_count": 66,
   "metadata": {
    "collapsed": false
   },
   "outputs": [],
   "source": [
    "rm = copy.deepcopy(ini_rm)\n",
    "locs = []\n",
    "speeds = []\n",
    "for iii in range(200):\n",
    "    rm.update_rm(action)\n",
    "    locs.append(rm.loc_joints()[-1][[0, 2]])\n",
    "    speeds.append(rm.cal_ee_speed()[[0, 2]])\n",
    "locs = np.asarray(locs)\n",
    "speeds = np.asarray(speeds)"
   ]
  },
  {
   "cell_type": "code",
   "execution_count": 67,
   "metadata": {
    "collapsed": false
   },
   "outputs": [
    {
     "name": "stdout",
     "output_type": "stream",
     "text": [
      "[[   2.61799409    0.        ]\n",
      " [   3.36563033    4.01099452]\n",
      " [  -6.80173886    3.92699114]\n",
      " [   5.23598819   -9.06900065]\n",
      " [ -10.02748629    8.41409521]\n",
      " [  13.6032452     7.85384277]\n",
      " [  15.87045273   -9.16281656]\n",
      " [  16.04373004  -13.46230431]\n",
      " [  23.56152831    0.        ]\n",
      " [   0.           26.180406  ]\n",
      " [ -18.51130787  -22.06085351]\n",
      " [  15.7082436    27.20746701]\n",
      " [  17.0172639   -29.47475592]\n",
      " [ -23.55984638  -28.07744992]\n",
      " [ -34.00933376  -19.6353045 ]\n",
      " [ -20.9443248   -36.27656067]\n",
      " [  34.09411221  -28.60838489]\n",
      " [   0.           47.11803408]\n",
      " [   0.          -49.73570264]\n",
      " [ -40.1050234    33.6521954 ]\n",
      " [  27.48551988   47.60631242]\n",
      " [  49.87327968   28.79435416]\n",
      " [  38.69984644   46.12082148]\n",
      " [ -31.41202272   54.40740022]\n",
      " [ -32.720857    -56.67418145]\n",
      " [  43.7476525    52.1365808 ]\n",
      " [   0.          -70.67705113]\n",
      " [ -73.29471969    0.        ]\n",
      " [ -58.15234012   48.79545856]\n",
      " [ -68.00907588   39.2650284 ]\n",
      " [ -70.275985    -40.57386268]\n",
      " [  64.16791343  -53.84338863]\n",
      " [ -43.19153124   74.80966374]\n",
      " [  77.07695266  -44.50036552]\n",
      " [ -58.92457359  -70.22373673]\n",
      " [ -94.28964183    0.        ]\n",
      " [ -96.90879855    0.        ]\n",
      " [ -63.97539859  -76.24291417]\n",
      " [  88.46197744  -51.07355599]\n",
      " [ -52.38313435   90.73015576]\n",
      " [  82.26201215  -69.02608795]\n",
      " [ -95.26666355  -55.00229107]\n",
      " [ -97.53491745   56.31186942]\n",
      " [ -88.28126904   74.07677731]\n",
      " [-117.86205228    0.        ]\n",
      " [   0.         -120.48103073]\n",
      " [  79.12728453   94.30044647]\n",
      " [ -62.85976122 -108.87618692]\n",
      " [ -64.16933958  111.14444081]\n",
      " [  84.17796227  100.3196239 ]\n",
      " [ 115.68114624   66.78849629]\n",
      " [  68.09807465  117.94940401]\n",
      " [-106.33869864   89.2288454 ]\n",
      " [   0.         -141.43446274]\n",
      " [   0.          144.05361946]\n",
      " [ 112.35776175  -94.27931774]\n",
      " [ -74.64596645 -129.29091376]\n",
      " [-131.55883824  -75.95554481]\n",
      " [ -99.32999547 -118.37715621]\n",
      " [  78.57470152 -136.09546617]\n",
      " [  79.88427988  138.36396034]\n",
      " [-104.38091348 -124.39633364]\n",
      " [   0.          165.0068732 ]\n",
      " [ 167.62602992    0.        ]\n",
      " [ 130.41538512 -109.43160285]\n",
      " [ 149.70475701  -86.43217168]\n",
      " [ 151.97327056   87.74175003]\n",
      " [-136.43455674  114.48176515]\n",
      " [  90.36090675 -156.50978609]\n",
      " [-158.77804386   91.67048511]\n",
      " [ 119.53298157  142.45359079]\n",
      " [ 188.57928366    0.        ]\n",
      " [ 191.19844037    0.        ]\n",
      " [ 124.58338415  148.4727566 ]\n",
      " [-170.11933271   98.2183769 ]\n",
      " [  99.52795526 -172.38759048]\n",
      " [-154.49207161  129.63495711]\n",
      " [ 176.92395488  102.14711198]\n",
      " [ 179.19205763 -103.45669034]\n",
      " [ 160.51124323 -134.68504966]\n",
      " [ 212.15169411    0.        ]\n",
      " [   0.          214.77085083]\n",
      " [-139.73573902 -166.52993236]\n",
      " [ 110.00458213  190.5333271 ]\n",
      " [ 111.31416049 -192.80191041]\n",
      " [-144.78642838 -172.54908654]\n",
      " [-197.33842595 -113.93331721]\n",
      " [-115.24289557 -199.60634268]\n",
      " [ 178.56893055 -149.83677283]\n",
      " [   0.          235.72410457]\n",
      " [   0.         -238.34326129]\n",
      " [-184.58792971  154.88709403]\n",
      " [ 121.79078736  210.94797256]\n",
      " [ 213.21604819  123.10036572]\n",
      " [ 159.9381283   190.60691725]\n",
      " [-125.71952244  217.75311791]\n",
      " [-127.0291008  -220.02137956]\n",
      " [ 164.98918583  196.62608306]\n",
      " [   0.         -259.29651503]\n",
      " [-261.91567174    0.        ]\n",
      " [-202.64564029  170.03987519]\n",
      " [-231.36209484  133.57699259]\n",
      " [-233.63055026 -134.88657095]\n",
      " [ 208.66481772 -175.09016151]\n",
      " [-137.50572767  238.16665888]\n",
      " [ 240.43532357 -138.81530602]\n",
      " [-180.14125392 -214.68316582]\n",
      " [-282.86892548    0.        ]\n",
      " [-285.4880822     0.        ]\n",
      " [-185.19151698 -220.70232   ]\n",
      " [ 251.77639733 -145.36319782]\n",
      " [-146.67277618  254.04530423]\n",
      " [ 226.72235002 -190.24263264]\n",
      " [-258.58116482 -149.29193289]\n",
      " [-260.84942066  150.60151125]\n",
      " [-232.74152746  195.29242291]\n",
      " [-306.44133594    0.        ]\n",
      " [   0.         -309.06049266]\n",
      " [ 200.34401136  238.76070489]\n",
      " [-157.14940305 -272.19139739]\n",
      " [-158.4589814   274.45872118]\n",
      " [ 205.39470073  244.77988232]\n",
      " [ 278.99570565  161.07813812]\n",
      " [ 162.38771648  281.26396342]\n",
      " [-250.79881755  210.44635894]\n",
      " [   0.         -330.0132581 ]\n",
      " [   0.          332.63290311]\n",
      " [ 256.81823719 -215.49607945]\n",
      " [-168.93560827 -292.60575219]\n",
      " [-294.87376194 -170.24518663]\n",
      " [-220.54676881 -262.83741463]\n",
      " [ 172.86434335 -299.40951402]\n",
      " [ 174.17392171  301.67776791]\n",
      " [-225.59745818 -268.85659206]\n",
      " [   0.          353.58615685]\n",
      " [ 356.20531357    0.        ]\n",
      " [ 274.8757695  -230.64814754]\n",
      " [ 313.01930479 -180.7218135 ]\n",
      " [ 315.28756062  182.03139186]\n",
      " [-280.89467565  235.6988369 ]\n",
      " [ 184.65054858 -319.8243455 ]\n",
      " [-322.09232811  185.96012694]\n",
      " [ 240.74897208  286.91357018]\n",
      " [ 377.15856731    0.        ]\n",
      " [ 379.77772403    0.        ]\n",
      " [ 245.79964981  292.93273599]\n",
      " [-333.43389212  192.50801873]\n",
      " [ 193.81759709 -335.70214988]\n",
      " [-298.95219051  250.85090499]\n",
      " [ 340.23866542  196.43675381]\n",
      " [ 342.5066306  -197.74633217]\n",
      " [ 304.9710676  -255.90100529]\n",
      " [ 400.73097777    0.        ]\n",
      " [   0.          403.34953767]\n",
      " [-260.95168302 -310.9908341 ]\n",
      " [ 204.29422396  353.84760748]\n",
      " [ 205.60380232 -356.11586137]\n",
      " [-266.00297307 -317.01001154]\n",
      " [-360.65267725 -208.22295904]\n",
      " [-209.5325374  -362.92186318]\n",
      " [ 323.028877   -271.05366243]\n",
      " [   0.          424.30338822]\n",
      " [   0.         -426.92254494]\n",
      " [-329.04804862  276.1043518 ]\n",
      " [ 216.08042919  374.26253197]\n",
      " [ 376.53014642  217.39000755]\n",
      " [ 281.15504116  335.06754384]\n",
      " [-220.00916426  381.06665421]\n",
      " [-221.31874262 -383.33621799]\n",
      " [ 286.20573052  341.08606245]\n",
      " [   0.         -447.87579868]\n",
      " [-450.4949554     0.        ]\n",
      " [-347.10556348  291.25507899]\n",
      " [-394.67651473  227.86663442]\n",
      " [-396.94477056 -229.17621278]\n",
      " [ 353.12507614 -296.30710925]\n",
      " [-231.79536949  401.48093925]\n",
      " [ 403.74953806 -233.10494785]\n",
      " [-301.35779861 -359.14425357]\n",
      " [-471.44820914    0.        ]\n",
      " [-474.06736586    0.        ]\n",
      " [-306.40848797 -365.16202036]\n",
      " [ 415.09046262 -239.65283965]\n",
      " [-240.962418    417.35871651]\n",
      " [ 371.18189149 -311.45917733]\n",
      " [-421.89558471 -243.58157472]\n",
      " [-424.16384054  244.89115308]\n",
      " [-377.20142159  316.50986669]\n",
      " [-495.0206196     0.        ]\n",
      " [   0.         -497.63977631]\n",
      " [ 321.56055606  383.2194829 ]\n",
      " [-251.43904487 -435.50474766]\n",
      " [-252.74862323  437.77300156]\n",
      " [ 326.61124542  389.24014075]\n",
      " [ 434.26805413  250.72472941]\n",
      " [ 252.01049725  436.49506979]\n",
      " [-388.07252832  325.63216198]\n",
      " [   0.         -509.16329854]\n",
      " [   0.          511.73483035]\n",
      " [ 393.98226226 -330.59025231]]\n"
     ]
    },
    {
     "data": {
      "image/png": "[encoded data removed]",
      "text/plain": [
       "<matplotlib.figure.Figure at 0x7fb77315a950>"
      ]
     },
     "metadata": {},
     "output_type": "display_data"
    }
   ],
   "source": [
    "plt.scatter(env_obj.hoop_position[0], env_obj.hoop_position[2], marker=\"o\")\n",
    "plt.scatter(ancher[0], ancher[2], marker=\"*\")\n",
    "plt.scatter(locs[:, 0], locs[:, 1])\n",
    "# plt.plot(locs[:, 0], locs[:, 1])\n",
    "print(speeds)"
   ]
  },
  {
   "cell_type": "code",
   "execution_count": 34,
   "metadata": {
    "collapsed": false
   },
   "outputs": [
    {
     "name": "stdout",
     "output_type": "stream",
     "text": [
      "[[ 0.03490659  0.        ]\n",
      " [ 0.06980653  0.00091382]\n",
      " [ 0.10463006  0.00411103]\n",
      " [ 0.13914822  0.01095129]\n",
      " [ 0.17287509  0.02275912]\n",
      " [ 0.20497535  0.04077225]\n",
      " [ 0.23418558  0.0660474 ]\n",
      " [ 0.25876171  0.09932953]\n",
      " [ 0.27647183  0.14086978]\n",
      " [ 0.28466064  0.19020471]]\n"
     ]
    }
   ],
   "source": []
  },
  {
   "cell_type": "code",
   "execution_count": null,
   "metadata": {
    "collapsed": true
   },
   "outputs": [],
   "source": []
  },
  {
   "cell_type": "code",
   "execution_count": null,
   "metadata": {
    "collapsed": true
   },
   "outputs": [],
   "source": []
  },
  {
   "cell_type": "markdown",
   "metadata": {},
   "source": [
    "### visualization functions"
   ]
  },
  {
   "cell_type": "code",
   "execution_count": 10,
   "metadata": {
    "collapsed": true
   },
   "outputs": [],
   "source": [
    "def draw_background():\n",
    "    scene = canvas(background=color.black, up=vector(-1, -1, 0), height=600, center=vector(0, 0, 0))\n",
    "    scene.camera.pos = vector(3.5, 3.5, 10)\n",
    "    scene.camera.axis = vector(-3.5, -3.5, -10)\n",
    "    \n",
    "    # plot the axises\n",
    "    axis_length = 3\n",
    "    x = arrow(pos=vector(0,0,0), axis=vector(axis_length,0,0), shaftwidth=0.1, color=color.red)\n",
    "    text(text='x', pos=vector(axis_length,0,0), axis=vector(axis_length,0,0))\n",
    "    y = arrow(pos=vector(0,0,0), axis=vector(0,axis_length,0), shaftwidth=0.1, color=color.green)\n",
    "    text(text='y', pos=vector(0,axis_length,0), axis=vector(0,axis_length,0))\n",
    "    z = arrow(pos=vector(0,0,0), axis=vector(0,0,-axis_length), shaftwidth=0.1, color=color.blue)\n",
    "    text(text='-z', pos=vector(0,0,-axis_length), axis=vector(0,0,-axis_length))\n",
    "    return(scene)\n",
    "\n",
    "def draw_robotics(joint_locs, objects2delete=[]):\n",
    "    \n",
    "    # delete the old positions\n",
    "    for obj in objects2delete:\n",
    "        obj.visible = False\n",
    "        del obj \n",
    "\n",
    "    # color list\n",
    "    color_list = [color.cyan, color.yellow, color.magenta, color.orange, vector(0.7, 0.2, 0.1),\n",
    "                  vector(0.2, 0.1, 0.7), vector(0.7, 0.7, 0.8)]\n",
    "    \n",
    "    # draw the links\n",
    "    curve_list = [[] for _ in xrange(len(joint_locs))] # container to store the objects that make up the robot\n",
    "    curve_list[0] = curve(pos=[vector(0, 0, 0), vector(*joint_locs[0, :3])], radius=0.5)\n",
    "\n",
    "    for idx in xrange(1, len(joint_locs), 1):\n",
    "        p0 = vector(*joint_locs[idx-1, :3])\n",
    "        p1 = vector(*joint_locs[idx, :3])\n",
    "        curve_list[idx] = curve(pos=[p0, p1], color=color_list[idx])\n",
    "        \n",
    "        \n",
    "    end_effector = box(pos=vector(*joint_locs[-1, :3]), length=0.7, height=0.2, width=0.3)\n",
    "    curve_list.append(end_effector)\n",
    "\n",
    "    return(curve_list)"
   ]
  },
  {
   "cell_type": "code",
   "execution_count": 11,
   "metadata": {
    "collapsed": false
   },
   "outputs": [
    {
     "name": "stdout",
     "output_type": "stream",
     "text": [
      "4\n"
     ]
    }
   ],
   "source": [
    "env_name = \"2d\"\n",
    "env_obj = rbl.Env2D()\n",
    "model_name = env_name + \"_working.h5\"\n",
    "q_object = load_model(model_name)\n",
    "print(env_obj.hoop_size)"
   ]
  },
  {
   "cell_type": "code",
   "execution_count": 12,
   "metadata": {
    "collapsed": false
   },
   "outputs": [
    {
     "name": "stdout",
     "output_type": "stream",
     "text": [
      "(4, 2)\n"
     ]
    }
   ],
   "source": [
    "new_obj = copy.deepcopy(env_obj)\n",
    "new_obj.hoop_size = 2\n",
    "print(env_obj.hoop_size, new_obj.hoop_size)"
   ]
  },
  {
   "cell_type": "code",
   "execution_count": 13,
   "metadata": {
    "collapsed": false
   },
   "outputs": [],
   "source": [
    "# link_lengthes = [1, 3, 1, 1, 1, 1, 1]\n",
    "# initial_angles = [0, 0, 0, 0, -np.pi/4, 0]\n",
    "# initial_angular_velocities = np.zeros(env_obj.num_joints)\n",
    "\n",
    "# initial_rm = rbl.Robotic_Manipulator_Naive(link_lengthes, initial_angles, initial_angular_velocities)"
   ]
  },
  {
   "cell_type": "code",
   "execution_count": 14,
   "metadata": {
    "collapsed": false,
    "scrolled": true
   },
   "outputs": [
    {
     "name": "stdout",
     "output_type": "stream",
     "text": [
      "('Successful throw!!!', 0.34476169182121075)\n",
      "()\n",
      "('Successful throw!!!', 0.5514298120673452)\n",
      "()\n",
      "('Successful throw!!!', 0.81926129854810903)\n",
      "()\n",
      "('Successful throw!!!', 0.60792273826094678)\n",
      "()\n"
     ]
    }
   ],
   "source": [
    "ee_trj_list, ee_pos, ee_speed, reward, score = rbl.test_q_function(q_object, \n",
    "                                                                   env_obj)"
   ]
  },
  {
   "cell_type": "code",
   "execution_count": 18,
   "metadata": {
    "collapsed": false
   },
   "outputs": [],
   "source": [
    "success_idx = np.argmax(reward)\n",
    "ee_pos_success = ee_trj_list[success_idx]"
   ]
  },
  {
   "cell_type": "code",
   "execution_count": 21,
   "metadata": {
    "collapsed": false
   },
   "outputs": [
    {
     "name": "stdout",
     "output_type": "stream",
     "text": [
      "[ 4.31005245  0.          5.32423661  0.        ]\n",
      "[array([  1.22464680e-16,   3.00000000e+00,   2.00000000e+00,\n",
      "         1.00000000e+00]), array([  1.22464680e-16,   3.00000000e+00,   2.00000000e+00,\n",
      "         1.00000000e+00]), array([ 0.17364818,  3.        ,  2.01519225,  1.        ]), array([ 0.5      ,  3.       ,  2.1339746,  1.       ]), array([ 0.8660254,  3.       ,  2.5      ,  1.       ]), array([ 0.98480775,  3.        ,  3.17364818,  1.        ]), array([ 0.5      ,  3.       ,  3.8660254,  1.       ]), array([-0.5      ,  3.       ,  3.8660254,  1.       ]), array([-0.98480775,  3.        ,  2.82635182,  1.        ]), array([ -1.22464680e-16,   3.00000000e+00,   2.00000000e+00,\n",
      "         1.00000000e+00]), array([ 1.,  3.,  3.,  1.]), array([-0.17364818,  3.        ,  3.98480775,  1.        ]), array([-0.8660254,  3.       ,  2.5      ,  1.       ]), array([ 0.8660254,  3.       ,  2.5      ,  1.       ]), array([-0.17364818,  3.        ,  3.98480775,  1.        ]), array([-0.5      ,  3.       ,  2.1339746,  1.       ]), array([ 0.8660254,  3.       ,  3.5      ,  1.       ]), array([-0.98480775,  3.        ,  2.82635182,  1.        ]), array([ 1.,  3.,  3.,  1.]), array([-1.,  3.,  3.,  1.]), array([ 0.98480775,  3.        ,  3.17364818,  1.        ]), array([-0.8660254,  3.       ,  2.5      ,  1.       ]), array([ 0.5      ,  3.       ,  3.8660254,  1.       ]), array([ 0.17364818,  3.        ,  2.01519225,  1.        ]), array([-0.8660254,  3.       ,  3.5      ,  1.       ]), array([ 0.8660254,  3.       ,  3.5      ,  1.       ]), array([ 0.17364818,  3.        ,  2.01519225,  1.        ]), array([-1.,  3.,  3.,  1.]), array([  2.74407540e-14,   3.00000000e+00,   4.00000000e+00,\n",
      "         1.00000000e+00]), array([ 0.98480775,  3.        ,  3.17364818,  1.        ]), array([ 0.5      ,  3.       ,  2.1339746,  1.       ]), array([-0.5      ,  3.       ,  2.1339746,  1.       ]), array([-0.98480775,  3.        ,  2.82635182,  1.        ]), array([-0.8660254,  3.       ,  3.5      ,  1.       ]), array([-0.5      ,  3.       ,  3.8660254,  1.       ]), array([-0.17364818,  3.        ,  3.98480775,  1.        ]), array([  6.46823963e-14,   3.00000000e+00,   4.00000000e+00,\n",
      "         1.00000000e+00]), array([  7.20327531e-14,   3.00000000e+00,   4.00000000e+00,\n",
      "         1.00000000e+00]), array([-0.17364818,  3.        ,  3.98480775,  1.        ]), array([-0.5      ,  3.       ,  3.8660254,  1.       ]), array([-0.8660254,  3.       ,  3.5      ,  1.       ]), array([-0.98480775,  3.        ,  2.82635182,  1.        ]), array([-0.5      ,  3.       ,  2.1339746,  1.       ]), array([ 0.5      ,  3.       ,  2.1339746,  1.       ]), array([ 0.98480775,  3.        ,  3.17364818,  1.        ]), array([  1.38185964e-13,   3.00000000e+00,   4.00000000e+00,\n",
      "         1.00000000e+00]), array([-1.,  3.,  3.,  1.]), array([ 0.17364818,  3.        ,  2.01519225,  1.        ]), array([ 0.8660254,  3.       ,  3.5      ,  1.       ]), array([-0.8660254,  3.       ,  3.5      ,  1.       ]), array([ 0.17364818,  3.        ,  2.01519225,  1.        ]), array([ 0.5      ,  3.       ,  3.8660254,  1.       ]), array([-0.8660254,  3.       ,  2.5      ,  1.       ]), array([ 0.98480775,  3.        ,  3.17364818,  1.        ]), array([-1.,  3.,  3.,  1.]), array([ 1.,  3.,  3.,  1.]), array([-0.98480775,  3.        ,  2.82635182,  1.        ]), array([ 0.8660254,  3.       ,  3.5      ,  1.       ]), array([-0.5      ,  3.       ,  2.1339746,  1.       ]), array([-0.00698092,  3.        ,  4.00007311,  1.        ]), array([ 0.60410766,  3.        ,  2.2254454 ,  1.        ]), array([-1.04165634,  3.        ,  3.02181959,  1.        ]), array([ 0.4681644 ,  3.        ,  3.85328617,  1.        ]), array([ 0.545905 ,  3.       ,  2.2144252,  1.       ]), array([-0.96988142,  3.        ,  2.54021111,  1.        ]), array([-0.55468083,  3.        ,  3.89418897,  1.        ]), array([ 0.68926244,  3.        ,  3.60525568,  1.        ]), array([ 0.70758801,  3.        ,  2.45449375,  1.        ]), array([-0.20892957,  3.        ,  2.01216788,  1.        ]), array([-0.9660866 ,  3.        ,  2.42964865,  1.        ]), array([-1.16326161,  3.        ,  3.09768181,  1.        ]), array([-0.99766404,  3.        ,  3.59286085,  1.        ]), array([-0.75920135,  3.        ,  3.84415834,  1.        ]), array([-0.61464833,  3.        ,  3.93539786,  1.        ]), array([-0.62189753,  3.        ,  3.94121338,  1.        ]), array([-0.78270534,  3.        ,  3.86480331,  1.        ]), array([-1.04521981,  3.        ,  3.63601595,  1.        ]), array([-1.25340472,  3.        ,  3.1672399 ,  1.        ]), array([-1.12368545,  3.        ,  2.50881904,  1.        ]), array([-0.43511483,  3.        ,  2.05340817,  1.        ]), array([ 0.47696807,  3.        ,  2.42020552,  1.        ])]\n"
     ]
    }
   ],
   "source": [
    "print(ee_speed[success_idx])\n",
    "print(ee_pos_success)"
   ]
  },
  {
   "cell_type": "code",
   "execution_count": null,
   "metadata": {
    "collapsed": false
   },
   "outputs": [],
   "source": []
  },
  {
   "cell_type": "markdown",
   "metadata": {},
   "source": [
    "## test the ball object"
   ]
  },
  {
   "cell_type": "code",
   "execution_count": null,
   "metadata": {
    "collapsed": false
   },
   "outputs": [],
   "source": [
    "env_name = \"2d\"\n",
    "env_obj = rbl.env_dict[env_name]\n",
    "tmp_ball = rbl.Ball([0, 3, 2], [2.5, 0, 10], env_obj)\n",
    "ball_trajectories = tmp_ball.update()"
   ]
  },
  {
   "cell_type": "code",
   "execution_count": null,
   "metadata": {
    "collapsed": false
   },
   "outputs": [],
   "source": [
    "plt.scatter(ball_trajectories[:, 0], ball_trajectories[:, 2])\n",
    "plt.scatter(env_obj.hoop_position[0], env_obj.hoop_position[2], marker=\"*\")\n",
    "plt.show()\n",
    "print(tmp_ball.min_dist_to_hoop)"
   ]
  },
  {
   "cell_type": "code",
   "execution_count": null,
   "metadata": {
    "collapsed": false
   },
   "outputs": [],
   "source": [
    "a = ball_trajectories[:, [0, 2]] - env_obj.hoop_position[[0, 2]]\n",
    "dist = [np.linalg.norm(item, ord=2) for item in a]"
   ]
  },
  {
   "cell_type": "code",
   "execution_count": null,
   "metadata": {
    "collapsed": false
   },
   "outputs": [],
   "source": [
    "plt.plot(dist)"
   ]
  },
  {
   "cell_type": "markdown",
   "metadata": {},
   "source": [
    "## test generate trajectory function"
   ]
  },
  {
   "cell_type": "code",
   "execution_count": null,
   "metadata": {
    "collapsed": false
   },
   "outputs": [],
   "source": [
    "env_name = \"2d\"\n",
    "model_name = env_name + \".h5\"\n",
    "data_name = env_name + \".npz\"\n",
    "env_obj = rbl.env_dict[env_name]\n",
    "\n",
    "# create an initial object\n",
    "link_lengthes = [1, 3, 1, 1, 1, 1, 1]\n",
    "initial_angles = [0, 0, 0, 0, -np.pi/4, 0]\n",
    "initial_angular_velocities = np.zeros(env_obj.num_joints)\n",
    "\n",
    "initial_rm = rbl.Robotic_Manipulator_Naive(link_lengthes, initial_angles, initial_angular_velocities)"
   ]
  },
  {
   "cell_type": "code",
   "execution_count": null,
   "metadata": {
    "collapsed": true
   },
   "outputs": [],
   "source": []
  },
  {
   "cell_type": "code",
   "execution_count": null,
   "metadata": {
    "collapsed": true
   },
   "outputs": [],
   "source": []
  },
  {
   "cell_type": "markdown",
   "metadata": {},
   "source": [
    "## test the end-effector speed calculation"
   ]
  },
  {
   "cell_type": "code",
   "execution_count": 2,
   "metadata": {
    "collapsed": true
   },
   "outputs": [],
   "source": [
    "env_name = \"2d\"\n",
    "env_obj = rbl.Env2D()"
   ]
  },
  {
   "cell_type": "code",
   "execution_count": 9,
   "metadata": {
    "collapsed": false
   },
   "outputs": [
    {
     "name": "stdout",
     "output_type": "stream",
     "text": [
      "[[ 0.  0.  1.  1.]\n",
      " [ 0.  0.  4.  1.]\n",
      " [ 0.  1.  4.  1.]\n",
      " [ 0.  2.  4.  1.]\n",
      " [ 0.  3.  4.  1.]\n",
      " [ 1.  3.  4.  1.]\n",
      " [ 2.  3.  4.  1.]]\n",
      "[-1.00000008  2.00000017  0.          0.        ]\n"
     ]
    }
   ],
   "source": [
    "link_lengthes = [1, 3, 1, 1, 1, 1, 1]\n",
    "initial_angles = [0, 0, 0, 0, 0, 0]\n",
    "initial_angular_velocities = [0, 0, 0, 1, 0, 0]\n",
    "rm = rbl.Robotic_Manipulator_Naive(link_lengthes, initial_angles, initial_angular_velocities)\n",
    "print(rm.loc_joints())\n",
    "print(rm.cal_ee_speed())"
   ]
  },
  {
   "cell_type": "code",
   "execution_count": null,
   "metadata": {
    "collapsed": false
   },
   "outputs": [],
   "source": []
  },
  {
   "cell_type": "code",
   "execution_count": null,
   "metadata": {
    "collapsed": false
   },
   "outputs": [],
   "source": []
  },
  {
   "cell_type": "markdown",
   "metadata": {},
   "source": [
    "## test movements joint-by-joint"
   ]
  },
  {
   "cell_type": "code",
   "execution_count": null,
   "metadata": {
    "collapsed": false
   },
   "outputs": [],
   "source": [
    "max_rotation = np.pi / 2\n",
    "num_steps = 20\n",
    "rotation_angles = np.concatenate((np.linspace(0, max_rotation, num=num_steps), \n",
    "                                np.linspace(max_rotation, 0, num=num_steps),\n",
    "                                np.linspace(0, -max_rotation, num=num_steps),\n",
    "                                np.linspace(-max_rotation, 0, num=num_steps)))\n",
    "num_angles = len(rotation_angles)\n",
    "# draw initial configuration of the robot\n",
    "qs = np.zeros(num_rotations)\n",
    "rm.configure_robots(qs)\n",
    "draw_background()\n",
    "objs2delete = draw_robotics(rm.joint_abs_locations)\n",
    "\n",
    "for idx in xrange(num_rotations):\n",
    "    for idj in xrange(num_angles):\n",
    "        rate(20)\n",
    "        qs[idx] = rotation_angles[idj]\n",
    "        rm.configure_robots(qs)\n",
    "        objs2delete = draw_robotics(rm.joint_abs_locations, objs2delete)"
   ]
  },
  {
   "cell_type": "code",
   "execution_count": null,
   "metadata": {
    "collapsed": true
   },
   "outputs": [],
   "source": []
  }
 ],
 "metadata": {
  "kernelspec": {
   "display_name": "Python 2",
   "language": "python",
   "name": "python2"
  },
  "language_info": {
   "codemirror_mode": {
    "name": "ipython",
    "version": 2
   },
   "file_extension": ".py",
   "mimetype": "text/x-python",
   "name": "python",
   "nbconvert_exporter": "python",
   "pygments_lexer": "ipython2",
   "version": "2.7.13"
  }
 },
 "nbformat": 4,
 "nbformat_minor": 0
}

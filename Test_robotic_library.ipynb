{
 "cells": [
  {
   "cell_type": "code",
   "execution_count": 1,
   "metadata": {
    "collapsed": false
   },
   "outputs": [
    {
     "data": {
      "application/javascript": [
       "require.undef(\"nbextensions/vpython_libraries/glow.min\");"
      ],
      "text/plain": [
       "<IPython.core.display.Javascript object>"
      ]
     },
     "metadata": {},
     "output_type": "display_data"
    },
    {
     "data": {
      "application/javascript": [
       "require.undef(\"nbextensions/vpython_libraries/glowcomm\");"
      ],
      "text/plain": [
       "<IPython.core.display.Javascript object>"
      ]
     },
     "metadata": {},
     "output_type": "display_data"
    },
    {
     "data": {
      "application/javascript": [
       "require.undef(\"nbextensions/vpython_libraries/jquery-ui.custom.min\");"
      ],
      "text/plain": [
       "<IPython.core.display.Javascript object>"
      ]
     },
     "metadata": {},
     "output_type": "display_data"
    },
    {
     "data": {
      "application/javascript": [
       "require([\"nbextensions/vpython_libraries/glow.min\"], function(){console.log(\"GLOW LOADED\");})"
      ],
      "text/plain": [
       "<IPython.core.display.Javascript object>"
      ]
     },
     "metadata": {},
     "output_type": "display_data"
    },
    {
     "data": {
      "application/javascript": [
       "require([\"nbextensions/vpython_libraries/glowcomm\"], function(){console.log(\"GLOWCOMM LOADED\");})"
      ],
      "text/plain": [
       "<IPython.core.display.Javascript object>"
      ]
     },
     "metadata": {},
     "output_type": "display_data"
    },
    {
     "data": {
      "application/javascript": [
       "require([\"nbextensions/vpython_libraries/jquery-ui.custom.min\"], function(){console.log(\"JQUERY LOADED\");})"
      ],
      "text/plain": [
       "<IPython.core.display.Javascript object>"
      ]
     },
     "metadata": {},
     "output_type": "display_data"
    },
    {
     "data": {
      "text/html": [
       "<div id=\"glowscript\" class=\"glowscript\"></div>"
      ],
      "text/plain": [
       "<IPython.core.display.HTML object>"
      ]
     },
     "metadata": {},
     "output_type": "display_data"
    },
    {
     "data": {
      "application/javascript": [
       "window.__context = { glowscript_container: $(\"#glowscript\").removeAttr(\"id\")}"
      ],
      "text/plain": [
       "<IPython.core.display.Javascript object>"
      ]
     },
     "metadata": {},
     "output_type": "display_data"
    },
    {
     "name": "stderr",
     "output_type": "stream",
     "text": [
      "Using TensorFlow backend.\n"
     ]
    }
   ],
   "source": [
    "# import libraries\n",
    "from vpython import *\n",
    "import numpy as np\n",
    "import robotics_library as rbl\n",
    "import matplotlib.pylab as plt\n",
    "%matplotlib inline\n",
    "from keras.models import load_model\n",
    "import copy"
   ]
  },
  {
   "cell_type": "code",
   "execution_count": null,
   "metadata": {
    "collapsed": true
   },
   "outputs": [],
   "source": []
  },
  {
   "cell_type": "markdown",
   "metadata": {},
   "source": [
    "### test the learned policy"
   ]
  },
  {
   "cell_type": "code",
   "execution_count": 18,
   "metadata": {
    "collapsed": false
   },
   "outputs": [],
   "source": [
    "env_name = \"2d\"\n",
    "model_name = env_name + \".h5\"\n",
    "env_obj = rbl.Env2D()\n",
    "q_object = load_model(model_name)\n",
    "link_lengthes = env_obj.link_lengthes\n",
    "ini_rm = copy.deepcopy(env_obj.ini_rm)"
   ]
  },
  {
   "cell_type": "code",
   "execution_count": 19,
   "metadata": {
    "collapsed": false
   },
   "outputs": [
    {
     "name": "stdout",
     "output_type": "stream",
     "text": [
      "(14.55622794726488, array([ 15. ,   3. ,   0.7]), array([  1.22464680e-16,   3.00000000e+00,   2.00000000e+00]))\n"
     ]
    }
   ],
   "source": [
    "print(env_obj.hoop_size, env_obj.hoop_position, env_obj.ini_ee_pos)"
   ]
  },
  {
   "cell_type": "code",
   "execution_count": 4,
   "metadata": {
    "collapsed": false,
    "scrolled": true
   },
   "outputs": [
    {
     "name": "stdout",
     "output_type": "stream",
     "text": [
      "Successful throw, distance to hoop is 0.60\n",
      "Successful throw, distance to hoop is 0.60\n",
      "Successful throw, distance to hoop is 0.60\n",
      "Successful throw, distance to hoop is 0.60\n",
      "Successful throw, distance to hoop is 0.60\n",
      "Successful throw, distance to hoop is 0.60\n",
      "Successful throw, distance to hoop is 0.60\n",
      "Successful throw, distance to hoop is 0.60\n",
      "Successful throw, distance to hoop is 0.60\n",
      "Successful throw, distance to hoop is 0.60\n",
      "Successful throw, distance to hoop is 0.49\n",
      "Successful throw, distance to hoop is 0.60\n",
      "Successful throw, distance to hoop is 0.60\n",
      "Successful throw, distance to hoop is 0.45\n",
      "Successful throw, distance to hoop is 0.60\n",
      "Successful throw, distance to hoop is 0.60\n",
      "Successful throw, distance to hoop is 0.60\n",
      "Successful throw, distance to hoop is 0.60\n",
      "Successful throw, distance to hoop is 0.60\n",
      "Successful throw, distance to hoop is 0.60\n",
      "Successful throw, distance to hoop is 0.60\n",
      "Successful throw, distance to hoop is 0.60\n",
      "Successful throw, distance to hoop is 0.60\n",
      "Successful throw, distance to hoop is 0.60\n",
      "Successful throw, distance to hoop is 0.60\n",
      "Successful throw, distance to hoop is 0.60\n",
      "Successful throw, distance to hoop is 0.60\n",
      "Successful throw, distance to hoop is 0.60\n",
      "Successful throw, distance to hoop is 0.60\n",
      "Successful throw, distance to hoop is 0.60\n",
      "Successful throw, distance to hoop is 0.60\n",
      "Successful throw, distance to hoop is 0.60\n",
      "Successful throw, distance to hoop is 0.60\n",
      "Successful throw, distance to hoop is 0.60\n",
      "Successful throw, distance to hoop is 0.60\n",
      "Successful throw, distance to hoop is 0.60\n",
      "Successful throw, distance to hoop is 0.60\n",
      "Successful throw, distance to hoop is 0.60\n",
      "Successful throw, distance to hoop is 0.60\n",
      "Successful throw, distance to hoop is 0.60\n",
      "Successful throw, distance to hoop is 0.60\n",
      "Successful throw, distance to hoop is 0.60\n",
      "Successful throw, distance to hoop is 0.60\n",
      "Successful throw, distance to hoop is 0.60\n",
      "Successful throw, distance to hoop is 0.09\n",
      "Successful throw, distance to hoop is 0.60\n",
      "Successful throw, distance to hoop is 0.60\n",
      "Successful throw, distance to hoop is 0.60\n",
      "Successful throw, distance to hoop is 0.60\n",
      "Successful throw, distance to hoop is 0.60\n",
      "Successful throw, distance to hoop is 0.60\n",
      "Successful throw, distance to hoop is 0.05\n",
      "Successful throw, distance to hoop is 0.60\n",
      "Successful throw, distance to hoop is 0.60\n",
      "Successful throw, distance to hoop is 0.60\n",
      "Successful throw, distance to hoop is 0.60\n",
      "Successful throw, distance to hoop is 0.60\n",
      "Successful throw, distance to hoop is 0.60\n",
      "Successful throw, distance to hoop is 0.60\n",
      "Successful throw, distance to hoop is 0.60\n",
      "Successful throw, distance to hoop is 0.60\n",
      "Successful throw, distance to hoop is 0.60\n",
      "Successful throw, distance to hoop is 0.60\n",
      "Successful throw, distance to hoop is 0.60\n",
      "Successful throw, distance to hoop is 0.60\n",
      "Successful throw, distance to hoop is 0.60\n",
      "Successful throw, distance to hoop is 0.60\n",
      "Successful throw, distance to hoop is 0.60\n",
      "Successful throw, distance to hoop is 0.60\n",
      "Successful throw, distance to hoop is 0.60\n",
      "Successful throw, distance to hoop is 0.60\n",
      "Successful throw, distance to hoop is 0.60\n",
      "Successful throw, distance to hoop is 0.60\n",
      "Successful throw, distance to hoop is 0.60\n",
      "Successful throw, distance to hoop is 0.60\n",
      "Successful throw, distance to hoop is 0.60\n",
      "Successful throw, distance to hoop is 0.60\n",
      "Successful throw, distance to hoop is 0.50\n",
      "Successful throw, distance to hoop is 0.60\n",
      "Successful throw, distance to hoop is 0.60\n",
      "Successful throw, distance to hoop is 0.60\n",
      "Successful throw, distance to hoop is 0.60\n",
      "Successful throw, distance to hoop is 0.60\n",
      "Successful throw, distance to hoop is 0.60\n",
      "Successful throw, distance to hoop is 0.60\n",
      "Successful throw, distance to hoop is 0.60\n",
      "Successful throw, distance to hoop is 0.60\n",
      "Successful throw, distance to hoop is 0.60\n",
      "Successful throw, distance to hoop is 0.60\n",
      "Successful throw, distance to hoop is 0.60\n",
      "Successful throw, distance to hoop is 0.60\n",
      "Successful throw, distance to hoop is 0.60\n",
      "Successful throw, distance to hoop is 0.60\n",
      "Successful throw, distance to hoop is 0.60\n",
      "Successful throw, distance to hoop is 0.60\n",
      "Successful throw, distance to hoop is 0.60\n",
      "Successful throw, distance to hoop is 0.60\n",
      "Successful throw, distance to hoop is 0.60\n",
      "Successful throw, distance to hoop is 0.60\n",
      "Successful throw, distance to hoop is 0.60\n",
      "Successful throw, distance to hoop is 0.60\n",
      "Successful throw, distance to hoop is 0.60\n",
      "Successful throw, distance to hoop is 0.60\n",
      "Successful throw, distance to hoop is 0.63\n",
      "Successful throw, distance to hoop is 0.60\n",
      "Successful throw, distance to hoop is 0.60\n",
      "Successful throw, distance to hoop is 0.60\n",
      "Successful throw, distance to hoop is 0.60\n",
      "Successful throw, distance to hoop is 0.60\n",
      "Successful throw, distance to hoop is 0.60\n",
      "Successful throw, distance to hoop is 0.60\n",
      "Successful throw, distance to hoop is 0.60\n",
      "Successful throw, distance to hoop is 0.60\n",
      "Successful throw, distance to hoop is 0.60\n",
      "Successful throw, distance to hoop is 0.60\n",
      "Successful throw, distance to hoop is 0.60\n",
      "Successful throw, distance to hoop is 0.06\n",
      "Successful throw, distance to hoop is 0.60\n",
      "Successful throw, distance to hoop is 0.83\n",
      "Successful throw, distance to hoop is 0.60\n",
      "Successful throw, distance to hoop is 0.60\n",
      "Successful throw, distance to hoop is 0.60\n",
      "Successful throw, distance to hoop is 0.60\n",
      "Successful throw, distance to hoop is 0.62\n",
      "Successful throw, distance to hoop is 0.60\n",
      "Successful throw, distance to hoop is 0.60\n",
      "Successful throw, distance to hoop is 0.60\n",
      "Successful throw, distance to hoop is 0.60\n",
      "Successful throw, distance to hoop is 0.60\n",
      "Successful throw, distance to hoop is 0.60\n",
      "Successful throw, distance to hoop is 0.60\n",
      "Successful throw, distance to hoop is 0.60\n",
      "Successful throw, distance to hoop is 0.60\n",
      "Successful throw, distance to hoop is 0.60\n",
      "Successful throw, distance to hoop is 0.63\n",
      "Successful throw, distance to hoop is 0.60\n",
      "Successful throw, distance to hoop is 0.60\n",
      "Successful throw, distance to hoop is 0.60\n",
      "Successful throw, distance to hoop is 0.60\n",
      "Successful throw, distance to hoop is 0.60\n",
      "Successful throw, distance to hoop is 0.19\n",
      "Successful throw, distance to hoop is 0.60\n",
      "Successful throw, distance to hoop is 0.60\n",
      "Successful throw, distance to hoop is 0.09\n",
      "Successful throw, distance to hoop is 0.60\n",
      "Successful throw, distance to hoop is 0.05\n",
      "Successful throw, distance to hoop is 0.60\n",
      "Successful throw, distance to hoop is 0.60\n",
      "Successful throw, distance to hoop is 0.60\n",
      "Successful throw, distance to hoop is 0.60\n",
      "Successful throw, distance to hoop is 0.60\n",
      "Successful throw, distance to hoop is 0.81\n",
      "Successful throw, distance to hoop is 0.60\n",
      "Successful throw, distance to hoop is 0.60\n",
      "Successful throw, distance to hoop is 0.60\n",
      "Successful throw, distance to hoop is 0.56\n",
      "Successful throw, distance to hoop is 0.60\n",
      "Successful throw, distance to hoop is 0.60\n",
      "Successful throw, distance to hoop is 0.60\n",
      "Successful throw, distance to hoop is 0.60\n",
      "Successful throw, distance to hoop is 0.60\n",
      "Successful throw, distance to hoop is 0.60\n",
      "Successful throw, distance to hoop is 0.60\n",
      "Successful throw, distance to hoop is 0.60\n",
      "Successful throw, distance to hoop is 0.60\n",
      "Successful throw, distance to hoop is 0.60\n",
      "Successful throw, distance to hoop is 0.60\n",
      "Successful throw, distance to hoop is 0.60\n",
      "Successful throw, distance to hoop is 0.60\n",
      "Successful throw, distance to hoop is 0.60\n",
      "Successful throw, distance to hoop is 0.60\n",
      "Successful throw, distance to hoop is 0.60\n",
      "Successful throw, distance to hoop is 0.60\n",
      "Successful throw, distance to hoop is 0.60\n",
      "Successful throw, distance to hoop is 0.60\n",
      "Successful throw, distance to hoop is 0.60\n",
      "Successful throw, distance to hoop is 0.60\n",
      "Successful throw, distance to hoop is 0.60\n",
      "Successful throw, distance to hoop is 0.60\n",
      "Successful throw, distance to hoop is 0.52\n",
      "Successful throw, distance to hoop is 0.60\n",
      "Successful throw, distance to hoop is 0.60\n",
      "Successful throw, distance to hoop is 0.60\n",
      "Successful throw, distance to hoop is 0.60\n",
      "Successful throw, distance to hoop is 0.60\n",
      "Successful throw, distance to hoop is 0.60\n",
      "Successful throw, distance to hoop is 0.60\n",
      "Successful throw, distance to hoop is 0.60\n",
      "Successful throw, distance to hoop is 0.60\n",
      "Successful throw, distance to hoop is 0.08\n",
      "Successful throw, distance to hoop is 0.60\n",
      "Successful throw, distance to hoop is 0.40\n",
      "Successful throw, distance to hoop is 0.60\n",
      "Successful throw, distance to hoop is 0.60\n",
      "Successful throw, distance to hoop is 0.53\n",
      "Successful throw, distance to hoop is 0.60\n",
      "Successful throw, distance to hoop is 0.60\n",
      "Successful throw, distance to hoop is 0.60\n",
      "Successful throw, distance to hoop is 0.60\n",
      "Successful throw, distance to hoop is 0.60\n",
      "Successful throw, distance to hoop is 0.60\n",
      "Successful throw, distance to hoop is 0.60\n",
      "Successful throw, distance to hoop is 0.60\n",
      "Successful throw, distance to hoop is 0.60\n",
      "Successful throw, distance to hoop is 0.60\n",
      "Successful throw, distance to hoop is 0.60\n",
      "Successful throw, distance to hoop is 0.60\n",
      "Successful throw, distance to hoop is 0.60\n",
      "Successful throw, distance to hoop is 0.60\n",
      "Successful throw, distance to hoop is 0.60\n",
      "Successful throw, distance to hoop is 0.60\n",
      "Successful throw, distance to hoop is 0.60\n",
      "Successful throw, distance to hoop is 0.60\n",
      "Successful throw, distance to hoop is 0.60\n",
      "Successful throw, distance to hoop is 0.60\n",
      "Successful throw, distance to hoop is 0.60\n",
      "Successful throw, distance to hoop is 0.60\n",
      "Successful throw, distance to hoop is 0.60\n",
      "Successful throw, distance to hoop is 0.60\n",
      "Successful throw, distance to hoop is 0.60\n",
      "Successful throw, distance to hoop is 0.60\n",
      "Successful throw, distance to hoop is 0.60\n",
      "Successful throw, distance to hoop is 0.60\n",
      "Successful throw, distance to hoop is 0.60\n",
      "Successful throw, distance to hoop is 0.27\n",
      "Successful throw, distance to hoop is 0.60\n",
      "Successful throw, distance to hoop is 0.60\n",
      "Successful throw, distance to hoop is 0.60\n",
      "Successful throw, distance to hoop is 0.60\n",
      "Successful throw, distance to hoop is 0.60\n",
      "Successful throw, distance to hoop is 0.60\n",
      "Successful throw, distance to hoop is 0.60\n",
      "Successful throw, distance to hoop is 0.60\n",
      "Successful throw, distance to hoop is 0.60\n",
      "Successful throw, distance to hoop is 0.60\n",
      "Successful throw, distance to hoop is 0.60\n",
      "Successful throw, distance to hoop is 0.60\n",
      "Successful throw, distance to hoop is 0.60\n",
      "Successful throw, distance to hoop is 0.60\n",
      "Successful throw, distance to hoop is 0.60\n",
      "Successful throw, distance to hoop is 0.60\n",
      "Successful throw, distance to hoop is 0.60\n",
      "Successful throw, distance to hoop is 0.10\n",
      "Successful throw, distance to hoop is 0.60\n",
      "Successful throw, distance to hoop is 0.60\n",
      "Successful throw, distance to hoop is 0.60\n",
      "Successful throw, distance to hoop is 0.60\n",
      "Successful throw, distance to hoop is 0.60\n",
      "Successful throw, distance to hoop is 0.60\n",
      "Successful throw, distance to hoop is 0.60\n",
      "Successful throw, distance to hoop is 0.60\n",
      "Successful throw, distance to hoop is 0.07\n",
      "Successful throw, distance to hoop is 0.60\n",
      "Successful throw, distance to hoop is 0.60\n",
      "Successful throw, distance to hoop is 0.60\n",
      "Successful throw, distance to hoop is 0.60\n",
      "Successful throw, distance to hoop is 0.60\n",
      "Successful throw, distance to hoop is 0.60\n",
      "Successful throw, distance to hoop is 0.60\n",
      "Successful throw, distance to hoop is 0.60\n",
      "Successful throw, distance to hoop is 0.60\n",
      "Successful throw, distance to hoop is 0.60\n",
      "Successful throw, distance to hoop is 0.60\n",
      "Successful throw, distance to hoop is 0.60\n",
      "Successful throw, distance to hoop is 0.60\n",
      "Successful throw, distance to hoop is 0.58\n",
      "Successful throw, distance to hoop is 0.60\n",
      "Successful throw, distance to hoop is 0.49\n",
      "Successful throw, distance to hoop is 0.60\n",
      "Successful throw, distance to hoop is 0.60\n",
      "Successful throw, distance to hoop is 0.60\n",
      "Successful throw, distance to hoop is 0.60\n",
      "Successful throw, distance to hoop is 0.60\n",
      "Successful throw, distance to hoop is 0.60\n",
      "Successful throw, distance to hoop is 0.60\n",
      "Successful throw, distance to hoop is 0.60\n",
      "Successful throw, distance to hoop is 0.60\n",
      "Successful throw, distance to hoop is 0.60\n",
      "Successful throw, distance to hoop is 0.60\n",
      "Successful throw, distance to hoop is 0.60\n",
      "Successful throw, distance to hoop is 0.60\n",
      "Successful throw, distance to hoop is 0.60\n",
      "Successful throw, distance to hoop is 0.60\n",
      "Successful throw, distance to hoop is 0.60\n",
      "Successful throw, distance to hoop is 0.60\n",
      "Successful throw, distance to hoop is 0.60\n",
      "Successful throw, distance to hoop is 0.51\n",
      "Successful throw, distance to hoop is 0.60\n",
      "Successful throw, distance to hoop is 0.20\n",
      "Successful throw, distance to hoop is 0.60\n",
      "Successful throw, distance to hoop is 0.60\n",
      "Successful throw, distance to hoop is 0.60\n",
      "Successful throw, distance to hoop is 0.60\n",
      "Successful throw, distance to hoop is 0.60\n",
      "Successful throw, distance to hoop is 0.60\n",
      "Successful throw, distance to hoop is 0.60\n",
      "Successful throw, distance to hoop is 0.60\n",
      "Successful throw, distance to hoop is 0.60\n",
      "Successful throw, distance to hoop is 0.60\n",
      "Successful throw, distance to hoop is 0.60\n",
      "Successful throw, distance to hoop is 0.60\n",
      "Successful throw, distance to hoop is 0.60\n",
      "Successful throw, distance to hoop is 0.60\n",
      "Successful throw, distance to hoop is 0.46\n",
      "Successful throw, distance to hoop is 0.60\n",
      "Successful throw, distance to hoop is 0.60\n",
      "Successful throw, distance to hoop is 0.60\n",
      "Successful throw, distance to hoop is 0.60\n",
      "Successful throw, distance to hoop is 0.60\n",
      "Successful throw, distance to hoop is 0.60\n",
      "Successful throw, distance to hoop is 0.60\n",
      "Successful throw, distance to hoop is 0.60\n",
      "Successful throw, distance to hoop is 0.60\n",
      "Successful throw, distance to hoop is 0.60\n",
      "Successful throw, distance to hoop is 0.60\n",
      "Successful throw, distance to hoop is 0.60\n",
      "Successful throw, distance to hoop is 0.60\n",
      "Successful throw, distance to hoop is 0.60\n",
      "Successful throw, distance to hoop is 0.60\n",
      "Successful throw, distance to hoop is 0.60\n",
      "Successful throw, distance to hoop is 0.12\n",
      "Successful throw, distance to hoop is 0.60\n",
      "Successful throw, distance to hoop is 0.60\n",
      "Successful throw, distance to hoop is 0.60\n",
      "Successful throw, distance to hoop is 0.49\n",
      "Successful throw, distance to hoop is 0.60\n",
      "Successful throw, distance to hoop is 0.60\n",
      "Successful throw, distance to hoop is 0.60\n",
      "Successful throw, distance to hoop is 0.60\n",
      "Successful throw, distance to hoop is 0.60\n",
      "Successful throw, distance to hoop is 0.60\n",
      "Successful throw, distance to hoop is 0.60\n",
      "Successful throw, distance to hoop is 0.60\n",
      "Successful throw, distance to hoop is 0.60\n",
      "Successful throw, distance to hoop is 0.60\n",
      "Successful throw, distance to hoop is 0.60\n",
      "Successful throw, distance to hoop is 0.60\n",
      "Successful throw, distance to hoop is 0.60\n",
      "Successful throw, distance to hoop is 0.60\n",
      "Successful throw, distance to hoop is 0.08\n",
      "Successful throw, distance to hoop is 0.60\n",
      "Successful throw, distance to hoop is 0.60\n",
      "Successful throw, distance to hoop is 0.23\n",
      "Successful throw, distance to hoop is 0.60\n",
      "Successful throw, distance to hoop is 0.60\n",
      "Successful throw, distance to hoop is 0.60\n",
      "Successful throw, distance to hoop is 0.60\n",
      "Successful throw, distance to hoop is 0.60\n",
      "Successful throw, distance to hoop is 0.60\n",
      "Successful throw, distance to hoop is 0.60\n",
      "Successful throw, distance to hoop is 0.60\n",
      "Successful throw, distance to hoop is 0.37\n",
      "Successful throw, distance to hoop is 0.60\n",
      "Successful throw, distance to hoop is 0.60\n",
      "Successful throw, distance to hoop is 0.60\n",
      "Successful throw, distance to hoop is 0.60\n",
      "Successful throw, distance to hoop is 0.60\n",
      "Successful throw, distance to hoop is 0.60\n",
      "Successful throw, distance to hoop is 0.45\n",
      "Successful throw, distance to hoop is 0.60\n",
      "Successful throw, distance to hoop is 0.60\n",
      "Successful throw, distance to hoop is 0.60\n",
      "Successful throw, distance to hoop is 0.60\n",
      "Successful throw, distance to hoop is 0.60\n",
      "Successful throw, distance to hoop is 0.64\n",
      "Successful throw, distance to hoop is 0.60\n",
      "Successful throw, distance to hoop is 0.60\n",
      "Successful throw, distance to hoop is 0.60\n",
      "Successful throw, distance to hoop is 0.60\n",
      "Successful throw, distance to hoop is 0.60\n",
      "Successful throw, distance to hoop is 0.60\n",
      "Successful throw, distance to hoop is 0.60\n",
      "Successful throw, distance to hoop is 0.60\n",
      "Successful throw, distance to hoop is 0.60\n",
      "Successful throw, distance to hoop is 0.60\n",
      "Successful throw, distance to hoop is 0.83\n",
      "Successful throw, distance to hoop is 0.60\n",
      "Successful throw, distance to hoop is 0.60\n",
      "Successful throw, distance to hoop is 0.60\n",
      "Successful throw, distance to hoop is 0.60\n",
      "Successful throw, distance to hoop is 0.60\n",
      "Successful throw, distance to hoop is 0.60\n",
      "Successful throw, distance to hoop is 0.60\n",
      "Successful throw, distance to hoop is 0.60\n",
      "Successful throw, distance to hoop is 0.28\n",
      "Successful throw, distance to hoop is 0.60\n",
      "Successful throw, distance to hoop is 0.60\n",
      "Successful throw, distance to hoop is 0.18\n",
      "Successful throw, distance to hoop is 0.60\n",
      "Successful throw, distance to hoop is 0.60\n",
      "Successful throw, distance to hoop is 0.60\n",
      "Successful throw, distance to hoop is 0.60\n",
      "Successful throw, distance to hoop is 0.60\n",
      "Successful throw, distance to hoop is 0.60\n",
      "Successful throw, distance to hoop is 0.60\n",
      "Successful throw, distance to hoop is 0.60\n",
      "Successful throw, distance to hoop is 0.60\n",
      "Successful throw, distance to hoop is 0.60\n",
      "Successful throw, distance to hoop is 0.60\n",
      "Successful throw, distance to hoop is 0.60\n",
      "Successful throw, distance to hoop is 0.60\n",
      "Successful throw, distance to hoop is 0.60\n",
      "Successful throw, distance to hoop is 0.60\n",
      "Successful throw, distance to hoop is 0.60\n",
      "Successful throw, distance to hoop is 0.60\n",
      "Successful throw, distance to hoop is 0.60\n",
      "Successful throw, distance to hoop is 0.60\n",
      "Successful throw, distance to hoop is 0.60\n",
      "Successful throw, distance to hoop is 0.60\n",
      "Successful throw, distance to hoop is 0.60\n",
      "Successful throw, distance to hoop is 0.60\n",
      "Successful throw, distance to hoop is 0.60\n",
      "Successful throw, distance to hoop is 0.60\n",
      "Successful throw, distance to hoop is 0.60\n",
      "Successful throw, distance to hoop is 0.60\n",
      "Successful throw, distance to hoop is 0.60\n",
      "Successful throw, distance to hoop is 0.08\n",
      "Successful throw, distance to hoop is 0.60\n",
      "Successful throw, distance to hoop is 0.60\n",
      "Successful throw, distance to hoop is 0.60\n",
      "Successful throw, distance to hoop is 0.60\n",
      "Successful throw, distance to hoop is 0.60\n",
      "Successful throw, distance to hoop is 0.60\n",
      "Successful throw, distance to hoop is 0.60\n",
      "Successful throw, distance to hoop is 0.08\n",
      "Successful throw, distance to hoop is 0.60\n",
      "Successful throw, distance to hoop is 0.60\n",
      "Successful throw, distance to hoop is 0.60\n",
      "Successful throw, distance to hoop is 0.66\n",
      "Successful throw, distance to hoop is 0.60\n",
      "Successful throw, distance to hoop is 0.60\n",
      "Successful throw, distance to hoop is 0.60\n",
      "Successful throw, distance to hoop is 0.48\n",
      "Successful throw, distance to hoop is 0.60\n",
      "Successful throw, distance to hoop is 0.60\n",
      "Successful throw, distance to hoop is 0.60\n",
      "Successful throw, distance to hoop is 0.60\n",
      "Successful throw, distance to hoop is 0.60\n",
      "Successful throw, distance to hoop is 0.60\n",
      "Successful throw, distance to hoop is 0.60\n",
      "Successful throw, distance to hoop is 0.60\n",
      "Successful throw, distance to hoop is 0.49\n",
      "Successful throw, distance to hoop is 0.60\n",
      "Successful throw, distance to hoop is 0.66\n",
      "Successful throw, distance to hoop is 0.60\n",
      "Successful throw, distance to hoop is 0.60\n",
      "Successful throw, distance to hoop is 0.60\n",
      "Successful throw, distance to hoop is 0.60\n",
      "Successful throw, distance to hoop is 0.85\n",
      "Successful throw, distance to hoop is 0.60\n",
      "Successful throw, distance to hoop is 0.60\n",
      "Successful throw, distance to hoop is 0.60\n",
      "Successful throw, distance to hoop is 0.60\n",
      "Successful throw, distance to hoop is 0.60\n",
      "Successful throw, distance to hoop is 0.60\n",
      "Successful throw, distance to hoop is 0.60\n",
      "Successful throw, distance to hoop is 0.60\n",
      "Successful throw, distance to hoop is 0.60\n",
      "Successful throw, distance to hoop is 0.60\n",
      "Successful throw, distance to hoop is 0.60\n",
      "Successful throw, distance to hoop is 0.60\n",
      "Successful throw, distance to hoop is 0.60\n",
      "Successful throw, distance to hoop is 0.60\n",
      "Successful throw, distance to hoop is 0.60\n",
      "Successful throw, distance to hoop is 0.60\n",
      "Successful throw, distance to hoop is 0.60\n",
      "Successful throw, distance to hoop is 0.60\n",
      "Successful throw, distance to hoop is 0.60\n",
      "Successful throw, distance to hoop is 0.60\n",
      "Successful throw, distance to hoop is 0.60\n",
      "Successful throw, distance to hoop is 0.60\n",
      "Successful throw, distance to hoop is 0.60\n",
      "Successful throw, distance to hoop is 0.60\n",
      "Successful throw, distance to hoop is 0.33\n",
      "Successful throw, distance to hoop is 0.60\n",
      "Successful throw, distance to hoop is 0.60\n",
      "Successful throw, distance to hoop is 0.60\n",
      "Successful throw, distance to hoop is 0.60\n",
      "Successful throw, distance to hoop is 0.60\n",
      "Successful throw, distance to hoop is 0.60\n",
      "Successful throw, distance to hoop is 0.60\n",
      "Successful throw, distance to hoop is 0.60\n",
      "Successful throw, distance to hoop is 0.60\n",
      "Successful throw, distance to hoop is 0.60\n",
      "Successful throw, distance to hoop is 0.60\n",
      "Successful throw, distance to hoop is 0.60\n",
      "Successful throw, distance to hoop is 0.60\n",
      "Successful throw, distance to hoop is 0.60\n",
      "Successful throw, distance to hoop is 0.60\n",
      "Successful throw, distance to hoop is 0.60\n",
      "Successful throw, distance to hoop is 0.60\n",
      "Successful throw, distance to hoop is 0.60\n",
      "Successful throw, distance to hoop is 0.60\n",
      "Successful throw, distance to hoop is 0.60\n",
      "Successful throw, distance to hoop is 0.60\n",
      "Successful throw, distance to hoop is 0.60\n",
      "Successful throw, distance to hoop is 0.60\n",
      "Successful throw, distance to hoop is 0.60\n",
      "Successful throw, distance to hoop is 0.60\n",
      "Successful throw, distance to hoop is 0.60\n",
      "Successful throw, distance to hoop is 0.60\n",
      "Successful throw, distance to hoop is 0.60\n",
      "Successful throw, distance to hoop is 0.60\n",
      "Successful throw, distance to hoop is 0.60\n",
      "Successful throw, distance to hoop is 0.67\n",
      "Successful throw, distance to hoop is 0.60\n",
      "Successful throw, distance to hoop is 0.60\n",
      "Successful throw, distance to hoop is 0.60\n",
      "Successful throw, distance to hoop is 0.60\n",
      "Successful throw, distance to hoop is 0.60\n",
      "Successful throw, distance to hoop is 0.60\n",
      "Successful throw, distance to hoop is 0.60\n",
      "Successful throw, distance to hoop is 0.60\n",
      "Successful throw, distance to hoop is 0.60\n",
      "Successful throw, distance to hoop is 0.60\n",
      "Successful throw, distance to hoop is 0.60\n",
      "Successful throw, distance to hoop is 0.60\n",
      "Successful throw, distance to hoop is 0.50\n",
      "Successful throw, distance to hoop is 0.60\n",
      "Successful throw, distance to hoop is 0.60\n",
      "Successful throw, distance to hoop is 0.60\n",
      "Successful throw, distance to hoop is 0.60\n",
      "Successful throw, distance to hoop is 0.60\n",
      "Successful throw, distance to hoop is 0.60\n",
      "Successful throw, distance to hoop is 0.60\n",
      "Successful throw, distance to hoop is 0.60\n",
      "Successful throw, distance to hoop is 0.60\n",
      "Successful throw, distance to hoop is 0.60\n",
      "Successful throw, distance to hoop is 0.60\n",
      "Successful throw, distance to hoop is 0.52\n",
      "Successful throw, distance to hoop is 0.60\n",
      "Successful throw, distance to hoop is 0.60\n",
      "Successful throw, distance to hoop is 0.60\n",
      "Successful throw, distance to hoop is 0.60\n",
      "Successful throw, distance to hoop is 0.60\n",
      "Successful throw, distance to hoop is 0.60\n",
      "Successful throw, distance to hoop is 0.60\n",
      "Successful throw, distance to hoop is 0.60\n",
      "Successful throw, distance to hoop is 0.60\n",
      "Successful throw, distance to hoop is 0.38\n",
      "Successful throw, distance to hoop is 0.60\n",
      "Successful throw, distance to hoop is 0.60\n",
      "Successful throw, distance to hoop is 0.60\n",
      "Successful throw, distance to hoop is 0.60\n",
      "Successful throw, distance to hoop is 0.60\n",
      "Successful throw, distance to hoop is 0.60\n",
      "Successful throw, distance to hoop is 0.60\n",
      "Successful throw, distance to hoop is 0.60\n",
      "Successful throw, distance to hoop is 0.60\n",
      "Successful throw, distance to hoop is 0.79\n",
      "Successful throw, distance to hoop is 0.60\n",
      "Successful throw, distance to hoop is 0.60\n",
      "Successful throw, distance to hoop is 0.60\n",
      "Successful throw, distance to hoop is 0.60\n",
      "Successful throw, distance to hoop is 0.60\n",
      "Successful throw, distance to hoop is 0.60\n",
      "Successful throw, distance to hoop is 0.60\n",
      "Successful throw, distance to hoop is 0.54\n",
      "Successful throw, distance to hoop is 0.45\n",
      "Successful throw, distance to hoop is 0.60\n",
      "Successful throw, distance to hoop is 0.60\n",
      "Successful throw, distance to hoop is 0.60\n",
      "Successful throw, distance to hoop is 0.60\n",
      "Successful throw, distance to hoop is 0.60\n",
      "Successful throw, distance to hoop is 0.60\n",
      "Successful throw, distance to hoop is 0.60\n",
      "Successful throw, distance to hoop is 0.49\n",
      "Successful throw, distance to hoop is 0.60\n",
      "Successful throw, distance to hoop is 0.60\n",
      "Successful throw, distance to hoop is 0.60\n",
      "Successful throw, distance to hoop is 0.60\n",
      "Successful throw, distance to hoop is 0.60\n",
      "Successful throw, distance to hoop is 0.60\n",
      "Successful throw, distance to hoop is 0.60\n",
      "Successful throw, distance to hoop is 0.60\n",
      "Successful throw, distance to hoop is 0.06\n",
      "Successful throw, distance to hoop is 0.60\n",
      "Successful throw, distance to hoop is 0.60\n",
      "Successful throw, distance to hoop is 0.60\n",
      "Successful throw, distance to hoop is 0.69\n",
      "Successful throw, distance to hoop is 0.52\n",
      "Successful throw, distance to hoop is 0.60\n",
      "Successful throw, distance to hoop is 0.60\n",
      "Successful throw, distance to hoop is 0.60\n",
      "Successful throw, distance to hoop is 0.60\n",
      "Successful throw, distance to hoop is 0.60\n",
      "Successful throw, distance to hoop is 0.60\n",
      "Successful throw, distance to hoop is 0.60\n",
      "Successful throw, distance to hoop is 0.60\n",
      "Successful throw, distance to hoop is 0.60\n",
      "Successful throw, distance to hoop is 0.60\n",
      "Successful throw, distance to hoop is 0.60\n",
      "Successful throw, distance to hoop is 0.60\n",
      "Successful throw, distance to hoop is 0.60\n",
      "Successful throw, distance to hoop is 0.60\n",
      "Successful throw, distance to hoop is 0.60\n",
      "Successful throw, distance to hoop is 0.60\n",
      "Successful throw, distance to hoop is 0.60\n",
      "Successful throw, distance to hoop is 0.60\n",
      "Successful throw, distance to hoop is 0.60\n",
      "Successful throw, distance to hoop is 0.60\n",
      "Successful throw, distance to hoop is 0.60\n",
      "Successful throw, distance to hoop is 0.60\n",
      "Successful throw, distance to hoop is 0.60\n",
      "Successful throw, distance to hoop is 0.60\n",
      "Successful throw, distance to hoop is 0.50\n",
      "Successful throw, distance to hoop is 0.60\n",
      "Successful throw, distance to hoop is 0.60\n",
      "Successful throw, distance to hoop is 0.60\n",
      "Successful throw, distance to hoop is 0.09\n",
      "Successful throw, distance to hoop is 0.60\n",
      "Successful throw, distance to hoop is 0.60\n",
      "Successful throw, distance to hoop is 0.60\n",
      "Successful throw, distance to hoop is 0.60\n",
      "Successful throw, distance to hoop is 0.60\n",
      "Successful throw, distance to hoop is 0.60\n",
      "Successful throw, distance to hoop is 0.60\n",
      "Successful throw, distance to hoop is 0.60\n",
      "Successful throw, distance to hoop is 0.60\n",
      "Successful throw, distance to hoop is 0.60\n",
      "Successful throw, distance to hoop is 0.81\n",
      "Successful throw, distance to hoop is 0.60\n",
      "Successful throw, distance to hoop is 0.46\n",
      "Successful throw, distance to hoop is 0.09\n",
      "Successful throw, distance to hoop is 0.60\n",
      "Successful throw, distance to hoop is 0.60\n",
      "Successful throw, distance to hoop is 0.60\n",
      "Successful throw, distance to hoop is 0.60\n",
      "Successful throw, distance to hoop is 0.60\n",
      "Successful throw, distance to hoop is 0.60\n",
      "Successful throw, distance to hoop is 0.60\n",
      "Successful throw, distance to hoop is 0.06\n",
      "Successful throw, distance to hoop is 0.13\n",
      "Successful throw, distance to hoop is 0.26\n",
      "Successful throw, distance to hoop is 0.46\n",
      "Successful throw, distance to hoop is 0.60\n",
      "Successful throw, distance to hoop is 0.60\n",
      "Successful throw, distance to hoop is 0.60\n",
      "Successful throw, distance to hoop is 0.60\n",
      "Successful throw, distance to hoop is 0.60\n",
      "Successful throw, distance to hoop is 0.60\n",
      "Successful throw, distance to hoop is 0.60\n",
      "Successful throw, distance to hoop is 0.77\n",
      "Successful throw, distance to hoop is 0.60\n",
      "Successful throw, distance to hoop is 0.60\n",
      "Successful throw, distance to hoop is 0.60\n",
      "Successful throw, distance to hoop is 0.60\n",
      "Successful throw, distance to hoop is 0.60\n",
      "Successful throw, distance to hoop is 0.60\n",
      "Successful throw, distance to hoop is 0.60\n",
      "Successful throw, distance to hoop is 0.60\n",
      "Successful throw, distance to hoop is 0.60\n",
      "Successful throw, distance to hoop is 0.60\n",
      "Successful throw, distance to hoop is 0.60\n",
      "Successful throw, distance to hoop is 0.60\n",
      "Successful throw, distance to hoop is 0.60\n",
      "Successful throw, distance to hoop is 0.60\n",
      "Successful throw, distance to hoop is 0.80\n",
      "Successful throw, distance to hoop is 0.60\n",
      "Successful throw, distance to hoop is 0.60\n",
      "Successful throw, distance to hoop is 0.60\n",
      "Successful throw, distance to hoop is 0.60\n",
      "Successful throw, distance to hoop is 0.60\n",
      "Successful throw, distance to hoop is 0.60\n",
      "Successful throw, distance to hoop is 0.60\n",
      "Successful throw, distance to hoop is 0.60\n",
      "Successful throw, distance to hoop is 0.60\n",
      "Successful throw, distance to hoop is 0.60\n",
      "Successful throw, distance to hoop is 0.60\n",
      "Successful throw, distance to hoop is 0.60\n",
      "Successful throw, distance to hoop is 0.60\n",
      "Successful throw, distance to hoop is 0.60\n",
      "Successful throw, distance to hoop is 0.60\n",
      "Successful throw, distance to hoop is 0.60\n",
      "Successful throw, distance to hoop is 0.60\n",
      "Successful throw, distance to hoop is 0.03\n",
      "Successful throw, distance to hoop is 0.60\n",
      "Successful throw, distance to hoop is 0.60\n",
      "Successful throw, distance to hoop is 0.60\n",
      "Successful throw, distance to hoop is 0.60\n",
      "Successful throw, distance to hoop is 0.60\n",
      "Successful throw, distance to hoop is 0.60\n",
      "Successful throw, distance to hoop is 0.60\n",
      "Successful throw, distance to hoop is 0.60\n",
      "Successful throw, distance to hoop is 0.60\n",
      "Successful throw, distance to hoop is 0.60\n",
      "Successful throw, distance to hoop is 0.60\n",
      "Successful throw, distance to hoop is 0.60\n",
      "Successful throw, distance to hoop is 0.60\n",
      "Successful throw, distance to hoop is 0.60\n",
      "Successful throw, distance to hoop is 0.60\n",
      "Successful throw, distance to hoop is 0.60\n",
      "Successful throw, distance to hoop is 0.60\n",
      "Successful throw, distance to hoop is 0.60\n",
      "Successful throw, distance to hoop is 0.60\n",
      "Successful throw, distance to hoop is 0.60\n",
      "Successful throw, distance to hoop is 0.80\n",
      "Successful throw, distance to hoop is 0.60\n",
      "Successful throw, distance to hoop is 0.60\n",
      "Successful throw, distance to hoop is 0.60\n",
      "Successful throw, distance to hoop is 0.08\n",
      "Successful throw, distance to hoop is 0.60\n",
      "Successful throw, distance to hoop is 0.60\n",
      "Successful throw, distance to hoop is 0.60\n",
      "Successful throw, distance to hoop is 0.60\n",
      "Successful throw, distance to hoop is 0.60\n",
      "Successful throw, distance to hoop is 0.60\n",
      "Successful throw, distance to hoop is 0.60\n",
      "Successful throw, distance to hoop is 0.57\n",
      "Successful throw, distance to hoop is 0.60\n",
      "Successful throw, distance to hoop is 0.60\n",
      "Successful throw, distance to hoop is 0.60\n",
      "Successful throw, distance to hoop is 0.60\n",
      "Successful throw, distance to hoop is 0.25\n",
      "Successful throw, distance to hoop is 0.60\n",
      "Successful throw, distance to hoop is 0.60\n",
      "Successful throw, distance to hoop is 0.60\n",
      "Successful throw, distance to hoop is 0.60\n",
      "Successful throw, distance to hoop is 0.60\n",
      "Successful throw, distance to hoop is 0.16\n",
      "Successful throw, distance to hoop is 0.60\n",
      "Successful throw, distance to hoop is 0.60\n",
      "Successful throw, distance to hoop is 0.49\n",
      "Successful throw, distance to hoop is 0.60\n",
      "Successful throw, distance to hoop is 0.60\n",
      "Successful throw, distance to hoop is 0.60\n",
      "Successful throw, distance to hoop is 0.60\n",
      "Successful throw, distance to hoop is 0.60\n",
      "Successful throw, distance to hoop is 0.60\n",
      "Successful throw, distance to hoop is 0.60\n",
      "Successful throw, distance to hoop is 0.57\n",
      "Successful throw, distance to hoop is 0.85\n",
      "Successful throw, distance to hoop is 0.60\n",
      "Successful throw, distance to hoop is 0.60\n",
      "Successful throw, distance to hoop is 0.60\n",
      "Successful throw, distance to hoop is 0.06\n",
      "Successful throw, distance to hoop is 0.60\n",
      "Successful throw, distance to hoop is 0.18\n",
      "Successful throw, distance to hoop is 0.60\n",
      "Successful throw, distance to hoop is 0.60\n",
      "Successful throw, distance to hoop is 0.60\n",
      "Successful throw, distance to hoop is 0.60\n",
      "Successful throw, distance to hoop is 0.60\n",
      "Successful throw, distance to hoop is 0.60\n",
      "Successful throw, distance to hoop is 0.60\n",
      "Successful throw, distance to hoop is 0.60\n",
      "Successful throw, distance to hoop is 0.60\n",
      "Successful throw, distance to hoop is 0.60\n",
      "Successful throw, distance to hoop is 0.60\n",
      "Successful throw, distance to hoop is 0.60\n",
      "Successful throw, distance to hoop is 0.60\n",
      "Successful throw, distance to hoop is 0.60\n",
      "Successful throw, distance to hoop is 0.60\n",
      "Successful throw, distance to hoop is 0.60\n",
      "Successful throw, distance to hoop is 0.60\n",
      "Successful throw, distance to hoop is 0.60\n",
      "Successful throw, distance to hoop is 0.60\n",
      "Successful throw, distance to hoop is 0.60\n",
      "Successful throw, distance to hoop is 0.60\n",
      "Successful throw, distance to hoop is 0.60\n",
      "Successful throw, distance to hoop is 0.60\n",
      "Successful throw, distance to hoop is 0.60\n",
      "Successful throw, distance to hoop is 0.60\n",
      "Successful throw, distance to hoop is 0.60\n",
      "Successful throw, distance to hoop is 0.60\n",
      "Successful throw, distance to hoop is 0.60\n",
      "Successful throw, distance to hoop is 0.60\n",
      "Successful throw, distance to hoop is 0.60\n",
      "Successful throw, distance to hoop is 0.60\n",
      "Successful throw, distance to hoop is 0.60\n",
      "Successful throw, distance to hoop is 0.60\n",
      "Successful throw, distance to hoop is 0.60\n",
      "Successful throw, distance to hoop is 0.60\n",
      "Successful throw, distance to hoop is 0.60\n",
      "Successful throw, distance to hoop is 0.60\n",
      "Successful throw, distance to hoop is 0.60\n",
      "Successful throw, distance to hoop is 0.60\n",
      "Successful throw, distance to hoop is 0.60\n",
      "Successful throw, distance to hoop is 0.60\n",
      "Successful throw, distance to hoop is 0.60\n",
      "Successful throw, distance to hoop is 0.60\n",
      "Successful throw, distance to hoop is 0.60\n",
      "Successful throw, distance to hoop is 0.60\n",
      "Successful throw, distance to hoop is 0.60\n",
      "Successful throw, distance to hoop is 0.60\n",
      "Successful throw, distance to hoop is 0.60\n",
      "Successful throw, distance to hoop is 0.34\n",
      "Successful throw, distance to hoop is 0.60\n",
      "Successful throw, distance to hoop is 0.82\n",
      "Successful throw, distance to hoop is 0.60\n",
      "Successful throw, distance to hoop is 0.60\n",
      "Successful throw, distance to hoop is 0.60\n",
      "Successful throw, distance to hoop is 0.60\n",
      "Successful throw, distance to hoop is 0.60\n",
      "Successful throw, distance to hoop is 0.60\n"
     ]
    }
   ],
   "source": [
    "ee_trj_list, ee_pos, ee_speed, reward, score = rbl.test_q_function(q_object, \n",
    "                                                                   env_obj)\n",
    "print(np.sum(score))"
   ]
  },
  {
   "cell_type": "code",
   "execution_count": 28,
   "metadata": {
    "collapsed": false
   },
   "outputs": [
    {
     "name": "stdout",
     "output_type": "stream",
     "text": [
      "1.0\n"
     ]
    }
   ],
   "source": [
    "idx = 7\n",
    "print(score[idx])\n",
    "def two_d_plot(idx, ee_trj_list, ee_speed, env_obj):\n",
    "    ee_trj = np.copy(np.asarray(ee_trj_list[idx]))\n",
    "    speed = np.copy(ee_speed[idx])\n",
    "    print(speed)\n",
    "    plt.scatter(ee_trj[:, 0], ee_trj[:, 2])\n",
    "    tmp_ball = rbl.Ball(ee_trj[-1][:-1], speed, env_obj)\n",
    "    ball_trj = tmp_ball.update()\n",
    "    plt.scatter(ball_trj[:, 0], ball_trj[:, 2])\n",
    "    plt.scatter(env_obj.hoop_position[0], env_obj.hoop_position[2], marker=\"*\")"
   ]
  },
  {
   "cell_type": "code",
   "execution_count": 29,
   "metadata": {
    "collapsed": false
   },
   "outputs": [
    {
     "name": "stdout",
     "output_type": "stream",
     "text": [
      "[ 13.9784001    0.           0.73455242   0.        ]\n"
     ]
    },
    {
     "data": {
      "image/png": "[encoded data removed]",
      "text/plain": [
       "<matplotlib.figure.Figure at 0x7fe9e8ce22d0>"
      ]
     },
     "metadata": {},
     "output_type": "display_data"
    }
   ],
   "source": [
    "two_d_plot(idx, ee_trj_list, ee_speed, env_obj)"
   ]
  },
  {
   "cell_type": "code",
   "execution_count": null,
   "metadata": {
    "collapsed": true
   },
   "outputs": [],
   "source": []
  },
  {
   "cell_type": "code",
   "execution_count": null,
   "metadata": {
    "collapsed": true
   },
   "outputs": [],
   "source": []
  },
  {
   "cell_type": "code",
   "execution_count": null,
   "metadata": {
    "collapsed": true
   },
   "outputs": [],
   "source": []
  },
  {
   "cell_type": "markdown",
   "metadata": {},
   "source": [
    "## test the maximum speed reachable"
   ]
  },
  {
   "cell_type": "code",
   "execution_count": 6,
   "metadata": {
    "collapsed": false
   },
   "outputs": [
    {
     "name": "stdout",
     "output_type": "stream",
     "text": [
      "(array([  1.22464680e-16,   3.00000000e+00,   2.00000000e+00,\n",
      "         1.00000000e+00]), array([ 15. ,   3. ,   0.7]))\n",
      "[ 0.  0.  0.  0.]\n"
     ]
    }
   ],
   "source": [
    "env_name = \"2d\"\n",
    "env_obj = rbl.Env2D()\n",
    "ini_rm = copy.deepcopy(env_obj.ini_rm)\n",
    "ancher = ini_rm.loc_joints()[-3]\n",
    "print(ini_rm.loc_joints()[-1], env_obj.hoop_position)\n",
    "print(ini_rm.cal_ee_speed())"
   ]
  },
  {
   "cell_type": "code",
   "execution_count": 10,
   "metadata": {
    "collapsed": false
   },
   "outputs": [
    {
     "name": "stdout",
     "output_type": "stream",
     "text": [
      "[0 0 0 0 5 0 0]\n"
     ]
    }
   ],
   "source": [
    "action = np.asarray([0, 0, 0, 0, 5, 0, 0])\n",
    "print(action)"
   ]
  },
  {
   "cell_type": "code",
   "execution_count": 11,
   "metadata": {
    "collapsed": false
   },
   "outputs": [],
   "source": [
    "rm = copy.deepcopy(ini_rm)\n",
    "locs = []\n",
    "speeds = []\n",
    "for iii in range(500):\n",
    "    rm.update_rm(action)\n",
    "    locs.append(rm.loc_joints()[-1][[0, 2]])\n",
    "    speeds.append(rm.cal_ee_speed()[[0, 2]])\n",
    "locs = np.asarray(locs)\n",
    "speeds = np.asarray(speeds)"
   ]
  },
  {
   "cell_type": "code",
   "execution_count": 12,
   "metadata": {
    "collapsed": false
   },
   "outputs": [
    {
     "data": {
      "text/plain": [
       "<matplotlib.collections.PathCollection at 0x7f0c22f46790>"
      ]
     },
     "execution_count": 12,
     "metadata": {},
     "output_type": "execute_result"
    },
    {
     "data": {
      "image/png": "[encoded data removed]",
      "text/plain": [
       "<matplotlib.figure.Figure at 0x7f0c5afc8b90>"
      ]
     },
     "metadata": {},
     "output_type": "display_data"
    }
   ],
   "source": [
    "plt.scatter(env_obj.hoop_position[0], env_obj.hoop_position[2], marker=\"o\")\n",
    "plt.scatter(ancher[0], ancher[2], marker=\"*\")\n",
    "plt.scatter(locs[:, 0], locs[:, 1])\n",
    "# plt.plot(locs[:, 0], locs[:, 1])\n",
    "# print(speeds)"
   ]
  },
  {
   "cell_type": "code",
   "execution_count": 14,
   "metadata": {
    "collapsed": false
   },
   "outputs": [
    {
     "data": {
      "text/plain": [
       "<matplotlib.collections.PathCollection at 0x7f0c22e49d90>"
      ]
     },
     "execution_count": 14,
     "metadata": {},
     "output_type": "execute_result"
    },
    {
     "data": {
      "image/png": "[encoded data removed]",
      "text/plain": [
       "<matplotlib.figure.Figure at 0x7f0c22fc2d50>"
      ]
     },
     "metadata": {},
     "output_type": "display_data"
    }
   ],
   "source": [
    "plt.scatter(speeds[:, 0], speeds[:, 1])"
   ]
  },
  {
   "cell_type": "code",
   "execution_count": null,
   "metadata": {
    "collapsed": true
   },
   "outputs": [],
   "source": []
  },
  {
   "cell_type": "code",
   "execution_count": null,
   "metadata": {
    "collapsed": true
   },
   "outputs": [],
   "source": []
  },
  {
   "cell_type": "markdown",
   "metadata": {},
   "source": [
    "### visualization functions"
   ]
  },
  {
   "cell_type": "code",
   "execution_count": null,
   "metadata": {
    "collapsed": true
   },
   "outputs": [],
   "source": [
    "def draw_background():\n",
    "    scene = canvas(background=color.black, up=vector(-1, -1, 0), height=600, center=vector(0, 0, 0))\n",
    "    scene.camera.pos = vector(3.5, 3.5, 10)\n",
    "    scene.camera.axis = vector(-3.5, -3.5, -10)\n",
    "    \n",
    "    # plot the axises\n",
    "    axis_length = 3\n",
    "    x = arrow(pos=vector(0,0,0), axis=vector(axis_length,0,0), shaftwidth=0.1, color=color.red)\n",
    "    text(text='x', pos=vector(axis_length,0,0), axis=vector(axis_length,0,0))\n",
    "    y = arrow(pos=vector(0,0,0), axis=vector(0,axis_length,0), shaftwidth=0.1, color=color.green)\n",
    "    text(text='y', pos=vector(0,axis_length,0), axis=vector(0,axis_length,0))\n",
    "    z = arrow(pos=vector(0,0,0), axis=vector(0,0,-axis_length), shaftwidth=0.1, color=color.blue)\n",
    "    text(text='-z', pos=vector(0,0,-axis_length), axis=vector(0,0,-axis_length))\n",
    "    return(scene)\n",
    "\n",
    "def draw_robotics(joint_locs, objects2delete=[]):\n",
    "    \n",
    "    # delete the old positions\n",
    "    for obj in objects2delete:\n",
    "        obj.visible = False\n",
    "        del obj \n",
    "\n",
    "    # color list\n",
    "    color_list = [color.cyan, color.yellow, color.magenta, color.orange, vector(0.7, 0.2, 0.1),\n",
    "                  vector(0.2, 0.1, 0.7), vector(0.7, 0.7, 0.8)]\n",
    "    \n",
    "    # draw the links\n",
    "    curve_list = [[] for _ in xrange(len(joint_locs))] # container to store the objects that make up the robot\n",
    "    curve_list[0] = curve(pos=[vector(0, 0, 0), vector(*joint_locs[0, :3])], radius=0.5)\n",
    "\n",
    "    for idx in xrange(1, len(joint_locs), 1):\n",
    "        p0 = vector(*joint_locs[idx-1, :3])\n",
    "        p1 = vector(*joint_locs[idx, :3])\n",
    "        curve_list[idx] = curve(pos=[p0, p1], color=color_list[idx])\n",
    "        \n",
    "        \n",
    "    end_effector = box(pos=vector(*joint_locs[-1, :3]), length=0.7, height=0.2, width=0.3)\n",
    "    curve_list.append(end_effector)\n",
    "\n",
    "    return(curve_list)"
   ]
  },
  {
   "cell_type": "code",
   "execution_count": null,
   "metadata": {
    "collapsed": false
   },
   "outputs": [],
   "source": [
    "env_name = \"2d\"\n",
    "env_obj = rbl.Env2D()\n",
    "model_name = env_name + \"_working.h5\"\n",
    "q_object = load_model(model_name)\n",
    "print(env_obj.hoop_size)"
   ]
  },
  {
   "cell_type": "code",
   "execution_count": null,
   "metadata": {
    "collapsed": false
   },
   "outputs": [],
   "source": [
    "new_obj = copy.deepcopy(env_obj)\n",
    "new_obj.hoop_size = 2\n",
    "print(env_obj.hoop_size, new_obj.hoop_size)"
   ]
  },
  {
   "cell_type": "code",
   "execution_count": null,
   "metadata": {
    "collapsed": false
   },
   "outputs": [],
   "source": [
    "# link_lengthes = [1, 3, 1, 1, 1, 1, 1]\n",
    "# initial_angles = [0, 0, 0, 0, -np.pi/4, 0]\n",
    "# initial_angular_velocities = np.zeros(env_obj.num_joints)\n",
    "\n",
    "# initial_rm = rbl.Robotic_Manipulator_Naive(link_lengthes, initial_angles, initial_angular_velocities)"
   ]
  },
  {
   "cell_type": "code",
   "execution_count": null,
   "metadata": {
    "collapsed": false,
    "scrolled": true
   },
   "outputs": [],
   "source": [
    "ee_trj_list, ee_pos, ee_speed, reward, score = rbl.test_q_function(q_object, \n",
    "                                                                   env_obj)"
   ]
  },
  {
   "cell_type": "code",
   "execution_count": null,
   "metadata": {
    "collapsed": false
   },
   "outputs": [],
   "source": [
    "success_idx = np.argmax(reward)\n",
    "ee_pos_success = ee_trj_list[success_idx]"
   ]
  },
  {
   "cell_type": "code",
   "execution_count": null,
   "metadata": {
    "collapsed": false
   },
   "outputs": [],
   "source": [
    "print(ee_speed[success_idx])\n",
    "print(ee_pos_success)"
   ]
  },
  {
   "cell_type": "code",
   "execution_count": null,
   "metadata": {
    "collapsed": false
   },
   "outputs": [],
   "source": []
  },
  {
   "cell_type": "markdown",
   "metadata": {},
   "source": [
    "## test the ball object"
   ]
  },
  {
   "cell_type": "code",
   "execution_count": null,
   "metadata": {
    "collapsed": false
   },
   "outputs": [],
   "source": [
    "env_name = \"2d\"\n",
    "env_obj = rbl.env_dict[env_name]\n",
    "tmp_ball = rbl.Ball([0, 3, 2], [2.5, 0, 10], env_obj)\n",
    "ball_trajectories = tmp_ball.update()"
   ]
  },
  {
   "cell_type": "code",
   "execution_count": null,
   "metadata": {
    "collapsed": false
   },
   "outputs": [],
   "source": [
    "plt.scatter(ball_trajectories[:, 0], ball_trajectories[:, 2])\n",
    "plt.scatter(env_obj.hoop_position[0], env_obj.hoop_position[2], marker=\"*\")\n",
    "plt.show()\n",
    "print(tmp_ball.min_dist_to_hoop)"
   ]
  },
  {
   "cell_type": "code",
   "execution_count": null,
   "metadata": {
    "collapsed": false
   },
   "outputs": [],
   "source": [
    "a = ball_trajectories[:, [0, 2]] - env_obj.hoop_position[[0, 2]]\n",
    "dist = [np.linalg.norm(item, ord=2) for item in a]"
   ]
  },
  {
   "cell_type": "code",
   "execution_count": null,
   "metadata": {
    "collapsed": false
   },
   "outputs": [],
   "source": [
    "plt.plot(dist)"
   ]
  },
  {
   "cell_type": "markdown",
   "metadata": {},
   "source": [
    "## test generate trajectory function"
   ]
  },
  {
   "cell_type": "code",
   "execution_count": null,
   "metadata": {
    "collapsed": false
   },
   "outputs": [],
   "source": [
    "env_name = \"2d\"\n",
    "model_name = env_name + \".h5\"\n",
    "data_name = env_name + \".npz\"\n",
    "env_obj = rbl.env_dict[env_name]\n",
    "\n",
    "# create an initial object\n",
    "link_lengthes = [1, 3, 1, 1, 1, 1, 1]\n",
    "initial_angles = [0, 0, 0, 0, -np.pi/4, 0]\n",
    "initial_angular_velocities = np.zeros(env_obj.num_joints)\n",
    "\n",
    "initial_rm = rbl.Robotic_Manipulator_Naive(link_lengthes, initial_angles, initial_angular_velocities)"
   ]
  },
  {
   "cell_type": "code",
   "execution_count": null,
   "metadata": {
    "collapsed": true
   },
   "outputs": [],
   "source": []
  },
  {
   "cell_type": "code",
   "execution_count": null,
   "metadata": {
    "collapsed": true
   },
   "outputs": [],
   "source": []
  },
  {
   "cell_type": "markdown",
   "metadata": {},
   "source": [
    "## test the end-effector speed calculation"
   ]
  },
  {
   "cell_type": "code",
   "execution_count": null,
   "metadata": {
    "collapsed": true
   },
   "outputs": [],
   "source": [
    "env_name = \"2d\"\n",
    "env_obj = rbl.Env2D()"
   ]
  },
  {
   "cell_type": "code",
   "execution_count": null,
   "metadata": {
    "collapsed": false
   },
   "outputs": [],
   "source": [
    "link_lengthes = [1, 3, 1, 1, 1, 1, 1]\n",
    "initial_angles = [0, 0, 0, 0, 0, 0]\n",
    "initial_angular_velocities = [0, 0, 0, 1, 0, 0]\n",
    "rm = rbl.Robotic_Manipulator_Naive(link_lengthes, initial_angles, initial_angular_velocities)\n",
    "print(rm.loc_joints())\n",
    "print(rm.cal_ee_speed())"
   ]
  },
  {
   "cell_type": "code",
   "execution_count": null,
   "metadata": {
    "collapsed": false
   },
   "outputs": [],
   "source": []
  },
  {
   "cell_type": "code",
   "execution_count": null,
   "metadata": {
    "collapsed": false
   },
   "outputs": [],
   "source": []
  },
  {
   "cell_type": "markdown",
   "metadata": {},
   "source": [
    "## test movements joint-by-joint"
   ]
  },
  {
   "cell_type": "code",
   "execution_count": null,
   "metadata": {
    "collapsed": false
   },
   "outputs": [],
   "source": [
    "max_rotation = np.pi / 2\n",
    "num_steps = 20\n",
    "rotation_angles = np.concatenate((np.linspace(0, max_rotation, num=num_steps), \n",
    "                                np.linspace(max_rotation, 0, num=num_steps),\n",
    "                                np.linspace(0, -max_rotation, num=num_steps),\n",
    "                                np.linspace(-max_rotation, 0, num=num_steps)))\n",
    "num_angles = len(rotation_angles)\n",
    "# draw initial configuration of the robot\n",
    "qs = np.zeros(num_rotations)\n",
    "rm.configure_robots(qs)\n",
    "draw_background()\n",
    "objs2delete = draw_robotics(rm.joint_abs_locations)\n",
    "\n",
    "for idx in xrange(num_rotations):\n",
    "    for idj in xrange(num_angles):\n",
    "        rate(20)\n",
    "        qs[idx] = rotation_angles[idj]\n",
    "        rm.configure_robots(qs)\n",
    "        objs2delete = draw_robotics(rm.joint_abs_locations, objs2delete)"
   ]
  },
  {
   "cell_type": "code",
   "execution_count": null,
   "metadata": {
    "collapsed": true
   },
   "outputs": [],
   "source": []
  }
 ],
 "metadata": {
  "kernelspec": {
   "display_name": "Python 2",
   "language": "python",
   "name": "python2"
  },
  "language_info": {
   "codemirror_mode": {
    "name": "ipython",
    "version": 2
   },
   "file_extension": ".py",
   "mimetype": "text/x-python",
   "name": "python",
   "nbconvert_exporter": "python",
   "pygments_lexer": "ipython2",
   "version": "2.7.14"
  }
 },
 "nbformat": 4,
 "nbformat_minor": 0
}

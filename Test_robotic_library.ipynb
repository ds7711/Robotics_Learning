{
 "cells": [
  {
   "cell_type": "code",
   "execution_count": 1,
   "metadata": {
    "collapsed": false
   },
   "outputs": [
    {
     "data": {
      "application/javascript": [
       "require.undef(\"nbextensions/vpython_libraries/glow.min\");"
      ],
      "text/plain": [
       "<IPython.core.display.Javascript object>"
      ]
     },
     "metadata": {},
     "output_type": "display_data"
    },
    {
     "data": {
      "application/javascript": [
       "require.undef(\"nbextensions/vpython_libraries/glowcomm\");"
      ],
      "text/plain": [
       "<IPython.core.display.Javascript object>"
      ]
     },
     "metadata": {},
     "output_type": "display_data"
    },
    {
     "data": {
      "application/javascript": [
       "require.undef(\"nbextensions/vpython_libraries/jquery-ui.custom.min\");"
      ],
      "text/plain": [
       "<IPython.core.display.Javascript object>"
      ]
     },
     "metadata": {},
     "output_type": "display_data"
    },
    {
     "data": {
      "application/javascript": [
       "require([\"nbextensions/vpython_libraries/glow.min\"], function(){console.log(\"GLOW LOADED\");})"
      ],
      "text/plain": [
       "<IPython.core.display.Javascript object>"
      ]
     },
     "metadata": {},
     "output_type": "display_data"
    },
    {
     "data": {
      "application/javascript": [
       "require([\"nbextensions/vpython_libraries/glowcomm\"], function(){console.log(\"GLOWCOMM LOADED\");})"
      ],
      "text/plain": [
       "<IPython.core.display.Javascript object>"
      ]
     },
     "metadata": {},
     "output_type": "display_data"
    },
    {
     "data": {
      "application/javascript": [
       "require([\"nbextensions/vpython_libraries/jquery-ui.custom.min\"], function(){console.log(\"JQUERY LOADED\");})"
      ],
      "text/plain": [
       "<IPython.core.display.Javascript object>"
      ]
     },
     "metadata": {},
     "output_type": "display_data"
    },
    {
     "data": {
      "text/html": [
       "<div id=\"glowscript\" class=\"glowscript\"></div>"
      ],
      "text/plain": [
       "<IPython.core.display.HTML object>"
      ]
     },
     "metadata": {},
     "output_type": "display_data"
    },
    {
     "data": {
      "application/javascript": [
       "window.__context = { glowscript_container: $(\"#glowscript\").removeAttr(\"id\")}"
      ],
      "text/plain": [
       "<IPython.core.display.Javascript object>"
      ]
     },
     "metadata": {},
     "output_type": "display_data"
    },
    {
     "name": "stderr",
     "output_type": "stream",
     "text": [
      "Using TensorFlow backend.\n"
     ]
    }
   ],
   "source": [
    "# import libraries\n",
    "from vpython import *\n",
    "import numpy as np\n",
    "import robotics_library as rbl\n",
    "import matplotlib.pylab as plt\n",
    "%matplotlib inline\n",
    "from keras.models import load_model\n",
    "import copy"
   ]
  },
  {
   "cell_type": "markdown",
   "metadata": {},
   "source": [
    "### visualization functions"
   ]
  },
  {
   "cell_type": "code",
   "execution_count": 2,
   "metadata": {
    "collapsed": true
   },
   "outputs": [],
   "source": [
    "def draw_background():\n",
    "    scene = canvas(background=color.black, up=vector(-1, -1, 0), height=600, center=vector(0, 0, 0))\n",
    "    scene.camera.pos = vector(3.5, 3.5, 10)\n",
    "    scene.camera.axis = vector(-3.5, -3.5, -10)\n",
    "    \n",
    "    # plot the axises\n",
    "    axis_length = 3\n",
    "    x = arrow(pos=vector(0,0,0), axis=vector(axis_length,0,0), shaftwidth=0.1, color=color.red)\n",
    "    text(text='x', pos=vector(axis_length,0,0), axis=vector(axis_length,0,0))\n",
    "    y = arrow(pos=vector(0,0,0), axis=vector(0,axis_length,0), shaftwidth=0.1, color=color.green)\n",
    "    text(text='y', pos=vector(0,axis_length,0), axis=vector(0,axis_length,0))\n",
    "    z = arrow(pos=vector(0,0,0), axis=vector(0,0,-axis_length), shaftwidth=0.1, color=color.blue)\n",
    "    text(text='-z', pos=vector(0,0,-axis_length), axis=vector(0,0,-axis_length))\n",
    "    return(scene)\n",
    "\n",
    "def draw_robotics(joint_locs, objects2delete=[]):\n",
    "    \n",
    "    # delete the old positions\n",
    "    for obj in objects2delete:\n",
    "        obj.visible = False\n",
    "        del obj \n",
    "\n",
    "    # color list\n",
    "    color_list = [color.cyan, color.yellow, color.magenta, color.orange, vector(0.7, 0.2, 0.1),\n",
    "                  vector(0.2, 0.1, 0.7), vector(0.7, 0.7, 0.8)]\n",
    "    \n",
    "    # draw the links\n",
    "    curve_list = [[] for _ in xrange(len(joint_locs))] # container to store the objects that make up the robot\n",
    "    curve_list[0] = curve(pos=[vector(0, 0, 0), vector(*joint_locs[0, :3])], radius=0.5)\n",
    "\n",
    "    for idx in xrange(1, len(joint_locs), 1):\n",
    "        p0 = vector(*joint_locs[idx-1, :3])\n",
    "        p1 = vector(*joint_locs[idx, :3])\n",
    "        curve_list[idx] = curve(pos=[p0, p1], color=color_list[idx])\n",
    "        \n",
    "        \n",
    "    end_effector = box(pos=vector(*joint_locs[-1, :3]), length=0.7, height=0.2, width=0.3)\n",
    "    curve_list.append(end_effector)\n",
    "\n",
    "    return(curve_list)"
   ]
  },
  {
   "cell_type": "code",
   "execution_count": 4,
   "metadata": {
    "collapsed": false
   },
   "outputs": [
    {
     "name": "stdout",
     "output_type": "stream",
     "text": [
      "4\n"
     ]
    }
   ],
   "source": [
    "env_name = \"2d\"\n",
    "env_obj = rbl.Env2D()\n",
    "model_name = env_name + \"_working.h5\"\n",
    "q_object = load_model(model_name)\n",
    "print(env_obj.hoop_size)"
   ]
  },
  {
   "cell_type": "code",
   "execution_count": 5,
   "metadata": {
    "collapsed": false
   },
   "outputs": [
    {
     "name": "stdout",
     "output_type": "stream",
     "text": [
      "(4, 2)\n"
     ]
    }
   ],
   "source": [
    "new_obj = copy.deepcopy(env_obj)\n",
    "new_obj.hoop_size = 2\n",
    "print(env_obj.hoop_size, new_obj.hoop_size)"
   ]
  },
  {
   "cell_type": "code",
   "execution_count": 8,
   "metadata": {
    "collapsed": false
   },
   "outputs": [],
   "source": [
    "# link_lengthes = [1, 3, 1, 1, 1, 1, 1]\n",
    "# initial_angles = [0, 0, 0, 0, -np.pi/4, 0]\n",
    "# initial_angular_velocities = np.zeros(env_obj.num_joints)\n",
    "\n",
    "# initial_rm = rbl.Robotic_Manipulator_Naive(link_lengthes, initial_angles, initial_angular_velocities)"
   ]
  },
  {
   "cell_type": "code",
   "execution_count": 9,
   "metadata": {
    "collapsed": false,
    "scrolled": true
   },
   "outputs": [
    {
     "name": "stdout",
     "output_type": "stream",
     "text": [
      "('Successful throw!!!', 0.74157756457690016)\n",
      "()\n",
      "('Successful throw!!!', 0.12326510362741784)\n",
      "()\n",
      "('Successful throw!!!', 0.29827204382440575)\n",
      "()\n",
      "('Successful throw!!!', 0.53334825973066158)\n",
      "()\n",
      "('Successful throw!!!', 0.72651157964132362)\n",
      "()\n",
      "('Successful throw!!!', 0.56301079572873336)\n",
      "()\n",
      "('Successful throw!!!', 0.7140648254496067)\n",
      "()\n",
      "('Successful throw!!!', 0.77547369135250765)\n",
      "()\n",
      "('Successful throw!!!', 0.75261960873215206)\n",
      "()\n",
      "('Successful throw!!!', 0.80188560603538162)\n",
      "()\n",
      "('Successful throw!!!', 0.29940879444282442)\n",
      "()\n",
      "('Successful throw!!!', 0.34685812663885912)\n",
      "()\n",
      "('Successful throw!!!', 0.36215241952045274)\n",
      "()\n",
      "('Successful throw!!!', 0.066969588138398123)\n",
      "()\n",
      "('Successful throw!!!', 0.7657164709397325)\n",
      "()\n"
     ]
    }
   ],
   "source": [
    "ee_trj_list, ee_pos, ee_speed, reward, score = rbl.test_q_function(q_object, \n",
    "                                                                   env_obj)"
   ]
  },
  {
   "cell_type": "code",
   "execution_count": 16,
   "metadata": {
    "collapsed": false
   },
   "outputs": [
    {
     "name": "stdout",
     "output_type": "stream",
     "text": [
      "[(0.0, array([ 40.43186551,  12.09932151,   1.03913257,   0.        ])), (0.0, array([ 49.60390764,   2.51730972,  -0.14936867,   0.        ])), (0.0, array([ 13.37620425,   4.45408062,  -0.02792515,   0.        ])), (0.0, array([ 48.64799512,  -7.69600906,  -1.55121203,   0.        ])), (1.0, array([ 10.21017612,   0.        ,   0.        ,   0.        ])), (0.0, array([ 26.71401174,   4.45233529,   0.        ,   0.        ])), (0.0, array([ 10.47545702,   3.66868239,   1.06115556,   0.        ])), (0.0, array([ 38.50545714,   8.50147872,   0.        ,   0.        ])), (0.0, array([ 44.41847577, -16.74562141,   2.07926518,   0.        ])), (1.0, array([ 37.68861811,   0.04188791,   0.05235988,   0.        ])), (0.0, array([ 14.579444  ,  -3.78042159,   3.5379787 ,   0.        ])), (0.0, array([ 3.19796955, -0.63141125, -0.17065178,  0.        ])), (1.0, array([ 8.64985177,  0.        ,  0.        ,  0.        ])), (0.0, array([ 48.62239836, -23.90057314,  -2.00602661,   0.        ])), (0.0, array([ 19.74199149,  13.02460098,  -0.60398693,   0.        ])), (0.0, array([ 78.20408001,   6.76929366,  -4.36902623,   0.        ])), (0.0, array([ 53.25603745,  16.25994583,  -2.24938964,   0.        ])), (0.0, array([ 52.28442648,   8.33478982,  -1.0294296 ,   0.        ])), (0.0, array([ 2.35619449,  0.        ,  0.05235988,  0.        ])), (1.0, array([ 19.27286404,  -2.18137016,   1.24789641,   0.        ])), (0.0, array([ 16.61023922,   6.80277434,  -0.20192821,   0.        ])), (0.0, array([ 0.78539823, -0.1308997 ,  0.        ,  0.        ])), (0.0, array([ 6.28267919, -1.21739376, -0.01967207,  0.        ])), (0.0, array([ 12.85815292,  -2.03514499,   1.39196618,   0.        ])), (0.0, array([ 3.14159263,  0.        , -1.25663717,  0.        ])), (0.0, array([  6.20551844e+01,  -1.79208436e+01,  -2.04776325e-02,\n",
      "         0.00000000e+00])), (1.0, array([ 7.85398649,  0.        ,  1.36135693,  0.        ])), (0.0, array([ 0.90045807,  0.55079486,  2.03752405,  0.        ])), (0.0, array([ 50.78885291,  16.75516221,  -1.04708138,   0.        ])), (0.0, array([ 30.14513611,   9.23572503,  -0.96973502,   0.        ])), (1.0, array([ 11.51218722,   1.033235  ,   1.29154375,   0.        ])), (0.0, array([ 66.86367642,   0.26010077,  -2.8687244 ,   0.        ])), (0.0, array([ 27.52035425,   0.        ,  -0.10471976,   0.        ])), (0.0, array([ 5.04400017,  1.83259587,  0.90757129,  0.        ])), (0.0, array([ 13.54156225,   2.84241053,   1.26789949,   0.        ])), (0.0, array([ 25.96133077,  -2.21697962,   3.43686191,   0.        ])), (1.0, array([ 70.66769759,  -7.83037741,  -0.0845419 ,   0.        ])), (0.0, array([ 70.1382318 , -31.97933704,   1.45177386,   0.        ])), (0.0, array([ 22.17657612, -10.6181328 ,   4.08941715,   0.        ])), (1.0, array([ 11.86125717,   0.09773845,   0.12217306,   0.        ])), (0.0, array([ 3.19918882,  0.87009093, -0.12987288,  0.        ])), (0.0, array([ 24.35365976,  -6.76669343,   0.08149515,   0.        ])), (0.0, array([ 21.70953666,   7.26609667,  -0.97715618,   0.        ])), (0.0, array([ 9.97663398, -3.48731292,  3.64244575,  0.        ])), (0.0, array([ 36.46922842,  17.20787048,  -2.17686845,   0.        ])), (1.0, array([ 11.84729429,   0.15358899,   0.19198623,   0.        ])), (0.0, array([ 40.05530965,  11.5629956 ,   0.        ,   0.        ])), (0.0, array([ 3.48193248,  0.50046448, -1.22657716,  0.        ])), (0.0, array([ 3.90255653, -1.27758112,  0.04188791,  0.        ])), (1.0, array([ 15.26197575,  -0.5369089 ,  -1.32812452,   0.        ])), (0.0, array([ 1.53588987, -0.2792527 ,  0.41887906,  0.        ])), (0.0, array([ 30.45248118,  -3.70264322,   0.42395485,   0.        ])), (0.0, array([ 38.5101307 , -17.73333427,  -0.10135901,   0.        ])), (0.0, array([ 16.75442061,  -5.26135346,   1.74501936,   0.        ])), (0.0, array([ 16.95427907,   4.01253454,   1.10466822,   0.        ])), (0.0, array([  6.27398018e+01,   1.96335626e+01,  -5.66867610e-02,\n",
      "         0.00000000e+00])), (0.0, array([ 66.20219578, -28.72774443,  -1.96030199,   0.        ])), (0.0, array([-0.48869224, -1.18682399, -1.48352999,  0.        ])), (1.0, array([ 37.94053309,  -1.08908554,  -1.36135693,   0.        ])), (0.0, array([ 14.13716811,   4.71238937,   0.        ,   0.        ])), (0.0, array([ 26.18600645,   3.89891667,  -1.0514919 ,   0.        ])), (0.0, array([ 2.35619469, -0.78539823,  0.        ,  0.        ])), (0.0, array([ 30.4813691 , -10.1529283 ,   3.10227245,   0.        ])), (0.0, array([ 60.14059992, -12.96329047,   3.43388381,   0.        ])), (0.0, array([ 46.76925449,  13.09943069,   1.05321798,   0.        ])), (0.0, array([ 28.16964232,   0.        ,  -1.13446411,   0.        ])), (0.0, array([ 21.17433318,   0.        ,   0.05235988,   0.        ])), (0.0, array([ 74.00351665,  34.38269551,   0.4586082 ,   0.        ])), (0.0, array([ 6.26573176, -0.05585054, -0.06981318,  0.        ])), (0.0, array([ 49.76095291,  17.16113686,   0.87704484,   0.        ])), (0.0, array([  2.74889362e+01,   0.00000000e+00,  -1.74532940e-02,\n",
      "         0.00000000e+00])), (0.0, array([ 80.52908078,  31.26470156,  -0.21383034,   0.        ])), (0.0, array([ 25.90068998,   8.62890854,  -0.02792614,   0.        ])), (0.0, array([ 46.76542804, -11.3272332 ,   2.83698105,   0.        ])), (0.0, array([ 0.02094395,  0.04188791,  0.05235988,  0.        ])), (0.0, array([ 33.76165184,   9.74616936,   0.        ,   0.        ])), (0.0, array([ 0.77492625, -0.12915438,  0.        ,  0.        ])), (0.0, array([ 20.86924244,  -7.58973924,  -1.84037012,   0.        ])), (0.0, array([ 2.10486725, -1.53938053, -1.5079646 ,  0.        ])), (0.0, array([  4.00649712e+01,   1.82458619e+01,  -1.09421566e-02,\n",
      "         0.00000000e+00])), (0.0, array([  2.90497296e+01,   4.84073372e+00,   1.57081816e-02,\n",
      "         0.00000000e+00])), (0.0, array([ 9.37919183, -1.21605023,  1.37153481,  0.        ])), (0.0, array([ 10.78750668,   3.31930307,  -2.49373166,   0.        ])), (0.0, array([ 6.28318583, -1.81380323,  0.        ,  0.        ])), (0.0, array([ 49.42032845,  -1.38772013,  -1.52333646,   0.        ])), (0.0, array([  2.82638615e+01,   0.00000000e+00,   1.74532940e-02,\n",
      "         0.00000000e+00])), (0.0, array([ 2.35619449,  0.        , -0.01745329,  0.        ])), (1.0, array([ 27.34025278,   0.63360731,  -1.67577138,   0.        ])), (0.0, array([ 2.33483133,  0.71419022, -0.07654529,  0.        ])), (0.0, array([ 1.64060963, -0.66322517, -0.20943953,  0.        ])), (0.0, array([ 32.79481315, -11.92059978,  -1.78020041,   0.        ])), (0.0, array([ 29.28778016, -19.40256325,  -2.10327145,   0.        ])), (1.0, array([ 37.66773612,   2.24759412,   0.16537775,   0.        ])), (0.0, array([ 1.64410029, -0.65275319, -0.18849557,  0.        ])), (0.0, array([ 56.93421131,   6.70802906,   0.76765474,   0.        ])), (0.0, array([  4.23905540e+01,   1.41371681e+01,   4.18832550e-02,\n",
      "         0.00000000e+00])), (1.0, array([ 49.42426632,   0.09773845,   0.12217306,   0.        ])), (1.0, array([ 11.75304651,   0.15358899,   0.19198623,   0.        ])), (0.0, array([ 1.04370698,  0.51312684,  1.5498525 ,  0.        ])), (0.0, array([ 21.50294588,   4.7646464 ,  -0.18434083,   0.        ]))]\n"
     ]
    }
   ],
   "source": [
    "print(zip(score, ee_speed))"
   ]
  },
  {
   "cell_type": "code",
   "execution_count": 8,
   "metadata": {
    "collapsed": false
   },
   "outputs": [
    {
     "name": "stdout",
     "output_type": "stream",
     "text": [
      "[0, 0, 0, 0, 0, 0, 0, 0, 0, 0, 0, 0, 0, 0, 0, 0, 0, 0, 0, 0, 0, 0, 0, 0, 0, 0, 0, 0, 0, 0, 0, 0, 0, 0, 0, 0, 0, 0, 0, 0, 0, 0, 0, 0, 0, 0, 0, 0, 0, 0, 0, 0, 0, 0, 0, 0, 0, 0, 0, 0, 0, 0, 0, 0, 0, 0, 0, 0, 0, 0, 0, 0, 0, 0, 0, 0, 0, 0, 0, 0, 0, 0, 0, 0, 0, 0, 0, 0, 0, 0, 0, 0, 0, 0, 0, 0, 0, 0, 0, 0]\n",
      "[0.0, 0.0, 0.0, 0.0, 0.0, 0.0, 0.0, 0.0, 0.0, 0.0, 0.0, 0.0, 0.0, 0.0, 0.0, 0.0, 0.0, 0.0, 0.0, 0.0, 0.0, 0.0, 0.0, 0.0, 0.0, 0.0, 0.0, 0.0, 0.0, 0.0, 0.0, 0.0, 0.0, 0.0, 0.0, 0.0, 0.0, 0.0, 0.0, 0.0, 0.0, 0.0, 0.0, 0.0, 0.0, 0.0, 0.0, 0.0, 0.0, 0.0, 0.0, 0.0, 0.0, 0.0, 0.0, 0.0, 0.0, 0.0, 0.0, 0.0, 0.0, 0.0, 0.0, 0.0, 0.0, 0.0, 0.0, 0.0, 0.0, 0.0, 0.0, 0.0, 0.0, 0.0, 0.0, 0.0, 0.0, 0.0, 0.0, 0.0, 0.0, 0.0, 0.0, 0.0, 0.0, 0.0, 0.0, 0.0, 0.0, 0.0, 0.0, 0.0, 0.0, 0.0, 0.0, 0.0, 0.0, 0.0, 0.0, 0.0]\n"
     ]
    }
   ],
   "source": [
    "print(reward)\n",
    "print(score)"
   ]
  },
  {
   "cell_type": "code",
   "execution_count": 11,
   "metadata": {
    "collapsed": false
   },
   "outputs": [
    {
     "data": {
      "text/plain": [
       "1.2039728043259361"
      ]
     },
     "execution_count": 11,
     "metadata": {},
     "output_type": "execute_result"
    }
   ],
   "source": []
  },
  {
   "cell_type": "markdown",
   "metadata": {},
   "source": [
    "## test the ball object"
   ]
  },
  {
   "cell_type": "code",
   "execution_count": 36,
   "metadata": {
    "collapsed": false
   },
   "outputs": [],
   "source": [
    "env_name = \"2d\"\n",
    "env_obj = rbl.env_dict[env_name]\n",
    "tmp_ball = rbl.Ball([0, 3, 2], [2.5, 0, 10], env_obj)\n",
    "ball_trajectories = tmp_ball.update()"
   ]
  },
  {
   "cell_type": "code",
   "execution_count": 37,
   "metadata": {
    "collapsed": false
   },
   "outputs": [
    {
     "data": {
      "image/png": "[encoded data removed]",
      "text/plain": [
       "<matplotlib.figure.Figure at 0x7f1696f94c50>"
      ]
     },
     "metadata": {},
     "output_type": "display_data"
    },
    {
     "name": "stdout",
     "output_type": "stream",
     "text": [
      "0.025\n"
     ]
    }
   ],
   "source": [
    "plt.scatter(ball_trajectories[:, 0], ball_trajectories[:, 2])\n",
    "plt.scatter(env_obj.hoop_position[0], env_obj.hoop_position[2], marker=\"*\")\n",
    "plt.show()\n",
    "print(tmp_ball.min_dist_to_hoop)"
   ]
  },
  {
   "cell_type": "code",
   "execution_count": 38,
   "metadata": {
    "collapsed": false
   },
   "outputs": [],
   "source": [
    "a = ball_trajectories[:, [0, 2]] - env_obj.hoop_position[[0, 2]]\n",
    "dist = [np.linalg.norm(item, ord=2) for item in a]"
   ]
  },
  {
   "cell_type": "code",
   "execution_count": 39,
   "metadata": {
    "collapsed": false
   },
   "outputs": [
    {
     "data": {
      "text/plain": [
       "[<matplotlib.lines.Line2D at 0x7f1697405910>]"
      ]
     },
     "execution_count": 39,
     "metadata": {},
     "output_type": "execute_result"
    },
    {
     "data": {
      "image/png": "[encoded data removed]",
      "text/plain": [
       "<matplotlib.figure.Figure at 0x7f1697021450>"
      ]
     },
     "metadata": {},
     "output_type": "display_data"
    }
   ],
   "source": [
    "plt.plot(dist)"
   ]
  },
  {
   "cell_type": "markdown",
   "metadata": {},
   "source": [
    "## test generate trajectory function"
   ]
  },
  {
   "cell_type": "code",
   "execution_count": 41,
   "metadata": {
    "collapsed": true
   },
   "outputs": [],
   "source": [
    "env_name = \"2d\"\n",
    "model_name = env_name + \".h5\"\n",
    "data_name = env_name + \".npz\"\n",
    "env_obj = rbl.env_dict[env_name]\n",
    "\n",
    "# create an initial object\n",
    "link_lengthes = [1, 3, 1, 1, 1, 1, 1]\n",
    "initial_angles = [0, 0, 0, 0, -np.pi/4, 0]\n",
    "initial_angular_velocities = np.zeros(env_obj.num_joints)\n",
    "\n",
    "initial_rm = rbl.Robotic_Manipulator_Naive(link_lengthes, initial_angles, initial_angular_velocities)"
   ]
  },
  {
   "cell_type": "code",
   "execution_count": null,
   "metadata": {
    "collapsed": true
   },
   "outputs": [],
   "source": []
  },
  {
   "cell_type": "code",
   "execution_count": null,
   "metadata": {
    "collapsed": true
   },
   "outputs": [],
   "source": []
  },
  {
   "cell_type": "markdown",
   "metadata": {},
   "source": [
    "## test the end-effector speed calculation"
   ]
  },
  {
   "cell_type": "code",
   "execution_count": 40,
   "metadata": {
    "collapsed": true
   },
   "outputs": [],
   "source": [
    "env_name = \"2d\"\n",
    "env_obj = rbl.env_dict[env_name]"
   ]
  },
  {
   "cell_type": "code",
   "execution_count": 18,
   "metadata": {
    "collapsed": false
   },
   "outputs": [],
   "source": [
    "link_lengthes = [1, 3, 1, 1, 1, 1, 1]\n",
    "initial_angles = [0, 0, 0, 0, -np.pi/2, 0]\n",
    "num_rotations = len(initial_angular_velocities)\n",
    "initial_angular_velocities = np.zeros(env_obj.num_joints)\n",
    "rm = rbl.Robotic_Manipulator_Naive(link_lengthes, initial_angles, initial_angular_velocities)"
   ]
  },
  {
   "cell_type": "markdown",
   "metadata": {},
   "source": [
    "## test movements joint-by-joint"
   ]
  },
  {
   "cell_type": "code",
   "execution_count": 14,
   "metadata": {
    "collapsed": false
   },
   "outputs": [
    {
     "data": {
      "text/html": [
       "<div id=\"glowscript\" class=\"glowscript\"></div>"
      ],
      "text/plain": [
       "<IPython.core.display.HTML object>"
      ]
     },
     "metadata": {},
     "output_type": "display_data"
    },
    {
     "data": {
      "application/javascript": [
       "window.__context = { glowscript_container: $(\"#glowscript\").removeAttr(\"id\")}"
      ],
      "text/plain": [
       "<IPython.core.display.Javascript object>"
      ]
     },
     "metadata": {},
     "output_type": "display_data"
    }
   ],
   "source": [
    "max_rotation = np.pi / 2\n",
    "num_steps = 20\n",
    "rotation_angles = np.concatenate((np.linspace(0, max_rotation, num=num_steps), \n",
    "                                np.linspace(max_rotation, 0, num=num_steps),\n",
    "                                np.linspace(0, -max_rotation, num=num_steps),\n",
    "                                np.linspace(-max_rotation, 0, num=num_steps)))\n",
    "num_angles = len(rotation_angles)\n",
    "# draw initial configuration of the robot\n",
    "qs = np.zeros(num_rotations)\n",
    "rm.configure_robots(qs)\n",
    "draw_background()\n",
    "objs2delete = draw_robotics(rm.joint_abs_locations)\n",
    "\n",
    "for idx in xrange(num_rotations):\n",
    "    for idj in xrange(num_angles):\n",
    "        rate(20)\n",
    "        qs[idx] = rotation_angles[idj]\n",
    "        rm.configure_robots(qs)\n",
    "        objs2delete = draw_robotics(rm.joint_abs_locations, objs2delete)"
   ]
  },
  {
   "cell_type": "code",
   "execution_count": null,
   "metadata": {
    "collapsed": true
   },
   "outputs": [],
   "source": []
  }
 ],
 "metadata": {
  "kernelspec": {
   "display_name": "Python 2",
   "language": "python",
   "name": "python2"
  },
  "language_info": {
   "codemirror_mode": {
    "name": "ipython",
    "version": 2
   },
   "file_extension": ".py",
   "mimetype": "text/x-python",
   "name": "python",
   "nbconvert_exporter": "python",
   "pygments_lexer": "ipython2",
   "version": "2.7.14"
  }
 },
 "nbformat": 4,
 "nbformat_minor": 0
}

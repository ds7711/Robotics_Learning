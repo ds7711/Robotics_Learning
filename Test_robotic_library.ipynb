{
 "cells": [
  {
   "cell_type": "code",
   "execution_count": 1,
   "metadata": {
    "collapsed": false
   },
   "outputs": [
    {
     "data": {
      "application/javascript": [
       "require.undef(\"nbextensions/vpython_libraries/glow.min\");"
      ],
      "text/plain": [
       "<IPython.core.display.Javascript object>"
      ]
     },
     "metadata": {},
     "output_type": "display_data"
    },
    {
     "data": {
      "application/javascript": [
       "require.undef(\"nbextensions/vpython_libraries/glowcomm\");"
      ],
      "text/plain": [
       "<IPython.core.display.Javascript object>"
      ]
     },
     "metadata": {},
     "output_type": "display_data"
    },
    {
     "data": {
      "application/javascript": [
       "require.undef(\"nbextensions/vpython_libraries/jquery-ui.custom.min\");"
      ],
      "text/plain": [
       "<IPython.core.display.Javascript object>"
      ]
     },
     "metadata": {},
     "output_type": "display_data"
    },
    {
     "data": {
      "application/javascript": [
       "require([\"nbextensions/vpython_libraries/glow.min\"], function(){console.log(\"GLOW LOADED\");})"
      ],
      "text/plain": [
       "<IPython.core.display.Javascript object>"
      ]
     },
     "metadata": {},
     "output_type": "display_data"
    },
    {
     "data": {
      "application/javascript": [
       "require([\"nbextensions/vpython_libraries/glowcomm\"], function(){console.log(\"GLOWCOMM LOADED\");})"
      ],
      "text/plain": [
       "<IPython.core.display.Javascript object>"
      ]
     },
     "metadata": {},
     "output_type": "display_data"
    },
    {
     "data": {
      "application/javascript": [
       "require([\"nbextensions/vpython_libraries/jquery-ui.custom.min\"], function(){console.log(\"JQUERY LOADED\");})"
      ],
      "text/plain": [
       "<IPython.core.display.Javascript object>"
      ]
     },
     "metadata": {},
     "output_type": "display_data"
    },
    {
     "data": {
      "text/html": [
       "<div id=\"glowscript\" class=\"glowscript\"></div>"
      ],
      "text/plain": [
       "<IPython.core.display.HTML object>"
      ]
     },
     "metadata": {},
     "output_type": "display_data"
    },
    {
     "data": {
      "application/javascript": [
       "window.__context = { glowscript_container: $(\"#glowscript\").removeAttr(\"id\")}"
      ],
      "text/plain": [
       "<IPython.core.display.Javascript object>"
      ]
     },
     "metadata": {},
     "output_type": "display_data"
    },
    {
     "name": "stderr",
     "output_type": "stream",
     "text": [
      "Using TensorFlow backend.\n"
     ]
    }
   ],
   "source": [
    "# import libraries\n",
    "from vpython import *\n",
    "import numpy as np\n",
    "import robotics_library as rbl\n",
    "import matplotlib.pylab as plt\n",
    "%matplotlib inline\n",
    "from keras.models import load_model\n",
    "import copy"
   ]
  },
  {
   "cell_type": "markdown",
   "metadata": {},
   "source": [
    "### visualization functions"
   ]
  },
  {
   "cell_type": "code",
   "execution_count": 10,
   "metadata": {
    "collapsed": true
   },
   "outputs": [],
   "source": [
    "def draw_background():\n",
    "    scene = canvas(background=color.black, up=vector(-1, -1, 0), height=600, center=vector(0, 0, 0))\n",
    "    scene.camera.pos = vector(3.5, 3.5, 10)\n",
    "    scene.camera.axis = vector(-3.5, -3.5, -10)\n",
    "    \n",
    "    # plot the axises\n",
    "    axis_length = 3\n",
    "    x = arrow(pos=vector(0,0,0), axis=vector(axis_length,0,0), shaftwidth=0.1, color=color.red)\n",
    "    text(text='x', pos=vector(axis_length,0,0), axis=vector(axis_length,0,0))\n",
    "    y = arrow(pos=vector(0,0,0), axis=vector(0,axis_length,0), shaftwidth=0.1, color=color.green)\n",
    "    text(text='y', pos=vector(0,axis_length,0), axis=vector(0,axis_length,0))\n",
    "    z = arrow(pos=vector(0,0,0), axis=vector(0,0,-axis_length), shaftwidth=0.1, color=color.blue)\n",
    "    text(text='-z', pos=vector(0,0,-axis_length), axis=vector(0,0,-axis_length))\n",
    "    return(scene)\n",
    "\n",
    "def draw_robotics(joint_locs, objects2delete=[]):\n",
    "    \n",
    "    # delete the old positions\n",
    "    for obj in objects2delete:\n",
    "        obj.visible = False\n",
    "        del obj \n",
    "\n",
    "    # color list\n",
    "    color_list = [color.cyan, color.yellow, color.magenta, color.orange, vector(0.7, 0.2, 0.1),\n",
    "                  vector(0.2, 0.1, 0.7), vector(0.7, 0.7, 0.8)]\n",
    "    \n",
    "    # draw the links\n",
    "    curve_list = [[] for _ in xrange(len(joint_locs))] # container to store the objects that make up the robot\n",
    "    curve_list[0] = curve(pos=[vector(0, 0, 0), vector(*joint_locs[0, :3])], radius=0.5)\n",
    "\n",
    "    for idx in xrange(1, len(joint_locs), 1):\n",
    "        p0 = vector(*joint_locs[idx-1, :3])\n",
    "        p1 = vector(*joint_locs[idx, :3])\n",
    "        curve_list[idx] = curve(pos=[p0, p1], color=color_list[idx])\n",
    "        \n",
    "        \n",
    "    end_effector = box(pos=vector(*joint_locs[-1, :3]), length=0.7, height=0.2, width=0.3)\n",
    "    curve_list.append(end_effector)\n",
    "\n",
    "    return(curve_list)"
   ]
  },
  {
   "cell_type": "code",
   "execution_count": 11,
   "metadata": {
    "collapsed": false
   },
   "outputs": [
    {
     "name": "stdout",
     "output_type": "stream",
     "text": [
      "4\n"
     ]
    }
   ],
   "source": [
    "env_name = \"2d\"\n",
    "env_obj = rbl.Env2D()\n",
    "model_name = env_name + \"_working.h5\"\n",
    "q_object = load_model(model_name)\n",
    "print(env_obj.hoop_size)"
   ]
  },
  {
   "cell_type": "code",
   "execution_count": 12,
   "metadata": {
    "collapsed": false
   },
   "outputs": [
    {
     "name": "stdout",
     "output_type": "stream",
     "text": [
      "(4, 2)\n"
     ]
    }
   ],
   "source": [
    "new_obj = copy.deepcopy(env_obj)\n",
    "new_obj.hoop_size = 2\n",
    "print(env_obj.hoop_size, new_obj.hoop_size)"
   ]
  },
  {
   "cell_type": "code",
   "execution_count": 13,
   "metadata": {
    "collapsed": false
   },
   "outputs": [],
   "source": [
    "# link_lengthes = [1, 3, 1, 1, 1, 1, 1]\n",
    "# initial_angles = [0, 0, 0, 0, -np.pi/4, 0]\n",
    "# initial_angular_velocities = np.zeros(env_obj.num_joints)\n",
    "\n",
    "# initial_rm = rbl.Robotic_Manipulator_Naive(link_lengthes, initial_angles, initial_angular_velocities)"
   ]
  },
  {
   "cell_type": "code",
   "execution_count": 14,
   "metadata": {
    "collapsed": false,
    "scrolled": true
   },
   "outputs": [
    {
     "name": "stdout",
     "output_type": "stream",
     "text": [
      "('Successful throw!!!', 0.34476169182121075)\n",
      "()\n",
      "('Successful throw!!!', 0.5514298120673452)\n",
      "()\n",
      "('Successful throw!!!', 0.81926129854810903)\n",
      "()\n",
      "('Successful throw!!!', 0.60792273826094678)\n",
      "()\n"
     ]
    }
   ],
   "source": [
    "ee_trj_list, ee_pos, ee_speed, reward, score = rbl.test_q_function(q_object, \n",
    "                                                                   env_obj)"
   ]
  },
  {
   "cell_type": "code",
   "execution_count": null,
   "metadata": {
    "collapsed": false
   },
   "outputs": [],
   "source": [
    "print(reward)\n",
    "print(score)"
   ]
  },
  {
   "cell_type": "code",
   "execution_count": null,
   "metadata": {
    "collapsed": false
   },
   "outputs": [],
   "source": []
  },
  {
   "cell_type": "markdown",
   "metadata": {},
   "source": [
    "## test the ball object"
   ]
  },
  {
   "cell_type": "code",
   "execution_count": null,
   "metadata": {
    "collapsed": false
   },
   "outputs": [],
   "source": [
    "env_name = \"2d\"\n",
    "env_obj = rbl.env_dict[env_name]\n",
    "tmp_ball = rbl.Ball([0, 3, 2], [2.5, 0, 10], env_obj)\n",
    "ball_trajectories = tmp_ball.update()"
   ]
  },
  {
   "cell_type": "code",
   "execution_count": null,
   "metadata": {
    "collapsed": false
   },
   "outputs": [],
   "source": [
    "plt.scatter(ball_trajectories[:, 0], ball_trajectories[:, 2])\n",
    "plt.scatter(env_obj.hoop_position[0], env_obj.hoop_position[2], marker=\"*\")\n",
    "plt.show()\n",
    "print(tmp_ball.min_dist_to_hoop)"
   ]
  },
  {
   "cell_type": "code",
   "execution_count": null,
   "metadata": {
    "collapsed": false
   },
   "outputs": [],
   "source": [
    "a = ball_trajectories[:, [0, 2]] - env_obj.hoop_position[[0, 2]]\n",
    "dist = [np.linalg.norm(item, ord=2) for item in a]"
   ]
  },
  {
   "cell_type": "code",
   "execution_count": null,
   "metadata": {
    "collapsed": false
   },
   "outputs": [],
   "source": [
    "plt.plot(dist)"
   ]
  },
  {
   "cell_type": "markdown",
   "metadata": {},
   "source": [
    "## test generate trajectory function"
   ]
  },
  {
   "cell_type": "code",
   "execution_count": null,
   "metadata": {
    "collapsed": false
   },
   "outputs": [],
   "source": [
    "env_name = \"2d\"\n",
    "model_name = env_name + \".h5\"\n",
    "data_name = env_name + \".npz\"\n",
    "env_obj = rbl.env_dict[env_name]\n",
    "\n",
    "# create an initial object\n",
    "link_lengthes = [1, 3, 1, 1, 1, 1, 1]\n",
    "initial_angles = [0, 0, 0, 0, -np.pi/4, 0]\n",
    "initial_angular_velocities = np.zeros(env_obj.num_joints)\n",
    "\n",
    "initial_rm = rbl.Robotic_Manipulator_Naive(link_lengthes, initial_angles, initial_angular_velocities)"
   ]
  },
  {
   "cell_type": "code",
   "execution_count": null,
   "metadata": {
    "collapsed": true
   },
   "outputs": [],
   "source": []
  },
  {
   "cell_type": "code",
   "execution_count": null,
   "metadata": {
    "collapsed": true
   },
   "outputs": [],
   "source": []
  },
  {
   "cell_type": "markdown",
   "metadata": {},
   "source": [
    "## test the end-effector speed calculation"
   ]
  },
  {
   "cell_type": "code",
   "execution_count": 2,
   "metadata": {
    "collapsed": true
   },
   "outputs": [],
   "source": [
    "env_name = \"2d\"\n",
    "env_obj = rbl.Env2D()"
   ]
  },
  {
   "cell_type": "code",
   "execution_count": 9,
   "metadata": {
    "collapsed": false
   },
   "outputs": [
    {
     "name": "stdout",
     "output_type": "stream",
     "text": [
      "[[ 0.  0.  1.  1.]\n",
      " [ 0.  0.  4.  1.]\n",
      " [ 0.  1.  4.  1.]\n",
      " [ 0.  2.  4.  1.]\n",
      " [ 0.  3.  4.  1.]\n",
      " [ 1.  3.  4.  1.]\n",
      " [ 2.  3.  4.  1.]]\n",
      "[-1.00000008  2.00000017  0.          0.        ]\n"
     ]
    }
   ],
   "source": [
    "link_lengthes = [1, 3, 1, 1, 1, 1, 1]\n",
    "initial_angles = [0, 0, 0, 0, 0, 0]\n",
    "initial_angular_velocities = [0, 0, 0, 1, 0, 0]\n",
    "rm = rbl.Robotic_Manipulator_Naive(link_lengthes, initial_angles, initial_angular_velocities)\n",
    "print(rm.loc_joints())\n",
    "print(rm.cal_ee_speed())"
   ]
  },
  {
   "cell_type": "code",
   "execution_count": null,
   "metadata": {
    "collapsed": false
   },
   "outputs": [],
   "source": []
  },
  {
   "cell_type": "code",
   "execution_count": 4,
   "metadata": {
    "collapsed": false
   },
   "outputs": [
    {
     "data": {
      "text/plain": [
       "array([-3.00000025,  2.00000017,  0.        ,  0.        ])"
      ]
     },
     "execution_count": 4,
     "metadata": {},
     "output_type": "execute_result"
    }
   ],
   "source": []
  },
  {
   "cell_type": "markdown",
   "metadata": {},
   "source": [
    "## test movements joint-by-joint"
   ]
  },
  {
   "cell_type": "code",
   "execution_count": null,
   "metadata": {
    "collapsed": false
   },
   "outputs": [],
   "source": [
    "max_rotation = np.pi / 2\n",
    "num_steps = 20\n",
    "rotation_angles = np.concatenate((np.linspace(0, max_rotation, num=num_steps), \n",
    "                                np.linspace(max_rotation, 0, num=num_steps),\n",
    "                                np.linspace(0, -max_rotation, num=num_steps),\n",
    "                                np.linspace(-max_rotation, 0, num=num_steps)))\n",
    "num_angles = len(rotation_angles)\n",
    "# draw initial configuration of the robot\n",
    "qs = np.zeros(num_rotations)\n",
    "rm.configure_robots(qs)\n",
    "draw_background()\n",
    "objs2delete = draw_robotics(rm.joint_abs_locations)\n",
    "\n",
    "for idx in xrange(num_rotations):\n",
    "    for idj in xrange(num_angles):\n",
    "        rate(20)\n",
    "        qs[idx] = rotation_angles[idj]\n",
    "        rm.configure_robots(qs)\n",
    "        objs2delete = draw_robotics(rm.joint_abs_locations, objs2delete)"
   ]
  },
  {
   "cell_type": "code",
   "execution_count": null,
   "metadata": {
    "collapsed": true
   },
   "outputs": [],
   "source": []
  }
 ],
 "metadata": {
  "kernelspec": {
   "display_name": "Python 2",
   "language": "python",
   "name": "python2"
  },
  "language_info": {
   "codemirror_mode": {
    "name": "ipython",
    "version": 2
   },
   "file_extension": ".py",
   "mimetype": "text/x-python",
   "name": "python",
   "nbconvert_exporter": "python",
   "pygments_lexer": "ipython2",
   "version": "2.7.13"
  }
 },
 "nbformat": 4,
 "nbformat_minor": 0
}

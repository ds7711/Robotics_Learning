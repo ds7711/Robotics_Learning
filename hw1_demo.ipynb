{
 "cells": [
  {
   "cell_type": "code",
   "execution_count": 1,
   "metadata": {
    "collapsed": false
   },
   "outputs": [
    {
     "data": {
      "application/javascript": [
       "require.undef(\"nbextensions/vpython_libraries/glow.min\");"
      ],
      "text/plain": [
       "<IPython.core.display.Javascript object>"
      ]
     },
     "metadata": {},
     "output_type": "display_data"
    },
    {
     "data": {
      "application/javascript": [
       "require.undef(\"nbextensions/vpython_libraries/glowcomm\");"
      ],
      "text/plain": [
       "<IPython.core.display.Javascript object>"
      ]
     },
     "metadata": {},
     "output_type": "display_data"
    },
    {
     "data": {
      "application/javascript": [
       "require.undef(\"nbextensions/vpython_libraries/jquery-ui.custom.min\");"
      ],
      "text/plain": [
       "<IPython.core.display.Javascript object>"
      ]
     },
     "metadata": {},
     "output_type": "display_data"
    },
    {
     "data": {
      "application/javascript": [
       "require([\"nbextensions/vpython_libraries/glow.min\"], function(){console.log(\"GLOW LOADED\");})"
      ],
      "text/plain": [
       "<IPython.core.display.Javascript object>"
      ]
     },
     "metadata": {},
     "output_type": "display_data"
    },
    {
     "data": {
      "application/javascript": [
       "require([\"nbextensions/vpython_libraries/glowcomm\"], function(){console.log(\"GLOWCOMM LOADED\");})"
      ],
      "text/plain": [
       "<IPython.core.display.Javascript object>"
      ]
     },
     "metadata": {},
     "output_type": "display_data"
    },
    {
     "data": {
      "application/javascript": [
       "require([\"nbextensions/vpython_libraries/jquery-ui.custom.min\"], function(){console.log(\"JQUERY LOADED\");})"
      ],
      "text/plain": [
       "<IPython.core.display.Javascript object>"
      ]
     },
     "metadata": {},
     "output_type": "display_data"
    },
    {
     "data": {
      "text/html": [
       "<div id=\"glowscript\" class=\"glowscript\"></div>"
      ],
      "text/plain": [
       "<IPython.core.display.HTML object>"
      ]
     },
     "metadata": {},
     "output_type": "display_data"
    },
    {
     "data": {
      "application/javascript": [
       "window.__context = { glowscript_container: $(\"#glowscript\").removeAttr(\"id\")}"
      ],
      "text/plain": [
       "<IPython.core.display.Javascript object>"
      ]
     },
     "metadata": {},
     "output_type": "display_data"
    }
   ],
   "source": [
    "# import libraries\n",
    "from vpython import *\n",
    "import numpy as np\n",
    "import robotics_library as rbl"
   ]
  },
  {
   "cell_type": "code",
   "execution_count": 2,
   "metadata": {
    "collapsed": true
   },
   "outputs": [],
   "source": [
    "def draw_background():\n",
    "    scene = canvas(background=color.black, up=vector(-1, -1, 0), height=600, center=vector(0, 0, 0))\n",
    "    scene.camera.pos = vector(3.5, 3.5, 10)\n",
    "    scene.camera.axis = vector(-3.5, -3.5, -10)\n",
    "    \n",
    "    # plot the axises\n",
    "    axis_length = 3\n",
    "    x = arrow(pos=vector(0,0,0), axis=vector(axis_length,0,0), shaftwidth=0.1, color=color.red)\n",
    "    text(text='x', pos=vector(axis_length,0,0), axis=vector(axis_length,0,0))\n",
    "    y = arrow(pos=vector(0,0,0), axis=vector(0,axis_length,0), shaftwidth=0.1, color=color.green)\n",
    "    text(text='y', pos=vector(0,axis_length,0), axis=vector(0,axis_length,0))\n",
    "    z = arrow(pos=vector(0,0,0), axis=vector(0,0,-axis_length), shaftwidth=0.1, color=color.blue)\n",
    "    text(text='-z', pos=vector(0,0,-axis_length), axis=vector(0,0,-axis_length))\n",
    "    return(scene)\n",
    "\n",
    "def draw_robotics(joint_locs, objects2delete=[]):\n",
    "    \n",
    "    # delete the old positions\n",
    "    for obj in objects2delete:\n",
    "        obj.visible = False\n",
    "        del obj \n",
    "\n",
    "    # color list\n",
    "    color_list = [color.cyan, color.yellow, color.magenta, color.orange, vector(0.7, 0.2, 0.1),\n",
    "                  vector(0.2, 0.1, 0.7), vector(0.7, 0.7, 0.8)]\n",
    "    \n",
    "    # draw the links\n",
    "    curve_list = [[] for _ in xrange(len(joint_locs))] # container to store the objects that make up the robot\n",
    "    curve_list[0] = curve(pos=[vector(0, 0, 0), vector(*joint_locs[0, :3])], radius=0.5)\n",
    "\n",
    "    for idx in xrange(1, len(joint_locs), 1):\n",
    "        p0 = vector(*joint_locs[idx-1, :3])\n",
    "        p1 = vector(*joint_locs[idx, :3])\n",
    "        curve_list[idx] = curve(pos=[p0, p1], color=color_list[idx])\n",
    "        \n",
    "    end_effector = box(pos=vector(*joint_locs[-1, :3]), length=0.7, height=0.2, width=0.3)\n",
    "    curve_list.append(end_effector)\n",
    "\n",
    "    return(curve_list)"
   ]
  },
  {
   "cell_type": "code",
   "execution_count": 3,
   "metadata": {
    "collapsed": true
   },
   "outputs": [],
   "source": [
    "link_lengthes = [1, 3, 1, 1, 1, 1, 1]\n",
    "initial_angles = [0, 0, 0, 0, np.pi, 0]\n",
    "rm = rbl.Robotic_Manipulator_Naive(link_lengthes, initial_angles)\n",
    "num_rotations = len(initial_angles)"
   ]
  },
  {
   "cell_type": "markdown",
   "metadata": {},
   "source": [
    "### joint by joint movements"
   ]
  },
  {
   "cell_type": "code",
   "execution_count": 4,
   "metadata": {
    "collapsed": false
   },
   "outputs": [
    {
     "data": {
      "text/html": [
       "<div id=\"glowscript\" class=\"glowscript\"></div>"
      ],
      "text/plain": [
       "<IPython.core.display.HTML object>"
      ]
     },
     "metadata": {},
     "output_type": "display_data"
    },
    {
     "data": {
      "application/javascript": [
       "window.__context = { glowscript_container: $(\"#glowscript\").removeAttr(\"id\")}"
      ],
      "text/plain": [
       "<IPython.core.display.Javascript object>"
      ]
     },
     "metadata": {},
     "output_type": "display_data"
    }
   ],
   "source": [
    "max_rotation = np.pi / 2\n",
    "num_steps = 20\n",
    "rotation_angles = np.concatenate((np.linspace(0, max_rotation, num=num_steps), \n",
    "                                np.linspace(max_rotation, 0, num=num_steps),\n",
    "                                np.linspace(0, -max_rotation, num=num_steps),\n",
    "                                np.linspace(-max_rotation, 0, num=num_steps)))\n",
    "num_angles = len(rotation_angles)\n",
    "# draw initial configuration of the robot\n",
    "qs = np.zeros(num_rotations)\n",
    "rm.configure_robots(qs)\n",
    "draw_background()\n",
    "objs2delete = draw_robotics(rm.joint_abs_locations)\n",
    "\n",
    "for idx in xrange(num_rotations):\n",
    "    for idj in xrange(num_angles):\n",
    "        rate(20)\n",
    "        qs[idx] = rotation_angles[idj]\n",
    "        rm.configure_robots(qs)\n",
    "        objs2delete = draw_robotics(rm.joint_abs_locations, objs2delete)"
   ]
  },
  {
   "cell_type": "markdown",
   "metadata": {},
   "source": [
    "### random movements"
   ]
  },
  {
   "cell_type": "code",
   "execution_count": 5,
   "metadata": {
    "collapsed": false,
    "scrolled": false
   },
   "outputs": [
    {
     "data": {
      "text/html": [
       "<div id=\"glowscript\" class=\"glowscript\"></div>"
      ],
      "text/plain": [
       "<IPython.core.display.HTML object>"
      ]
     },
     "metadata": {},
     "output_type": "display_data"
    },
    {
     "data": {
      "application/javascript": [
       "window.__context = { glowscript_container: $(\"#glowscript\").removeAttr(\"id\")}"
      ],
      "text/plain": [
       "<IPython.core.display.Javascript object>"
      ]
     },
     "metadata": {},
     "output_type": "display_data"
    }
   ],
   "source": [
    "target_angles = (np.random.rand(num_rotations) - 0.5) * np.pi\n",
    "target_angles[0] = np.pi / 2\n",
    "num_steps = 200\n",
    "delta_angles = target_angles / num_steps\n",
    "\n",
    "# draw initial configuration of the robot\n",
    "qs = np.zeros(num_rotations)\n",
    "rm.configure_robots(qs)\n",
    "draw_background()\n",
    "objs2delete = draw_robotics(rm.joint_abs_locations)\n",
    "\n",
    "# draw the movements\n",
    "for idx in xrange(num_steps):\n",
    "    rate(20)\n",
    "    qs += delta_angles\n",
    "    rm.configure_robots(qs)\n",
    "    objs2delete = draw_robotics(rm.joint_abs_locations, objs2delete)"
   ]
  },
  {
   "cell_type": "markdown",
   "metadata": {},
   "source": [
    "### input the rotation angles and display"
   ]
  },
  {
   "cell_type": "code",
   "execution_count": 6,
   "metadata": {
    "collapsed": false
   },
   "outputs": [
    {
     "data": {
      "text/html": [
       "<div id=\"glowscript\" class=\"glowscript\"></div>"
      ],
      "text/plain": [
       "<IPython.core.display.HTML object>"
      ]
     },
     "metadata": {},
     "output_type": "display_data"
    },
    {
     "data": {
      "application/javascript": [
       "window.__context = { glowscript_container: $(\"#glowscript\").removeAttr(\"id\")}"
      ],
      "text/plain": [
       "<IPython.core.display.Javascript object>"
      ]
     },
     "metadata": {},
     "output_type": "display_data"
    }
   ],
   "source": [
    "rm = rbl.Robotic_Manipulator_Naive(link_lengthes, initial_angles)\n",
    "draw_background()\n",
    "objs = draw_robotics(rm.joint_abs_locations)\n",
    "qs = [np.pi/4, 0, 0, 0, 0, 0]\n",
    "rm.configure_robots(qs)\n",
    "objs = draw_robotics(rm.joint_abs_locations, objs)"
   ]
  },
  {
   "cell_type": "code",
   "execution_count": null,
   "metadata": {
    "collapsed": true
   },
   "outputs": [],
   "source": []
  }
 ],
 "metadata": {
  "kernelspec": {
   "display_name": "VPython",
   "language": "python",
   "name": "vpython"
  },
  "language_info": {
   "codemirror_mode": {
    "name": "ipython",
    "version": 2
   },
   "file_extension": ".py",
   "mimetype": "text/x-python",
   "name": "python",
   "nbconvert_exporter": "python",
   "pygments_lexer": "ipython2",
   "version": "2.7.12"
  }
 },
 "nbformat": 4,
 "nbformat_minor": 2
}
